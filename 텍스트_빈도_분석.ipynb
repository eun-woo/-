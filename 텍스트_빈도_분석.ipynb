{
  "nbformat": 4,
  "nbformat_minor": 0,
  "metadata": {
    "colab": {
      "provenance": [],
      "mount_file_id": "1EuX2BQw1iCyso_5ViKLz1wfVbsDSWYuS",
      "authorship_tag": "ABX9TyNhcECWUsVTp213HOzB74ff",
      "include_colab_link": true
    },
    "kernelspec": {
      "name": "python3",
      "display_name": "Python 3"
    },
    "language_info": {
      "name": "python"
    }
  },
  "cells": [
    {
      "cell_type": "markdown",
      "metadata": {
        "id": "view-in-github",
        "colab_type": "text"
      },
      "source": [
        "<a href=\"https://colab.research.google.com/github/eun-woo/data_analysis/blob/main/%ED%85%8D%EC%8A%A4%ED%8A%B8_%EB%B9%88%EB%8F%84_%EB%B6%84%EC%84%9D.ipynb\" target=\"_parent\"><img src=\"https://colab.research.google.com/assets/colab-badge.svg\" alt=\"Open In Colab\"/></a>"
      ]
    },
    {
      "cell_type": "code",
      "execution_count": 1,
      "metadata": {
        "id": "-ISWRHkW3-ZE"
      },
      "outputs": [],
      "source": [
        "import glob"
      ]
    },
    {
      "cell_type": "code",
      "source": [
        "glob.glob('*.ipynb')"
      ],
      "metadata": {
        "colab": {
          "base_uri": "https://localhost:8080/"
        },
        "id": "hxE8jHHP4ENQ",
        "outputId": "6da97b61-cfe6-4d50-e5a6-4e1a0261b662"
      },
      "execution_count": 2,
      "outputs": [
        {
          "output_type": "execute_result",
          "data": {
            "text/plain": [
              "[]"
            ]
          },
          "metadata": {},
          "execution_count": 2
        }
      ]
    },
    {
      "cell_type": "code",
      "source": [
        "glob.glob('**/*.xls', recursive=True)"
      ],
      "metadata": {
        "colab": {
          "base_uri": "https://localhost:8080/"
        },
        "id": "FTCXiATV4L7N",
        "outputId": "f794c69d-7829-4805-dc91-8671016168f4"
      },
      "execution_count": 3,
      "outputs": [
        {
          "output_type": "execute_result",
          "data": {
            "text/plain": [
              "['drive/MyDrive/data/myCabinetExcelData.xls']"
            ]
          },
          "metadata": {},
          "execution_count": 3
        }
      ]
    },
    {
      "cell_type": "code",
      "source": [
        "glob.glob('./**/', recursive=True)"
      ],
      "metadata": {
        "colab": {
          "base_uri": "https://localhost:8080/"
        },
        "id": "hZlngSt54x7a",
        "outputId": "9c431d8e-e9fd-4854-f320-a56fabb683b5"
      },
      "execution_count": 4,
      "outputs": [
        {
          "output_type": "execute_result",
          "data": {
            "text/plain": [
              "['./',\n",
              " './drive/',\n",
              " './drive/MyDrive/',\n",
              " './drive/MyDrive/Colab Notebooks/',\n",
              " './drive/MyDrive/data/',\n",
              " './drive/MyDrive/data/text-transfer-smilegate-bart-eos/',\n",
              " './drive/MyDrive/data/text-transfer-smilegate-bart-eos/runs/',\n",
              " './drive/MyDrive/data/text-transfer-smilegate-bart-eos/runs/Aug27_13-19-09_2e1b0c0a8310/',\n",
              " './drive/MyDrive/data/text-transfer-smilegate-bart-eos/runs/Aug27_13-19-09_2e1b0c0a8310/1661606378.4224393/',\n",
              " './drive/MyDrive/data/text-transfer-smilegate-bart-eos/runs/Aug27_13-19-09_2e1b0c0a8310/1661606686.0093546/',\n",
              " './drive/MyDrive/data/text-transfer-smilegate-bart-eos/runs/Aug27_13-36-42_b766b478df25/',\n",
              " './drive/MyDrive/data/text-transfer-smilegate-bart-eos/runs/Aug27_13-36-42_b766b478df25/1661607413.6945434/',\n",
              " './drive/MyDrive/data/text-transfer-smilegate-bart-eos/runs/Aug27_13-43-41_a8335d66dd5d/',\n",
              " './drive/MyDrive/data/text-transfer-smilegate-bart-eos/runs/Aug27_13-43-41_a8335d66dd5d/1661607833.3728096/',\n",
              " './drive/MyDrive/data/text-transfer-smilegate-bart-eos/runs/Sep06_09-00-45_45b9cdc16acb/',\n",
              " './drive/MyDrive/data/text-transfer-smilegate-bart-eos/runs/Sep06_09-00-45_45b9cdc16acb/1662454877.250946/',\n",
              " './drive/MyDrive/data/text-transfer-smilegate-bart-eos/runs/Sep13_02-14-13_755dc0bdbf1e/',\n",
              " './drive/MyDrive/data/text-transfer-smilegate-bart-eos/runs/Sep13_02-14-13_755dc0bdbf1e/1663035261.4733834/',\n",
              " './drive/MyDrive/data/text-transfer-smilegate-bart-eos/runs/Sep13_14-10-34_03134d1fd386/',\n",
              " './drive/MyDrive/data/text-transfer-smilegate-bart-eos/runs/Sep13_14-10-34_03134d1fd386/1663078300.00398/',\n",
              " './drive/MyDrive/data/text-transfer-smilegate-bart-eos/runs/Sep13_16-59-48_f435b200d5c4/',\n",
              " './drive/MyDrive/data/text-transfer-smilegate-bart-eos/runs/Sep13_16-59-48_f435b200d5c4/1663088389.0504413/',\n",
              " './drive/MyDrive/data/text-transfer-smilegate-bart-eos/checkpoint-1000/',\n",
              " './drive/MyDrive/data/text-transfer-smilegate-bart-eos/checkpoint-2000/',\n",
              " './drive/MyDrive/data/text-transfer-smilegate-bart-eos/checkpoint-3000/',\n",
              " './drive/MyDrive/data/text-transfer-smilegate-bart-eos/checkpoint-4000/',\n",
              " './drive/MyDrive/data/text-transfer-smilegate160/',\n",
              " './drive/MyDrive/data/text-transfer-smilegate160/runs/',\n",
              " './drive/MyDrive/data/text-transfer-smilegate160/runs/Aug27_13-01-12_2e1b0c0a8310/',\n",
              " './drive/MyDrive/data/text-transfer-smilegate160/runs/Aug27_13-01-12_2e1b0c0a8310/1661605305.9558234/',\n",
              " './drive/MyDrive/nlpbook/',\n",
              " './drive/MyDrive/nlpbook/bbpe/',\n",
              " './drive/MyDrive/nlpbook/wordpiece/',\n",
              " './drive/MyDrive/한국인 감정인식/',\n",
              " './drive/MyDrive/dataset/',\n",
              " './drive/MyDrive/dataset/__pycache__/',\n",
              " './drive/Shareddrives/',\n",
              " './sample_data/']"
            ]
          },
          "metadata": {},
          "execution_count": 4
        }
      ]
    },
    {
      "cell_type": "code",
      "source": [
        "glob.glob('.i*')"
      ],
      "metadata": {
        "colab": {
          "base_uri": "https://localhost:8080/"
        },
        "id": "CFTqV5dY45_l",
        "outputId": "efd11259-072f-4bb9-fa38-86a66acacc88"
      },
      "execution_count": 5,
      "outputs": [
        {
          "output_type": "execute_result",
          "data": {
            "text/plain": [
              "[]"
            ]
          },
          "metadata": {},
          "execution_count": 5
        }
      ]
    },
    {
      "cell_type": "code",
      "source": [
        "glob.glob('./[0-9]*.*')"
      ],
      "metadata": {
        "colab": {
          "base_uri": "https://localhost:8080/"
        },
        "id": "BTixPBqp5B2p",
        "outputId": "eb16955b-f528-4835-f145-b260ad64de63"
      },
      "execution_count": 6,
      "outputs": [
        {
          "output_type": "execute_result",
          "data": {
            "text/plain": [
              "[]"
            ]
          },
          "metadata": {},
          "execution_count": 6
        }
      ]
    },
    {
      "cell_type": "code",
      "source": [
        "glob.glob('./*[1-2]*.*')"
      ],
      "metadata": {
        "colab": {
          "base_uri": "https://localhost:8080/"
        },
        "id": "Nj8a5rB25b3M",
        "outputId": "152b7304-1f39-4136-d68f-20cd1321c078"
      },
      "execution_count": 7,
      "outputs": [
        {
          "output_type": "execute_result",
          "data": {
            "text/plain": [
              "[]"
            ]
          },
          "metadata": {},
          "execution_count": 7
        }
      ]
    },
    {
      "cell_type": "code",
      "source": [
        "def my_add(a, b):\n",
        "  result = a+b\n",
        "  print(f\"{a}+{b}={result}\")\n",
        "  return result\n",
        "\n",
        "from functools import reduce\n",
        "numbers = {0, 1, 2, 3, 4}\n",
        "reduce(my_add, numbers)"
      ],
      "metadata": {
        "colab": {
          "base_uri": "https://localhost:8080/"
        },
        "id": "2dNd8TM254qk",
        "outputId": "067227dc-3a6e-44c8-c908-7c0f4cb798d9"
      },
      "execution_count": 8,
      "outputs": [
        {
          "output_type": "stream",
          "name": "stdout",
          "text": [
            "0+1=1\n",
            "1+2=3\n",
            "3+3=6\n",
            "6+4=10\n"
          ]
        },
        {
          "output_type": "execute_result",
          "data": {
            "text/plain": [
              "10"
            ]
          },
          "metadata": {},
          "execution_count": 8
        }
      ]
    },
    {
      "cell_type": "code",
      "source": [
        "import functools\n",
        "\n",
        "li = [1, 3, 5, 6, 2]\n",
        "\n",
        "print(\"sum : \", end=\"\")\n",
        "print(functools.reduce(lambda a, b: a+b, li))\n",
        "\n",
        "print(\"max: \", end=\"\")\n",
        "print(functools.reduce(lambda a, b: a if a > b else b, li))"
      ],
      "metadata": {
        "colab": {
          "base_uri": "https://localhost:8080/"
        },
        "id": "MixmFmDu6T2t",
        "outputId": "38c65fb6-785d-4ff1-a0fe-b7384aa201c5"
      },
      "execution_count": 9,
      "outputs": [
        {
          "output_type": "stream",
          "name": "stdout",
          "text": [
            "sum : 17\n",
            "max: 6\n"
          ]
        }
      ]
    },
    {
      "cell_type": "code",
      "source": [
        "import nltk\n",
        "nltk.download('punkt')"
      ],
      "metadata": {
        "colab": {
          "base_uri": "https://localhost:8080/"
        },
        "id": "3QViUva_9C-E",
        "outputId": "ecb194eb-bcc9-4a01-aef4-1a8aeeca8f0e"
      },
      "execution_count": 10,
      "outputs": [
        {
          "output_type": "stream",
          "name": "stderr",
          "text": [
            "[nltk_data] Downloading package punkt to /root/nltk_data...\n",
            "[nltk_data]   Unzipping tokenizers/punkt.zip.\n"
          ]
        },
        {
          "output_type": "execute_result",
          "data": {
            "text/plain": [
              "True"
            ]
          },
          "metadata": {},
          "execution_count": 10
        }
      ]
    },
    {
      "cell_type": "code",
      "source": [
        "from nltk.tokenize import word_tokenize\n",
        "\n",
        "s = \"Good muffins cost $3.88\\nin New York.  Please buy me \\two of them.\\n\\nThanks.\"\n",
        "\n",
        "word_tokenize(s)"
      ],
      "metadata": {
        "colab": {
          "base_uri": "https://localhost:8080/"
        },
        "id": "Lc4HFb3p8KLu",
        "outputId": "f6ff23b9-0bfc-4394-bf75-a1baef024489"
      },
      "execution_count": 11,
      "outputs": [
        {
          "output_type": "execute_result",
          "data": {
            "text/plain": [
              "['Good',\n",
              " 'muffins',\n",
              " 'cost',\n",
              " '$',\n",
              " '3.88',\n",
              " 'in',\n",
              " 'New',\n",
              " 'York',\n",
              " '.',\n",
              " 'Please',\n",
              " 'buy',\n",
              " 'me',\n",
              " 'wo',\n",
              " 'of',\n",
              " 'them',\n",
              " '.',\n",
              " 'Thanks',\n",
              " '.']"
            ]
          },
          "metadata": {},
          "execution_count": 11
        }
      ]
    },
    {
      "cell_type": "code",
      "source": [
        "from nltk.tokenize import sent_tokenize\n",
        "\n",
        "print(sent_tokenize(s))"
      ],
      "metadata": {
        "colab": {
          "base_uri": "https://localhost:8080/"
        },
        "id": "peSUusUE_Z5K",
        "outputId": "2479dcd3-bc26-4cbb-d756-c0f93219d3ef"
      },
      "execution_count": 12,
      "outputs": [
        {
          "output_type": "stream",
          "name": "stdout",
          "text": [
            "['Good muffins cost $3.88\\nin New York.', 'Please buy me \\two of them.', 'Thanks.']\n"
          ]
        }
      ]
    },
    {
      "cell_type": "code",
      "source": [
        "[word_tokenize(t) for t in sent_tokenize(s)]"
      ],
      "metadata": {
        "colab": {
          "base_uri": "https://localhost:8080/"
        },
        "id": "yrUY8HOz8uHs",
        "outputId": "bf79fd78-339a-4eaf-e344-cabfa1e05c98"
      },
      "execution_count": 13,
      "outputs": [
        {
          "output_type": "execute_result",
          "data": {
            "text/plain": [
              "[['Good', 'muffins', 'cost', '$', '3.88', 'in', 'New', 'York', '.'],\n",
              " ['Please', 'buy', 'me', 'wo', 'of', 'them', '.'],\n",
              " ['Thanks', '.']]"
            ]
          },
          "metadata": {},
          "execution_count": 13
        }
      ]
    },
    {
      "cell_type": "code",
      "source": [
        "import nltk\n",
        "nltk.download('stopwords')"
      ],
      "metadata": {
        "colab": {
          "base_uri": "https://localhost:8080/"
        },
        "id": "KGdglDFXBSs8",
        "outputId": "07160603-284d-44c5-c0e3-7cfd56dcc221"
      },
      "execution_count": 14,
      "outputs": [
        {
          "output_type": "stream",
          "name": "stderr",
          "text": [
            "[nltk_data] Downloading package stopwords to /root/nltk_data...\n",
            "[nltk_data]   Unzipping corpora/stopwords.zip.\n"
          ]
        },
        {
          "output_type": "execute_result",
          "data": {
            "text/plain": [
              "True"
            ]
          },
          "metadata": {},
          "execution_count": 14
        }
      ]
    },
    {
      "cell_type": "code",
      "source": [
        "import nltk\n",
        "from nltk.corpus import stopwords\n",
        "\n",
        "print(len(stopwords.words('english')))\n",
        "\n"
      ],
      "metadata": {
        "colab": {
          "base_uri": "https://localhost:8080/"
        },
        "id": "WuMcHAFdAJx-",
        "outputId": "d08f5552-9484-4951-a66d-1cdf4c0eae84"
      },
      "execution_count": 15,
      "outputs": [
        {
          "output_type": "stream",
          "name": "stdout",
          "text": [
            "179\n"
          ]
        }
      ]
    },
    {
      "cell_type": "code",
      "source": [
        "from nltk.corpus import stopwords\n",
        "from nltk.tokenize import word_tokenize\n",
        "\n",
        "stop_words = set(stopwords.words('english'))\n",
        "\n",
        "example_sent = \"\"\"This is a sample sentence,\n",
        "showing off the stop words filtration.\"\"\"\n",
        "\n",
        "word_tokens = word_tokenize(example_sent)\n",
        "\n",
        "filtered_sentence = [w for w in word_tokens if not w.lower() in stop_words]\n",
        "\n",
        "filtered_sentence"
      ],
      "metadata": {
        "colab": {
          "base_uri": "https://localhost:8080/"
        },
        "id": "LtwuiKwEBPXw",
        "outputId": "94b8bd66-44ee-4bed-85d3-66c6c1806f77"
      },
      "execution_count": 16,
      "outputs": [
        {
          "output_type": "execute_result",
          "data": {
            "text/plain": [
              "['sample', 'sentence', ',', 'showing', 'stop', 'words', 'filtration', '.']"
            ]
          },
          "metadata": {},
          "execution_count": 16
        }
      ]
    },
    {
      "cell_type": "code",
      "source": [
        "\n",
        "import nltk\n",
        "nltk.download('wordnet')\n",
        "import nltk\n",
        "nltk.download('omw-1.4')"
      ],
      "metadata": {
        "colab": {
          "base_uri": "https://localhost:8080/"
        },
        "id": "_th7TfyfGAUC",
        "outputId": "158dbb91-5528-4c4a-c405-12bd02e46c08"
      },
      "execution_count": 17,
      "outputs": [
        {
          "output_type": "stream",
          "name": "stderr",
          "text": [
            "[nltk_data] Downloading package wordnet to /root/nltk_data...\n",
            "[nltk_data] Downloading package omw-1.4 to /root/nltk_data...\n"
          ]
        },
        {
          "output_type": "execute_result",
          "data": {
            "text/plain": [
              "True"
            ]
          },
          "metadata": {},
          "execution_count": 17
        }
      ]
    },
    {
      "cell_type": "code",
      "source": [
        "from nltk.stem import WordNetLemmatizer\n",
        "wnl = WordNetLemmatizer()\n",
        "\n",
        "print(wnl.lemmatize('dogs'))\n",
        "print(wnl.lemmatize('churches'))\n",
        "print(wnl.lemmatize('aardwolves'))\n",
        "\n",
        "print(wnl.lemmatize(\"better\", pos = \"a\"))"
      ],
      "metadata": {
        "colab": {
          "base_uri": "https://localhost:8080/"
        },
        "id": "JLYA6OnKEegC",
        "outputId": "e0f99930-aa97-4463-ceb7-01a57c8fcfec"
      },
      "execution_count": 18,
      "outputs": [
        {
          "output_type": "stream",
          "name": "stdout",
          "text": [
            "dog\n",
            "church\n",
            "aardwolf\n",
            "good\n"
          ]
        }
      ]
    },
    {
      "cell_type": "code",
      "source": [
        "word = \"mississippi\"\n",
        "counter = {}\n",
        "\n",
        "for letter in word:\n",
        "  counter[letter] = counter.get(letter, 0)+1\n",
        "\n",
        "counter"
      ],
      "metadata": {
        "colab": {
          "base_uri": "https://localhost:8080/"
        },
        "id": "e3PJbbb7F9m4",
        "outputId": "e225b7a9-6e83-4374-a513-4003e0f03589"
      },
      "execution_count": 19,
      "outputs": [
        {
          "output_type": "execute_result",
          "data": {
            "text/plain": [
              "{'m': 1, 'i': 4, 's': 4, 'p': 2}"
            ]
          },
          "metadata": {},
          "execution_count": 19
        }
      ]
    },
    {
      "cell_type": "code",
      "source": [
        "from collections import Counter\n",
        "Counter('abracadabra')\n"
      ],
      "metadata": {
        "colab": {
          "base_uri": "https://localhost:8080/"
        },
        "id": "bAI4drETIKGi",
        "outputId": "17db1b1f-8b6a-4f10-832d-03faac4ffc38"
      },
      "execution_count": 20,
      "outputs": [
        {
          "output_type": "execute_result",
          "data": {
            "text/plain": [
              "Counter({'a': 5, 'b': 2, 'r': 2, 'c': 1, 'd': 1})"
            ]
          },
          "metadata": {},
          "execution_count": 20
        }
      ]
    },
    {
      "cell_type": "code",
      "source": [
        "Counter('abracadabra').most_common(3)"
      ],
      "metadata": {
        "colab": {
          "base_uri": "https://localhost:8080/"
        },
        "id": "wWVVU36FKE_4",
        "outputId": "131b06e8-144d-4cf5-fae2-09560ff966e5"
      },
      "execution_count": 21,
      "outputs": [
        {
          "output_type": "execute_result",
          "data": {
            "text/plain": [
              "[('a', 5), ('b', 2), ('r', 2)]"
            ]
          },
          "metadata": {},
          "execution_count": 21
        }
      ]
    },
    {
      "cell_type": "code",
      "source": [
        "from collections import Counter\n",
        "\n",
        "letters = Counter({\"i\": 4, \"s\": 4, \"p\": 2, \"m\": 1})\n",
        "letters.update(\"missouri\")\n",
        "letters"
      ],
      "metadata": {
        "colab": {
          "base_uri": "https://localhost:8080/"
        },
        "id": "A2pd7olzKzww",
        "outputId": "95710756-54c3-43ae-9b92-994295a15640"
      },
      "execution_count": 22,
      "outputs": [
        {
          "output_type": "execute_result",
          "data": {
            "text/plain": [
              "Counter({'i': 6, 's': 6, 'p': 2, 'm': 2, 'o': 1, 'u': 1, 'r': 1})"
            ]
          },
          "metadata": {},
          "execution_count": 22
        }
      ]
    },
    {
      "cell_type": "code",
      "source": [
        "from collections import Counter\n",
        "sales = Counter(apple = 25, orange=15, banana=12)\n",
        "\n",
        "monday_sales = Counter(apple=10, orange=8, banana=3)\n",
        "sales.update(monday_sales)\n",
        "print(sales)\n",
        "\n",
        "tuesday_sales = {\"apple\": 4, \"orange\": 7, \"tomato\": 4}\n",
        "sales.update(tuesday_sales)\n",
        "print(sales)"
      ],
      "metadata": {
        "colab": {
          "base_uri": "https://localhost:8080/"
        },
        "id": "Mr5tHZIaLr6d",
        "outputId": "5eb335e3-e47b-4475-de0e-9c94eefd0ea9"
      },
      "execution_count": 23,
      "outputs": [
        {
          "output_type": "stream",
          "name": "stdout",
          "text": [
            "Counter({'apple': 35, 'orange': 23, 'banana': 15})\n",
            "Counter({'apple': 39, 'orange': 30, 'banana': 15, 'tomato': 4})\n"
          ]
        }
      ]
    },
    {
      "cell_type": "code",
      "source": [
        "from collections import Counter\n",
        "sales = Counter(banana=15, tomato=4, apple=39, orange=30)\n",
        "\n",
        "print(sales.most_common(1))\n",
        "\n",
        "print(sales.most_common(2))\n",
        "\n",
        "print(sales.most_common())"
      ],
      "metadata": {
        "colab": {
          "base_uri": "https://localhost:8080/"
        },
        "id": "ErxTPVOWM8nO",
        "outputId": "7bcbf61e-8135-4c4e-8e6a-7b4a3207de24"
      },
      "execution_count": 24,
      "outputs": [
        {
          "output_type": "stream",
          "name": "stdout",
          "text": [
            "[('apple', 39)]\n",
            "[('apple', 39), ('orange', 30)]\n",
            "[('apple', 39), ('orange', 30), ('banana', 15), ('tomato', 4)]\n"
          ]
        }
      ]
    },
    {
      "cell_type": "code",
      "source": [
        "import glob\n",
        "all_files = glob.glob(\"/content/drive/MyDrive/data/myCabinetExcelData.xls\")\n",
        "all_files\n"
      ],
      "metadata": {
        "colab": {
          "base_uri": "https://localhost:8080/"
        },
        "id": "rmM2TGKFO5Y_",
        "outputId": "6bf6af9e-a5c9-4c5f-e268-ad0c882c818f"
      },
      "execution_count": 25,
      "outputs": [
        {
          "output_type": "execute_result",
          "data": {
            "text/plain": [
              "['/content/drive/MyDrive/data/myCabinetExcelData.xls']"
            ]
          },
          "metadata": {},
          "execution_count": 25
        }
      ]
    },
    {
      "cell_type": "code",
      "source": [
        "from nltk.corpus import stopwords\n",
        "from nltk.stem import WordNetLemmatizer\n",
        "from nltk.tokenize import word_tokenize\n",
        "import re\n",
        "\n",
        "stopwords = set(stopwords.words(\"english\"))\n",
        "lemma = WordNetLemmatizer()\n",
        "lemma\n",
        "title = \"Since at least 1914, if not 1909, Hesse had been encountering the newly growing field of psychoanalysis as it moved through the German intellectual circles. During the 1910s, Hesse felt that the psychological difficulties that had tormented him since youth needed to be dealt with through psychotherapy. In 1916–17 he underwent psychoanalytic treatment with Josef Lang, a disciple of Carl Jung. Through his contact with Lang and later, in 1921, from being psychoanalyzed by Jung, Hesse became very interested in Jungian analysis and interpretation. Demian is replete with both Jungian archetypes and Jungian symbolism. In addition, psychoanalysis helped Hesse identify psychological problems which he had experienced in his youth, including internal tension caused by a conflict between his own carnal instincts and the strict moralism of his parents. Such themes appear throughout Demian as semi-autobiographical reflections upon Hesse's own exploration of Jungian philosophy.[2]\"\n",
        "\n",
        "Enwords = re.sub(r\"[^a-zA-Z]+\", \" \", str(title))\n",
        "EnwordsToken = word_tokenize(Enwords.lower())\n",
        "EnwordsTokenStop = [w for w in EnwordsToken if not w in stopwords]\n",
        "EnwordsTokenStopLemma = [lemma.lemmatize(w) for w in EnwordsTokenStop]\n",
        "\n",
        "EnwordsTokenStopLemma"
      ],
      "metadata": {
        "colab": {
          "base_uri": "https://localhost:8080/"
        },
        "id": "EMNXY4XELwT6",
        "outputId": "6617a6b5-3b6d-4b8a-ba10-75aaec547808"
      },
      "execution_count": 26,
      "outputs": [
        {
          "output_type": "execute_result",
          "data": {
            "text/plain": [
              "['since',\n",
              " 'least',\n",
              " 'hesse',\n",
              " 'encountering',\n",
              " 'newly',\n",
              " 'growing',\n",
              " 'field',\n",
              " 'psychoanalysis',\n",
              " 'moved',\n",
              " 'german',\n",
              " 'intellectual',\n",
              " 'circle',\n",
              " 'hesse',\n",
              " 'felt',\n",
              " 'psychological',\n",
              " 'difficulty',\n",
              " 'tormented',\n",
              " 'since',\n",
              " 'youth',\n",
              " 'needed',\n",
              " 'dealt',\n",
              " 'psychotherapy',\n",
              " 'underwent',\n",
              " 'psychoanalytic',\n",
              " 'treatment',\n",
              " 'josef',\n",
              " 'lang',\n",
              " 'disciple',\n",
              " 'carl',\n",
              " 'jung',\n",
              " 'contact',\n",
              " 'lang',\n",
              " 'later',\n",
              " 'psychoanalyzed',\n",
              " 'jung',\n",
              " 'hesse',\n",
              " 'became',\n",
              " 'interested',\n",
              " 'jungian',\n",
              " 'analysis',\n",
              " 'interpretation',\n",
              " 'demian',\n",
              " 'replete',\n",
              " 'jungian',\n",
              " 'archetype',\n",
              " 'jungian',\n",
              " 'symbolism',\n",
              " 'addition',\n",
              " 'psychoanalysis',\n",
              " 'helped',\n",
              " 'hesse',\n",
              " 'identify',\n",
              " 'psychological',\n",
              " 'problem',\n",
              " 'experienced',\n",
              " 'youth',\n",
              " 'including',\n",
              " 'internal',\n",
              " 'tension',\n",
              " 'caused',\n",
              " 'conflict',\n",
              " 'carnal',\n",
              " 'instinct',\n",
              " 'strict',\n",
              " 'moralism',\n",
              " 'parent',\n",
              " 'theme',\n",
              " 'appear',\n",
              " 'throughout',\n",
              " 'demian',\n",
              " 'semi',\n",
              " 'autobiographical',\n",
              " 'reflection',\n",
              " 'upon',\n",
              " 'hesse',\n",
              " 'exploration',\n",
              " 'jungian',\n",
              " 'philosophy']"
            ]
          },
          "metadata": {},
          "execution_count": 26
        }
      ]
    },
    {
      "cell_type": "code",
      "source": [
        "from collections import Counter\n",
        "\n",
        "count = Counter(EnwordsTokenStopLemma)\n",
        "count\n",
        "\n",
        "count_words = dict()\n",
        "for tag, counts in count.most_common(50):\n",
        "  count_words[tag] = counts\n",
        "\n",
        "count_words"
      ],
      "metadata": {
        "colab": {
          "base_uri": "https://localhost:8080/"
        },
        "id": "b9dxzyUtUUq_",
        "outputId": "390fee70-adb9-41b1-b30c-53e9253d7715"
      },
      "execution_count": 27,
      "outputs": [
        {
          "output_type": "execute_result",
          "data": {
            "text/plain": [
              "{'hesse': 5,\n",
              " 'jungian': 4,\n",
              " 'since': 2,\n",
              " 'psychoanalysis': 2,\n",
              " 'psychological': 2,\n",
              " 'youth': 2,\n",
              " 'lang': 2,\n",
              " 'jung': 2,\n",
              " 'demian': 2,\n",
              " 'least': 1,\n",
              " 'encountering': 1,\n",
              " 'newly': 1,\n",
              " 'growing': 1,\n",
              " 'field': 1,\n",
              " 'moved': 1,\n",
              " 'german': 1,\n",
              " 'intellectual': 1,\n",
              " 'circle': 1,\n",
              " 'felt': 1,\n",
              " 'difficulty': 1,\n",
              " 'tormented': 1,\n",
              " 'needed': 1,\n",
              " 'dealt': 1,\n",
              " 'psychotherapy': 1,\n",
              " 'underwent': 1,\n",
              " 'psychoanalytic': 1,\n",
              " 'treatment': 1,\n",
              " 'josef': 1,\n",
              " 'disciple': 1,\n",
              " 'carl': 1,\n",
              " 'contact': 1,\n",
              " 'later': 1,\n",
              " 'psychoanalyzed': 1,\n",
              " 'became': 1,\n",
              " 'interested': 1,\n",
              " 'analysis': 1,\n",
              " 'interpretation': 1,\n",
              " 'replete': 1,\n",
              " 'archetype': 1,\n",
              " 'symbolism': 1,\n",
              " 'addition': 1,\n",
              " 'helped': 1,\n",
              " 'identify': 1,\n",
              " 'problem': 1,\n",
              " 'experienced': 1,\n",
              " 'including': 1,\n",
              " 'internal': 1,\n",
              " 'tension': 1,\n",
              " 'caused': 1,\n",
              " 'conflict': 1}"
            ]
          },
          "metadata": {},
          "execution_count": 27
        }
      ]
    },
    {
      "cell_type": "code",
      "source": [
        "import matplotlib.pyplot as plt\n",
        "\n",
        "plt.figure(figsize=(12,5))\n",
        "plt.xlabel(\"word\")\n",
        "plt.ylabel(\"count\")\n",
        "plt.grid(True)\n",
        "\n",
        "sorted_keys = sorted(count_words.items(), key=lambda x: x[1], reverse = True)\n",
        "sorted_values = sorted(count_words.values(), reverse=True)\n",
        "\n",
        "plt.bar(range(len(count_words)), sorted_values, align='center')\n",
        "plt.xticks(range(len(count_words)), list(sorted_keys), rotation = '85')\n",
        "plt.show"
      ],
      "metadata": {
        "colab": {
          "base_uri": "https://localhost:8080/",
          "height": 450
        },
        "id": "-mQWZ-0SxVfp",
        "outputId": "d36214f0-9a85-4bdc-9cac-0548b52bb965"
      },
      "execution_count": 28,
      "outputs": [
        {
          "output_type": "execute_result",
          "data": {
            "text/plain": [
              "<function matplotlib.pyplot.show(*args, **kw)>"
            ]
          },
          "metadata": {},
          "execution_count": 28
        },
        {
          "output_type": "display_data",
          "data": {
            "text/plain": [
              "<Figure size 864x360 with 1 Axes>"
            ],
            "image/png": "[encoded data removed]"
          },
          "metadata": {
            "needs_background": "light"
          }
        }
      ]
    },
    {
      "cell_type": "code",
      "source": [
        "from wordcloud import WordCloud, STOPWORDS\n",
        "\n",
        "stopwords = set(STOPWORDS)\n",
        "wc = WordCloud(background_color='ivory', stopwords=STOPWORDS, width=800, height=600)\n",
        "cloud = wc.generate_from_frequencies(count_words)\n",
        "\n",
        "plt.figure(figsize=(8,8))\n",
        "plt.imshow(cloud)\n",
        "plt.axis('off')\n",
        "plt.show()"
      ],
      "metadata": {
        "colab": {
          "base_uri": "https://localhost:8080/",
          "height": 366
        },
        "id": "cmbZtkq64Rng",
        "outputId": "c6ce8b0c-676a-4f32-a728-a94d66c51c49"
      },
      "execution_count": 29,
      "outputs": [
        {
          "output_type": "display_data",
          "data": {
            "text/plain": [
              "<Figure size 576x576 with 1 Axes>"
            ],
            "image/png": "[encoded data removed]"
          },
          "metadata": {
            "needs_background": "light"
          }
        }
      ]
    },
    {
      "cell_type": "code",
      "source": [
        "%%bash\n",
        "apt-get update\n",
        "apt-get install g++ openjdk-8-jdk python-dev python3-dev\n",
        "pip3 install JPype1\n",
        "pip3 install konlpy"
      ],
      "metadata": {
        "colab": {
          "base_uri": "https://localhost:8080/"
        },
        "id": "N3FLRJhieSZi",
        "outputId": "1b8a278a-0cb3-4f67-b323-b065af637cd1"
      },
      "execution_count": 30,
      "outputs": [
        {
          "output_type": "stream",
          "name": "stdout",
          "text": [
            "Hit:1 http://archive.ubuntu.com/ubuntu bionic InRelease\n",
            "Get:2 http://archive.ubuntu.com/ubuntu bionic-updates InRelease [88.7 kB]\n",
            "Hit:3 http://ppa.launchpad.net/c2d4u.team/c2d4u4.0+/ubuntu bionic InRelease\n",
            "Get:4 https://cloud.r-project.org/bin/linux/ubuntu bionic-cran40/ InRelease [3,626 B]\n",
            "Hit:5 http://ppa.launchpad.net/cran/libgit2/ubuntu bionic InRelease\n",
            "Get:6 http://archive.ubuntu.com/ubuntu bionic-backports InRelease [83.3 kB]\n",
            "Hit:7 http://ppa.launchpad.net/deadsnakes/ppa/ubuntu bionic InRelease\n",
            "Hit:8 http://ppa.launchpad.net/graphics-drivers/ppa/ubuntu bionic InRelease\n",
            "Get:9 http://security.ubuntu.com/ubuntu bionic-security InRelease [88.7 kB]\n",
            "Ign:10 https://developer.download.nvidia.com/compute/machine-learning/repos/ubuntu1804/x86_64  InRelease\n",
            "Get:11 https://developer.download.nvidia.com/compute/cuda/repos/ubuntu1804/x86_64  InRelease [1,581 B]\n",
            "Hit:12 https://developer.download.nvidia.com/compute/machine-learning/repos/ubuntu1804/x86_64  Release\n",
            "Get:13 http://archive.ubuntu.com/ubuntu bionic-updates/main amd64 Packages [3,496 kB]\n",
            "Get:14 http://archive.ubuntu.com/ubuntu bionic-updates/restricted amd64 Packages [1,303 kB]\n",
            "Get:15 http://archive.ubuntu.com/ubuntu bionic-updates/universe amd64 Packages [2,338 kB]\n",
            "Get:16 https://developer.download.nvidia.com/compute/cuda/repos/ubuntu1804/x86_64  Packages [1,038 kB]\n",
            "Get:18 http://security.ubuntu.com/ubuntu bionic-security/main amd64 Packages [3,068 kB]\n",
            "Get:19 http://security.ubuntu.com/ubuntu bionic-security/universe amd64 Packages [1,563 kB]\n",
            "Fetched 13.1 MB in 4s (3,676 kB/s)\n",
            "Reading package lists...\n",
            "Reading package lists...\n",
            "Building dependency tree...\n",
            "Reading state information...\n",
            "python-dev is already the newest version (2.7.15~rc1-1).\n",
            "g++ is already the newest version (4:7.4.0-1ubuntu2.3).\n",
            "g++ set to manually installed.\n",
            "python3-dev is already the newest version (3.6.7-1~18.04).\n",
            "python3-dev set to manually installed.\n",
            "The following package was automatically installed and is no longer required:\n",
            "  libnvidia-common-460\n",
            "Use 'apt autoremove' to remove it.\n",
            "The following additional packages will be installed:\n",
            "  fonts-dejavu-core fonts-dejavu-extra libatk-wrapper-java\n",
            "  libatk-wrapper-java-jni libgail-common libgail18 libgtk2.0-0 libgtk2.0-bin\n",
            "  libgtk2.0-common libxxf86dga1 openjdk-8-jdk-headless openjdk-8-jre\n",
            "  openjdk-8-jre-headless x11-utils\n",
            "Suggested packages:\n",
            "  gvfs openjdk-8-demo openjdk-8-source visualvm libnss-mdns\n",
            "  fonts-ipafont-gothic fonts-ipafont-mincho fonts-wqy-microhei\n",
            "  fonts-wqy-zenhei fonts-indic mesa-utils\n",
            "The following NEW packages will be installed:\n",
            "  fonts-dejavu-core fonts-dejavu-extra libatk-wrapper-java\n",
            "  libatk-wrapper-java-jni libgail-common libgail18 libgtk2.0-0 libgtk2.0-bin\n",
            "  libgtk2.0-common libxxf86dga1 openjdk-8-jdk openjdk-8-jdk-headless\n",
            "  openjdk-8-jre openjdk-8-jre-headless x11-utils\n",
            "0 upgraded, 15 newly installed, 0 to remove and 11 not upgraded.\n",
            "Need to get 45.9 MB of archives.\n",
            "After this operation, 166 MB of additional disk space will be used.\n",
            "Get:1 http://archive.ubuntu.com/ubuntu bionic/main amd64 libxxf86dga1 amd64 2:1.1.4-1 [13.7 kB]\n",
            "Get:2 http://archive.ubuntu.com/ubuntu bionic/main amd64 fonts-dejavu-core all 2.37-1 [1,041 kB]\n",
            "Get:3 http://archive.ubuntu.com/ubuntu bionic/main amd64 fonts-dejavu-extra all 2.37-1 [1,953 kB]\n",
            "Get:4 http://archive.ubuntu.com/ubuntu bionic/main amd64 x11-utils amd64 7.7+3build1 [196 kB]\n",
            "Get:5 http://archive.ubuntu.com/ubuntu bionic/main amd64 libatk-wrapper-java all 0.33.3-20ubuntu0.1 [34.7 kB]\n",
            "Get:6 http://archive.ubuntu.com/ubuntu bionic/main amd64 libatk-wrapper-java-jni amd64 0.33.3-20ubuntu0.1 [28.3 kB]\n",
            "Get:7 http://archive.ubuntu.com/ubuntu bionic/main amd64 libgtk2.0-common all 2.24.32-1ubuntu1 [125 kB]\n",
            "Get:8 http://archive.ubuntu.com/ubuntu bionic/main amd64 libgtk2.0-0 amd64 2.24.32-1ubuntu1 [1,769 kB]\n",
            "Get:9 http://archive.ubuntu.com/ubuntu bionic/main amd64 libgail18 amd64 2.24.32-1ubuntu1 [14.2 kB]\n",
            "Get:10 http://archive.ubuntu.com/ubuntu bionic/main amd64 libgail-common amd64 2.24.32-1ubuntu1 [112 kB]\n",
            "Get:11 http://archive.ubuntu.com/ubuntu bionic/main amd64 libgtk2.0-bin amd64 2.24.32-1ubuntu1 [7,536 B]\n",
            "Get:12 http://archive.ubuntu.com/ubuntu bionic-updates/universe amd64 openjdk-8-jre-headless amd64 8u352-ga-1~18.04 [28.3 MB]\n",
            "Get:13 http://archive.ubuntu.com/ubuntu bionic-updates/universe amd64 openjdk-8-jre amd64 8u352-ga-1~18.04 [69.9 kB]\n",
            "Get:14 http://archive.ubuntu.com/ubuntu bionic-updates/universe amd64 openjdk-8-jdk-headless amd64 8u352-ga-1~18.04 [8,288 kB]\n",
            "Get:15 http://archive.ubuntu.com/ubuntu bionic-updates/universe amd64 openjdk-8-jdk amd64 8u352-ga-1~18.04 [3,976 kB]\n",
            "Fetched 45.9 MB in 1s (52.1 MB/s)\n",
            "Selecting previously unselected package libxxf86dga1:amd64.\r\n",
            "(Reading database ... \r(Reading database ... 5%\r(Reading database ... 10%\r(Reading database ... 15%\r(Reading database ... 20%\r(Reading database ... 25%\r(Reading database ... 30%\r(Reading database ... 35%\r(Reading database ... 40%\r(Reading database ... 45%\r(Reading database ... 50%\r(Reading database ... 55%\r(Reading database ... 60%\r(Reading database ... 65%\r(Reading database ... 70%\r(Reading database ... 75%\r(Reading database ... 80%\r(Reading database ... 85%\r(Reading database ... 90%\r(Reading database ... 95%\r(Reading database ... 100%\r(Reading database ... 123991 files and directories currently installed.)\r\n",
            "Preparing to unpack .../00-libxxf86dga1_2%3a1.1.4-1_amd64.deb ...\r\n",
            "Unpacking libxxf86dga1:amd64 (2:1.1.4-1) ...\r\n",
            "Selecting previously unselected package fonts-dejavu-core.\r\n",
            "Preparing to unpack .../01-fonts-dejavu-core_2.37-1_all.deb ...\r\n",
            "Unpacking fonts-dejavu-core (2.37-1) ...\r\n",
            "Selecting previously unselected package fonts-dejavu-extra.\r\n",
            "Preparing to unpack .../02-fonts-dejavu-extra_2.37-1_all.deb ...\r\n",
            "Unpacking fonts-dejavu-extra (2.37-1) ...\r\n",
            "Selecting previously unselected package x11-utils.\r\n",
            "Preparing to unpack .../03-x11-utils_7.7+3build1_amd64.deb ...\r\n",
            "Unpacking x11-utils (7.7+3build1) ...\r\n",
            "Selecting previously unselected package libatk-wrapper-java.\r\n",
            "Preparing to unpack .../04-libatk-wrapper-java_0.33.3-20ubuntu0.1_all.deb ...\r\n",
            "Unpacking libatk-wrapper-java (0.33.3-20ubuntu0.1) ...\r\n",
            "Selecting previously unselected package libatk-wrapper-java-jni:amd64.\r\n",
            "Preparing to unpack .../05-libatk-wrapper-java-jni_0.33.3-20ubuntu0.1_amd64.deb ...\r\n",
            "Unpacking libatk-wrapper-java-jni:amd64 (0.33.3-20ubuntu0.1) ...\r\n",
            "Selecting previously unselected package libgtk2.0-common.\r\n",
            "Preparing to unpack .../06-libgtk2.0-common_2.24.32-1ubuntu1_all.deb ...\r\n",
            "Unpacking libgtk2.0-common (2.24.32-1ubuntu1) ...\r\n",
            "Selecting previously unselected package libgtk2.0-0:amd64.\r\n",
            "Preparing to unpack .../07-libgtk2.0-0_2.24.32-1ubuntu1_amd64.deb ...\r\n",
            "Unpacking libgtk2.0-0:amd64 (2.24.32-1ubuntu1) ...\r\n",
            "Selecting previously unselected package libgail18:amd64.\r\n",
            "Preparing to unpack .../08-libgail18_2.24.32-1ubuntu1_amd64.deb ...\r\n",
            "Unpacking libgail18:amd64 (2.24.32-1ubuntu1) ...\r\n",
            "Selecting previously unselected package libgail-common:amd64.\r\n",
            "Preparing to unpack .../09-libgail-common_2.24.32-1ubuntu1_amd64.deb ...\r\n",
            "Unpacking libgail-common:amd64 (2.24.32-1ubuntu1) ...\r\n",
            "Selecting previously unselected package libgtk2.0-bin.\r\n",
            "Preparing to unpack .../10-libgtk2.0-bin_2.24.32-1ubuntu1_amd64.deb ...\r\n",
            "Unpacking libgtk2.0-bin (2.24.32-1ubuntu1) ...\r\n",
            "Selecting previously unselected package openjdk-8-jre-headless:amd64.\r\n",
            "Preparing to unpack .../11-openjdk-8-jre-headless_8u352-ga-1~18.04_amd64.deb ...\r\n",
            "Unpacking openjdk-8-jre-headless:amd64 (8u352-ga-1~18.04) ...\r\n",
            "Selecting previously unselected package openjdk-8-jre:amd64.\r\n",
            "Preparing to unpack .../12-openjdk-8-jre_8u352-ga-1~18.04_amd64.deb ...\r\n",
            "Unpacking openjdk-8-jre:amd64 (8u352-ga-1~18.04) ...\r\n",
            "Selecting previously unselected package openjdk-8-jdk-headless:amd64.\r\n",
            "Preparing to unpack .../13-openjdk-8-jdk-headless_8u352-ga-1~18.04_amd64.deb ...\r\n",
            "Unpacking openjdk-8-jdk-headless:amd64 (8u352-ga-1~18.04) ...\r\n",
            "Selecting previously unselected package openjdk-8-jdk:amd64.\r\n",
            "Preparing to unpack .../14-openjdk-8-jdk_8u352-ga-1~18.04_amd64.deb ...\r\n",
            "Unpacking openjdk-8-jdk:amd64 (8u352-ga-1~18.04) ...\r\n",
            "Setting up libgtk2.0-common (2.24.32-1ubuntu1) ...\r\n",
            "Setting up fonts-dejavu-core (2.37-1) ...\r\n",
            "Setting up libxxf86dga1:amd64 (2:1.1.4-1) ...\r\n",
            "Setting up fonts-dejavu-extra (2.37-1) ...\r\n",
            "Setting up openjdk-8-jre-headless:amd64 (8u352-ga-1~18.04) ...\r\n",
            "update-alternatives: using /usr/lib/jvm/java-8-openjdk-amd64/jre/bin/orbd to provide /usr/bin/orbd (orbd) in auto mode\r\n",
            "update-alternatives: using /usr/lib/jvm/java-8-openjdk-amd64/jre/bin/servertool to provide /usr/bin/servertool (servertool) in auto mode\r\n",
            "update-alternatives: using /usr/lib/jvm/java-8-openjdk-amd64/jre/bin/tnameserv to provide /usr/bin/tnameserv (tnameserv) in auto mode\r\n",
            "Setting up libgtk2.0-0:amd64 (2.24.32-1ubuntu1) ...\r\n",
            "Setting up libgail18:amd64 (2.24.32-1ubuntu1) ...\r\n",
            "Setting up openjdk-8-jdk-headless:amd64 (8u352-ga-1~18.04) ...\r\n",
            "update-alternatives: using /usr/lib/jvm/java-8-openjdk-amd64/bin/idlj to provide /usr/bin/idlj (idlj) in auto mode\r\n",
            "update-alternatives: using /usr/lib/jvm/java-8-openjdk-amd64/bin/wsimport to provide /usr/bin/wsimport (wsimport) in auto mode\r\n",
            "update-alternatives: using /usr/lib/jvm/java-8-openjdk-amd64/bin/jsadebugd to provide /usr/bin/jsadebugd (jsadebugd) in auto mode\r\n",
            "update-alternatives: using /usr/lib/jvm/java-8-openjdk-amd64/bin/native2ascii to provide /usr/bin/native2ascii (native2ascii) in auto mode\r\n",
            "update-alternatives: using /usr/lib/jvm/java-8-openjdk-amd64/bin/javah to provide /usr/bin/javah (javah) in auto mode\r\n",
            "update-alternatives: using /usr/lib/jvm/java-8-openjdk-amd64/bin/clhsdb to provide /usr/bin/clhsdb (clhsdb) in auto mode\r\n",
            "update-alternatives: using /usr/lib/jvm/java-8-openjdk-amd64/bin/xjc to provide /usr/bin/xjc (xjc) in auto mode\r\n",
            "update-alternatives: using /usr/lib/jvm/java-8-openjdk-amd64/bin/hsdb to provide /usr/bin/hsdb (hsdb) in auto mode\r\n",
            "update-alternatives: using /usr/lib/jvm/java-8-openjdk-amd64/bin/schemagen to provide /usr/bin/schemagen (schemagen) in auto mode\r\n",
            "update-alternatives: using /usr/lib/jvm/java-8-openjdk-amd64/bin/extcheck to provide /usr/bin/extcheck (extcheck) in auto mode\r\n",
            "update-alternatives: using /usr/lib/jvm/java-8-openjdk-amd64/bin/jhat to provide /usr/bin/jhat (jhat) in auto mode\r\n",
            "update-alternatives: using /usr/lib/jvm/java-8-openjdk-amd64/bin/wsgen to provide /usr/bin/wsgen (wsgen) in auto mode\r\n",
            "Setting up x11-utils (7.7+3build1) ...\r\n",
            "Setting up libgail-common:amd64 (2.24.32-1ubuntu1) ...\r\n",
            "Setting up libatk-wrapper-java (0.33.3-20ubuntu0.1) ...\r\n",
            "Setting up libgtk2.0-bin (2.24.32-1ubuntu1) ...\r\n",
            "Setting up libatk-wrapper-java-jni:amd64 (0.33.3-20ubuntu0.1) ...\r\n",
            "Setting up openjdk-8-jre:amd64 (8u352-ga-1~18.04) ...\r\n",
            "update-alternatives: using /usr/lib/jvm/java-8-openjdk-amd64/jre/bin/policytool to provide /usr/bin/policytool (policytool) in auto mode\r\n",
            "Setting up openjdk-8-jdk:amd64 (8u352-ga-1~18.04) ...\r\n",
            "update-alternatives: using /usr/lib/jvm/java-8-openjdk-amd64/bin/appletviewer to provide /usr/bin/appletviewer (appletviewer) in auto mode\r\n",
            "update-alternatives: using /usr/lib/jvm/java-8-openjdk-amd64/bin/jconsole to provide /usr/bin/jconsole (jconsole) in auto mode\r\n",
            "Processing triggers for man-db (2.8.3-2ubuntu0.1) ...\r\n",
            "Processing triggers for hicolor-icon-theme (0.17-2) ...\r\n",
            "Processing triggers for fontconfig (2.12.6-0ubuntu2) ...\r\n",
            "Processing triggers for mime-support (3.60ubuntu1) ...\r\n",
            "Processing triggers for libc-bin (2.27-3ubuntu1.6) ...\r\n",
            "Looking in indexes: https://pypi.org/simple, https://us-python.pkg.dev/colab-wheels/public/simple/\n",
            "Collecting JPype1\n",
            "  Downloading JPype1-1.4.1-cp37-cp37m-manylinux_2_12_x86_64.manylinux2010_x86_64.whl (465 kB)\n",
            "Requirement already satisfied: typing-extensions in /usr/local/lib/python3.7/dist-packages (from JPype1) (4.1.1)\n",
            "Requirement already satisfied: packaging in /usr/local/lib/python3.7/dist-packages (from JPype1) (21.3)\n",
            "Requirement already satisfied: pyparsing!=3.0.5,>=2.0.2 in /usr/local/lib/python3.7/dist-packages (from packaging->JPype1) (3.0.9)\n",
            "Installing collected packages: JPype1\n",
            "Successfully installed JPype1-1.4.1\n",
            "Looking in indexes: https://pypi.org/simple, https://us-python.pkg.dev/colab-wheels/public/simple/\n",
            "Collecting konlpy\n",
            "  Downloading konlpy-0.6.0-py2.py3-none-any.whl (19.4 MB)\n",
            "Requirement already satisfied: numpy>=1.6 in /usr/local/lib/python3.7/dist-packages (from konlpy) (1.21.6)\n",
            "Requirement already satisfied: lxml>=4.1.0 in /usr/local/lib/python3.7/dist-packages (from konlpy) (4.9.1)\n",
            "Requirement already satisfied: JPype1>=0.7.0 in /usr/local/lib/python3.7/dist-packages (from konlpy) (1.4.1)\n",
            "Requirement already satisfied: typing-extensions in /usr/local/lib/python3.7/dist-packages (from JPype1>=0.7.0->konlpy) (4.1.1)\n",
            "Requirement already satisfied: packaging in /usr/local/lib/python3.7/dist-packages (from JPype1>=0.7.0->konlpy) (21.3)\n",
            "Requirement already satisfied: pyparsing!=3.0.5,>=2.0.2 in /usr/local/lib/python3.7/dist-packages (from packaging->JPype1>=0.7.0->konlpy) (3.0.9)\n",
            "Installing collected packages: konlpy\n",
            "Successfully installed konlpy-0.6.0\n"
          ]
        }
      ]
    },
    {
      "cell_type": "code",
      "source": [
        "from konlpy.tag import Okt\n",
        "okt = Okt()\n",
        "\n",
        "print(okt.morphs(u'단독입찰보다 복수입찰의 경우'))\n",
        "print(okt.nouns(u'유일하게 항공기 체계종합개발 경험을 갖고 있는 KAI는'))\n",
        "print(okt.phrases(u'날카로운 분석과 신뢰감 있는 진행으로'))\n",
        "print(okt.pos(u'이것도 되나욬ㅋㅋㅋㅋ'))"
      ],
      "metadata": {
        "colab": {
          "base_uri": "https://localhost:8080/"
        },
        "id": "pJoAMoGDdzxm",
        "outputId": "6c24140b-4d3f-42f9-89ce-ec870a301dae"
      },
      "execution_count": 31,
      "outputs": [
        {
          "output_type": "stream",
          "name": "stdout",
          "text": [
            "['단독', '입찰', '보다', '복수', '입찰', '의', '경우']\n",
            "['항공기', '체계', '종합', '개발', '경험']\n",
            "['날카로운 분석', '날카로운 분석과 신뢰감', '날카로운 분석과 신뢰감 있는 진행', '분석', '신뢰', '진행']\n",
            "[('이', 'Determiner'), ('것', 'Noun'), ('도', 'Josa'), ('되나욬', 'Noun'), ('ㅋㅋㅋㅋ', 'KoreanParticle')]\n"
          ]
        }
      ]
    },
    {
      "cell_type": "code",
      "source": [
        "import json\n",
        "inputfilename = \"/content/drive/MyDrive/data/etnews.kr_facebook_2016-01-01_2018-08-01_4차 산업혁명.json\"\n",
        "data = json.loads(open(inputfilename, 'r', encoding = 'utf-8').read())\n",
        "data"
      ],
      "metadata": {
        "colab": {
          "base_uri": "https://localhost:8080/"
        },
        "id": "cYPV-LTAeFqq",
        "outputId": "e2ba49f9-399d-4d63-c475-c1b437b58e0f"
      },
      "execution_count": 32,
      "outputs": [
        {
          "output_type": "execute_result",
          "data": {
            "text/plain": [
              "[{'created_time': '2018-06-20 18:06:39',\n",
              "  'link': 'https://www.facebook.com/etnews.kr/videos/1981346601899735/',\n",
              "  'message': '6월의 스파크포럼 - \"미래 시대, 조직의 변화도 시작됐다!\"\\n\\n스파크포럼은 현 사회의 사회문제 및 이슈를 제기하고, 그 이슈를 혁신적으로 해결하고자 하는 소셜이노베이터를 발굴, 지원하여 우리 사회 따뜻한 변화를 확산시키지 위해 만들어진 도전과 만남의 자리입니다.\\n\\n6월의 스파크포럼에서는 4차 산업혁명 시대의 기업조직과 조직문화를 살펴보고, 조직의 변화를 받아들이고 실험해나가는 사례를 통해 미래 시대 조직이 나아가야 할 방향을 함께 생각해보고자 합니다.',\n",
              "  'name': '6월의 스파크포럼 - \"미래 시대, 조직의 변화도 시작됐다!\"',\n",
              "  'post_id': '407886705912407_1981346601899735',\n",
              "  'total_comments': 3},\n",
              " {'created_time': '2018-06-14 10:41:16',\n",
              "  'link': 'http://www.etnews.com/20180612000347',\n",
              "  'message': '로봇이 4차 산업혁명 주요 성장 동력으로 떠오르면서 국내 로봇 기업에 재평가가 이뤄지고 있다는 분석입니다.',\n",
              "  'name': '기술력 갖춘 로봇기업 몸값 치솟는다',\n",
              "  'post_id': '407886705912407_1971252229575839',\n",
              "  'total_comments': 0},\n",
              " {'created_time': '2018-04-10 17:42:00',\n",
              "  'link': 'http://www.etnews.com/20180409000360?mc=em_002_00001',\n",
              "  'message': '4차 산업혁명 시대 금융 산업 전반 점검해야 한다는...',\n",
              "  'name': \"휘청거리는 대한민국 '금융'...서민도 기업도 ICT도 실종\",\n",
              "  'post_id': '407886705912407_1900738133293916',\n",
              "  'total_comments': 0},\n",
              " {'created_time': '2018-03-05 12:05:00',\n",
              "  'link': 'https://goo.gl/qPEyAJ',\n",
              "  'message': \"공통 간판 공약은 '4차 산업혁명 선도 도시 구현'과 '가상화폐·블록체인 기술 활용' 등입니다. https://goo.gl/qPEyAJ\",\n",
              "  'name': \"지방선거 D-100 정책 공약 '4차산업혁명'에 초점\",\n",
              "  'post_id': '407886705912407_1859978837369846',\n",
              "  'total_comments': 0},\n",
              " {'created_time': '2018-02-05 17:20:01',\n",
              "  'link': 'http://www.etnews.com/20180205000237',\n",
              "  'message': '이번 과정은 4차 산업혁명 핵심 기술인 AI에 대한 통찰력과 알파고를 통해 우리 일상과 익숙해진 로봇, 빅데이터 산업 흐름을 알려줍니다. #인공지능 #최고위과정 #산학연최고전문가 https://goo.gl/jSZSNX',\n",
              "  'name': '[알림]제2기 인공지능 최고위 과정 모집',\n",
              "  'post_id': '407886705912407_1829059807128416',\n",
              "  'total_comments': 0},\n",
              " {'created_time': '2018-01-29 23:39:00',\n",
              "  'link': 'http://www.etnews.com/20180129000403?mc=em_003_00001',\n",
              "  'message': '4차 산업혁명 모든 기술과 서비스 구현',\n",
              "  'name': \"첫 스마트시티 '부산·세종' 낙점...규제 프리존으로\",\n",
              "  'post_id': '407886705912407_1821177084583355',\n",
              "  'total_comments': 0},\n",
              " {'created_time': '2017-11-09 18:11:43',\n",
              "  'link': 'http://www.sek.co.kr/2017/nbf',\n",
              "  'message': '산업혁명의 나라, 영국엔 4차 산업혁명이 없다?\\n한국-영국 경험과 지혜를 모으는 ‘미래비즈니스포럼 2017’ 개최',\n",
              "  'name': '미래비즈니스포럼 2017 : 손에 잡히는 4차 산업혁명',\n",
              "  'post_id': '407886705912407_1735224763178588',\n",
              "  'total_comments': 0},\n",
              " {'created_time': '2017-10-25 13:08:49',\n",
              "  'link': 'https://www.facebook.com/etnews.kr/videos/1720053844695680/',\n",
              "  'message': \"[전자신문TV 라이브] SBA 신직업위크\\n\\n4차 산업혁명 시대의 경쟁력 확보와 일자리 창출의 해법을 신직업에서 찾고 있는 서울산업진흥원(SBA)이 자신들의 역량과 노력을 모두 담은 '제 2회 신직업위크'를 진행하고 있습니다.\\n\\n이번 전자신문TV라이브는 서울 대치동 SBA 신직업교육센터에서 강만구 신직업교육팀장과 서지윤 신직업리서치팀수석, 윤석원 테스트웍스 대표 등과 함께 '제 2회 신직업위크'와 최신 신직업트렌드를 알아보는 시간으로 마련했습니다. 많은 시청 바랍니다. \\n\\n#전자신문 #전자신문엔터 #전자신문TV #라이브 #소셜방송 #현장라이브 #손보련 #신직업위크 #서울산업진흥원 #SBA #신직업 #서울 #강만구 #서지윤 #윤석원 #테스트웍스 #소프트웨어 #테스터 #소프트웨어테스터\",\n",
              "  'name': '[전자신문TV 라이브] SBA 신직업위크',\n",
              "  'post_id': '407886705912407_1720053844695680',\n",
              "  'total_comments': 0},\n",
              " {'created_time': '2017-10-06 11:50:00',\n",
              "  'link': 'http://www.etnews.com/20171005000056?mc=em_011_00001',\n",
              "  'message': '혹시 우리나라도?~~4차 산업혁명 시대 떠오르는 일자리 전략으로 강추~~',\n",
              "  'name': '日, 인공지능 활용능력 자격시험 만든다',\n",
              "  'post_id': '407886705912407_1700789646622100',\n",
              "  'total_comments': 1},\n",
              " {'created_time': '2017-09-25 15:30:00',\n",
              "  'link': 'http://www.etnews.com/20170924000106?mc=em_003_00001',\n",
              "  'message': '4차 산업혁명 대응에 가장 강점 분야는 5세대 이동통신...건강한 산업 생태계 조성 노력 강조',\n",
              "  'name': \"김상조 공정위원장 “기업집단국, 조사국과 달라…'존경받는 기업' 만드는 게 핵심”\",\n",
              "  'post_id': '407886705912407_1691461310888267',\n",
              "  'total_comments': 0},\n",
              " {'created_time': '2017-08-29 00:54:00',\n",
              "  'link': 'http://www.etnews.com/20170825000162?mc=em_009_00001',\n",
              "  'message': \"중앙부처 공무원 51.3% '4차 산업혁명 관련 가장 시급히 대응해야 할 기술적 과제'로 빅데이터 활용 꼽\",\n",
              "  'name': '현직 공무원들 \"빅데이터·AI, 정책에 적극 활용\"…4차 산업혁명 인식 높아',\n",
              "  'post_id': '407886705912407_1665258370175228',\n",
              "  'total_comments': 1},\n",
              " {'created_time': '2017-08-17 15:37:14',\n",
              "  'link': 'https://www.facebook.com/etnews.kr/videos/1655135431187522/',\n",
              "  'message': '[전자신문TV 라이브] 직격인터뷰 - 서울산업진흥원(SBA) 주형철 대표이사\\n\\n최근 각급 공공기관들이 4차 산업혁명기를 맞은 국내 중소기업의 경쟁력과 일자리 창출을 위해 노력하고 있는데요.\\n\\n이번 전자신문TV 라이브는 중소기업 활성화와 일자리 창출에 앞장서는 공공기관 중 대표적 사례로 꼽히는 서울산업진흥원 주형철 대표이사를 모시고 다양한 이야기를 듣는 시간으로 진행됩니다.\\n\\n#전자신문 #전자신문TV #서울산업진흥원 #SBA #주형철 #소성렬',\n",
              "  'name': '[전자신문TV 라이브] 직격인터뷰 - 서울산업진흥원(SBA) 주형철 대표이사',\n",
              "  'post_id': '407886705912407_1655135431187522',\n",
              "  'total_comments': 15},\n",
              " {'created_time': '2017-08-12 17:48:00',\n",
              "  'link': 'http://www.etnews.com/20170810000414?mc=em_009_00001',\n",
              "  'message': '4차 산업혁명 대응은 일자리 창출과 함께 문재인 정부 주요 국정 과제인 데도 우선순위에서 밀렸다는 지적',\n",
              "  'name': '4차 산업혁명위 출범 후순위로 밀렸다',\n",
              "  'post_id': '407886705912407_1648865381814527',\n",
              "  'total_comments': 0},\n",
              " {'created_time': '2017-06-09 22:00:00',\n",
              "  'link': 'http://www.etnews.com/20170608000300?mc=em_009_00001',\n",
              "  'message': '통합·개혁 행보에서 빠른 움직임을 보였지만 4차 산업혁명 등 신성장동력 창출에서는 한 발짝도 못 나갔다는 평입니다...',\n",
              "  'name': \"새정부 출범 한 달...'통합·개혁'엔 진일보, '4차 산업혁명 대응' 한발짝도 못 나가\",\n",
              "  'post_id': '407886705912407_1579376925430040',\n",
              "  'total_comments': 4},\n",
              " {'created_time': '2017-05-24 18:30:00',\n",
              "  'link': 'http://www.etnews.com/20170524000281?mc=em_001_00001',\n",
              "  'message': \"미래창조과학부가 주최하고 전자신문사, 한국경제신문, 한국정보통신진흥협회(KAIT) 주관으로 24일 서울 강남구 삼성동 코엑스에서 개막된 '월드IT쇼(WIS) 2017'은 4차 산업혁명이 더 이상 개념이 아니라 현실로 다가왔음을 입증했습니다~\",\n",
              "  'name': '[WIS 2017]4차 산업혁명, 현실과 마주한 날',\n",
              "  'post_id': '407886705912407_1562807837086949',\n",
              "  'total_comments': 0},\n",
              " {'created_time': '2017-05-17 18:38:04',\n",
              "  'link': 'https://www.facebook.com/etnews.kr/photos/a.409377469096664/1556319464402453/?type=3',\n",
              "  'message': '[전자신문TV 라이브 예고]\\n이번 전자신문TV는 4차 산업혁명과 과학기술 영상컨퍼런스를 생중계합니다~! 광운대학교 이승현 교수님을 모시고 진행하는 이번 행사는 VR. AR 기술과 몰힙형 미디어에 대해 설명해 주신다고 합니다!\\n\\n이번 행사는 전자신문 Entertainment와 가상현실 스튜디오 솔루션을 제작한 다림비젼, 중견기업TV와 함께  4차 산업 정보 채널 IBSB(IT Tech. & Business SNS Broadcast)를 통해 진행합니다.\\n\\nIBSB는 전세계 4차 산업 혁명의 현장의 생생한 IT 소식과 정보, 컨퍼런스의 강연, VOD정보를 VR 기술과 원격 Live방송 기술을 중심으로 시간과 거리를 초월하는 실시간 TELE-Presentation 기술의 새로운 방송 서비스입니다.\\n\\n이런 유익한 강의를 전자신문 페이스북을 통해서 시청하실 수 있습니다~ 많은 관심부탁드립니다♥',\n",
              "  'name': 'Timeline Photos',\n",
              "  'post_id': '407886705912407_1556319464402453',\n",
              "  'total_comments': 1},\n",
              " {'created_time': '2017-04-05 07:00:00',\n",
              "  'link': 'http://www.etnews.com/20170404000230',\n",
              "  'message': '대선 국면이지만 법안의 시급성 때문에 4차 산업혁명 대비 법제 개편 논의가 불붙을 전망입니다...',\n",
              "  'name': \"'4차 산업혁명 기본법' 나왔다…대선 기간 법제화 논의 불붙을듯\",\n",
              "  'post_id': '407886705912407_1505222409512159',\n",
              "  'total_comments': 1},\n",
              " {'created_time': '2017-02-14 08:30:01',\n",
              "  'link': 'http://www.etnews.com/20170213000307',\n",
              "  'message': '4차 산업혁명 시대 대비!!!',\n",
              "  'name': '[차기 정부 거버넌스 개편 방향 좌담회]\"400조 정부, 혁신부총리가 답이다\"',\n",
              "  'post_id': '407886705912407_1452393468128387',\n",
              "  'total_comments': 0},\n",
              " {'created_time': '2016-01-25 06:00:00',\n",
              "  'link': 'http://www.etnews.com/20160124000075',\n",
              "  'message': '‘#4차산업혁명 의 이해(Mastering the Fourth Industrial Revolution)’...\\n23일 폐막한 #다보스포럼 에서는  4차 산업혁명 기대와 우려가 교차했는데요. 구글, 애플, 페이스북, 삼성전자, LG전자가 앞다퉈 4차 산업혁명 흐름에 뛰어 들고 있습니다.',\n",
              "  'name': '[이슈분석]다보스포럼, 4차 산업혁명 기대와 우려 교차',\n",
              "  'post_id': '407886705912407_1106254916075579',\n",
              "  'total_comments': 0}]"
            ]
          },
          "metadata": {},
          "execution_count": 32
        }
      ]
    },
    {
      "cell_type": "code",
      "source": [
        "message= ''\n",
        "\n",
        "for item in data:\n",
        "  if 'message' in item.keys():\n",
        "    message = message + re.sub(r'[^\\w]', ' ', item['message']) + '' +message\n",
        "\n",
        "message"
      ],
      "metadata": {
        "id": "FI4GIv4zgs8x"
      },
      "execution_count": 33,
      "outputs": []
    },
    {
      "cell_type": "code",
      "source": [
        "from konlpy.tag import Okt\n",
        "\n",
        "nlp = Okt()\n",
        "\n",
        "message_N = nlp.nouns('이태원 참사의 진상규명과 재발방지를 위한 국회의 국정조사가 오는 24일 시작된다. 국정조사 기간은 45일이다. 준비기간을 거쳐 내년도 예산안 처리 직후 국정조사가 본격 개시된다. 예산안의 법정 처리 기한은 12월 2일이다. 국민의힘 주호영·더불어민주당 박홍근 원내대표는 23일 국회에서 기자회견을 열어 이같은 내용의 국정조사 합의 내용을 발표했다. ')\n",
        "\n",
        "print(message_N)"
      ],
      "metadata": {
        "id": "eXQxwe3Ohkwf"
      },
      "execution_count": 34,
      "outputs": []
    },
    {
      "cell_type": "code",
      "source": [
        "count = Counter(message_N)\n",
        "count"
      ],
      "metadata": {
        "id": "9xNuCBcqi4pc"
      },
      "execution_count": 35,
      "outputs": []
    },
    {
      "cell_type": "code",
      "source": [
        "word_cloud = dict()\n",
        "\n",
        "for tag, counts in count.most_common(80):\n",
        "  if(len(str(tag))>1):\n",
        "    word_cloud[tag] = counts\n",
        "    print(\"%s : %s\"%(tag, counts))"
      ],
      "metadata": {
        "colab": {
          "base_uri": "https://localhost:8080/"
        },
        "id": "fXXQWjOFh58J",
        "outputId": "f7c79541-efef-4d89-dd1f-067a7367d54d"
      },
      "execution_count": 38,
      "outputs": [
        {
          "output_type": "stream",
          "name": "stdout",
          "text": [
            "국정조사 : 4\n",
            "국회 : 2\n",
            "기간 : 2\n",
            "예산안 : 2\n",
            "처리 : 2\n",
            "내용 : 2\n",
            "이태원 : 1\n",
            "참사 : 1\n",
            "진상 : 1\n",
            "규명 : 1\n",
            "재발 : 1\n",
            "방지 : 1\n",
            "시작 : 1\n",
            "준비 : 1\n",
            "내년 : 1\n",
            "직후 : 1\n",
            "본격 : 1\n",
            "개시 : 1\n",
            "법정 : 1\n",
            "기한 : 1\n",
            "국민 : 1\n",
            "주호영 : 1\n",
            "민주당 : 1\n",
            "박홍근 : 1\n",
            "원내대표 : 1\n",
            "기자회견 : 1\n",
            "합의 : 1\n",
            "발표 : 1\n"
          ]
        }
      ]
    },
    {
      "cell_type": "code",
      "source": [
        "plt.figure(figsize=(12,5))\n",
        "\n",
        "plt.xlabel('키워드')\n",
        "plt.ylabel('빈도수')\n",
        "plt.grid(True)\n",
        "\n",
        "sorted_keys = sorted(word_cloud.items(), key=lambda x: x[1], reverse = True)\n",
        "sorted_values = sorted(word_cloud.values(), reverse=True)\n",
        "\n",
        "plt.bar(range(len(word_cloud)), sorted_values, align='center')\n",
        "plt.xticks(range(len(word_cloud)), list(sorted_keys), rotation = '85')\n",
        "plt.show"
      ],
      "metadata": {
        "colab": {
          "base_uri": "https://localhost:8080/",
          "height": 394
        },
        "id": "qBHxSrqjjVqH",
        "outputId": "1b69bfaa-5a00-4fb8-d497-1c233e2f9e3e"
      },
      "execution_count": 39,
      "outputs": [
        {
          "output_type": "execute_result",
          "data": {
            "text/plain": [
              "<function matplotlib.pyplot.show(*args, **kw)>"
            ]
          },
          "metadata": {},
          "execution_count": 39
        },
        {
          "output_type": "display_data",
          "data": {
            "text/plain": [
              "<Figure size 864x360 with 1 Axes>"
            ],
            "image/png": "[encoded data removed]"
          },
          "metadata": {
            "needs_background": "light"
          }
        }
      ]
    },
    {
      "cell_type": "code",
      "source": [
        "wc = WordCloud(background_color='ivory', width = 800, height=600)\n",
        "cloud = wc.generate_from_frequencies(word_cloud)\n",
        "\n",
        "plt.figure(figsize=(8,8))\n",
        "plt.imshow(cloud)\n",
        "plt.axis('off')\n",
        "plt.show()"
      ],
      "metadata": {
        "colab": {
          "base_uri": "https://localhost:8080/",
          "height": 366
        },
        "id": "faMJKYj0kODy",
        "outputId": "cd882d29-5f40-4968-fff9-852d755c5fd7"
      },
      "execution_count": 40,
      "outputs": [
        {
          "output_type": "display_data",
          "data": {
            "text/plain": [
              "<Figure size 576x576 with 1 Axes>"
            ],
            "image/png": "[encoded data removed]"
          },
          "metadata": {
            "needs_background": "light"
          }
        }
      ]
    }
  ]
}