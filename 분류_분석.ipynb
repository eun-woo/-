{
  "nbformat": 4,
  "nbformat_minor": 0,
  "metadata": {
    "colab": {
      "provenance": [],
      "authorship_tag": "ABX9TyMlL6PhBMLeMnhW/CcTQzJk",
      "include_colab_link": true
    },
    "kernelspec": {
      "name": "python3",
      "display_name": "Python 3"
    },
    "language_info": {
      "name": "python"
    },
    "accelerator": "GPU",
    "gpuClass": "standard"
  },
  "cells": [
    {
      "cell_type": "markdown",
      "metadata": {
        "id": "view-in-github",
        "colab_type": "text"
      },
      "source": [
        "<a href=\"https://colab.research.google.com/github/eun-woo/data_analysis/blob/main/%EB%B6%84%EB%A5%98_%EB%B6%84%EC%84%9D.ipynb\" target=\"_parent\"><img src=\"https://colab.research.google.com/assets/colab-badge.svg\" alt=\"Open In Colab\"/></a>"
      ]
    },
    {
      "cell_type": "code",
      "execution_count": 15,
      "metadata": {
        "colab": {
          "base_uri": "https://localhost:8080/",
          "height": 281
        },
        "id": "A_08Pp7teQ6H",
        "outputId": "f5123592-8320-4276-de35-dfd2d290d6fc"
      },
      "outputs": [
        {
          "output_type": "display_data",
          "data": {
            "text/plain": [
              "<Figure size 432x288 with 1 Axes>"
            ],
            "image/png": "[encoded data removed]"
          },
          "metadata": {
            "needs_background": "light"
          }
        }
      ],
      "source": [
        "import numpy as np\n",
        "import matplotlib.pyplot as plt\n",
        "\n",
        "def sigmoid(x):\n",
        "  return 1/(1+np.exp(-x))\n",
        "\n",
        "x = np.arange(-5.0, 5.0, 0.1)\n",
        "y = sigmoid(x)\n",
        "\n",
        "plt.plot(x, y, 'g')\n",
        "plt.plot([0,0], [1.0, 0.0], ':')\n",
        "plt.title('sigmoid function')\n",
        "plt.show()\n"
      ]
    },
    {
      "cell_type": "code",
      "source": [
        "import numpy as np\n",
        "import pandas as pd\n",
        "\n",
        "from sklearn.datasets import load_breast_cancer\n",
        "\n",
        "b_cancer = load_breast_cancer()"
      ],
      "metadata": {
        "id": "TBBMSV4-fs6u"
      },
      "execution_count": 16,
      "outputs": []
    },
    {
      "cell_type": "code",
      "source": [
        "print(b_cancer.DESCR)"
      ],
      "metadata": {
        "colab": {
          "base_uri": "https://localhost:8080/"
        },
        "id": "rwHJW0A8gHTI",
        "outputId": "92d9ea02-4f42-4270-ca5e-4e3e367695b2"
      },
      "execution_count": 17,
      "outputs": [
        {
          "output_type": "stream",
          "name": "stdout",
          "text": [
            ".. _breast_cancer_dataset:\n",
            "\n",
            "Breast cancer wisconsin (diagnostic) dataset\n",
            "--------------------------------------------\n",
            "\n",
            "**Data Set Characteristics:**\n",
            "\n",
            "    :Number of Instances: 569\n",
            "\n",
            "    :Number of Attributes: 30 numeric, predictive attributes and the class\n",
            "\n",
            "    :Attribute Information:\n",
            "        - radius (mean of distances from center to points on the perimeter)\n",
            "        - texture (standard deviation of gray-scale values)\n",
            "        - perimeter\n",
            "        - area\n",
            "        - smoothness (local variation in radius lengths)\n",
            "        - compactness (perimeter^2 / area - 1.0)\n",
            "        - concavity (severity of concave portions of the contour)\n",
            "        - concave points (number of concave portions of the contour)\n",
            "        - symmetry\n",
            "        - fractal dimension (\"coastline approximation\" - 1)\n",
            "\n",
            "        The mean, standard error, and \"worst\" or largest (mean of the three\n",
            "        worst/largest values) of these features were computed for each image,\n",
            "        resulting in 30 features.  For instance, field 0 is Mean Radius, field\n",
            "        10 is Radius SE, field 20 is Worst Radius.\n",
            "\n",
            "        - class:\n",
            "                - WDBC-Malignant\n",
            "                - WDBC-Benign\n",
            "\n",
            "    :Summary Statistics:\n",
            "\n",
            "    ===================================== ====== ======\n",
            "                                           Min    Max\n",
            "    ===================================== ====== ======\n",
            "    radius (mean):                        6.981  28.11\n",
            "    texture (mean):                       9.71   39.28\n",
            "    perimeter (mean):                     43.79  188.5\n",
            "    area (mean):                          143.5  2501.0\n",
            "    smoothness (mean):                    0.053  0.163\n",
            "    compactness (mean):                   0.019  0.345\n",
            "    concavity (mean):                     0.0    0.427\n",
            "    concave points (mean):                0.0    0.201\n",
            "    symmetry (mean):                      0.106  0.304\n",
            "    fractal dimension (mean):             0.05   0.097\n",
            "    radius (standard error):              0.112  2.873\n",
            "    texture (standard error):             0.36   4.885\n",
            "    perimeter (standard error):           0.757  21.98\n",
            "    area (standard error):                6.802  542.2\n",
            "    smoothness (standard error):          0.002  0.031\n",
            "    compactness (standard error):         0.002  0.135\n",
            "    concavity (standard error):           0.0    0.396\n",
            "    concave points (standard error):      0.0    0.053\n",
            "    symmetry (standard error):            0.008  0.079\n",
            "    fractal dimension (standard error):   0.001  0.03\n",
            "    radius (worst):                       7.93   36.04\n",
            "    texture (worst):                      12.02  49.54\n",
            "    perimeter (worst):                    50.41  251.2\n",
            "    area (worst):                         185.2  4254.0\n",
            "    smoothness (worst):                   0.071  0.223\n",
            "    compactness (worst):                  0.027  1.058\n",
            "    concavity (worst):                    0.0    1.252\n",
            "    concave points (worst):               0.0    0.291\n",
            "    symmetry (worst):                     0.156  0.664\n",
            "    fractal dimension (worst):            0.055  0.208\n",
            "    ===================================== ====== ======\n",
            "\n",
            "    :Missing Attribute Values: None\n",
            "\n",
            "    :Class Distribution: 212 - Malignant, 357 - Benign\n",
            "\n",
            "    :Creator:  Dr. William H. Wolberg, W. Nick Street, Olvi L. Mangasarian\n",
            "\n",
            "    :Donor: Nick Street\n",
            "\n",
            "    :Date: November, 1995\n",
            "\n",
            "This is a copy of UCI ML Breast Cancer Wisconsin (Diagnostic) datasets.\n",
            "https://goo.gl/U2Uwz2\n",
            "\n",
            "Features are computed from a digitized image of a fine needle\n",
            "aspirate (FNA) of a breast mass.  They describe\n",
            "characteristics of the cell nuclei present in the image.\n",
            "\n",
            "Separating plane described above was obtained using\n",
            "Multisurface Method-Tree (MSM-T) [K. P. Bennett, \"Decision Tree\n",
            "Construction Via Linear Programming.\" Proceedings of the 4th\n",
            "Midwest Artificial Intelligence and Cognitive Science Society,\n",
            "pp. 97-101, 1992], a classification method which uses linear\n",
            "programming to construct a decision tree.  Relevant features\n",
            "were selected using an exhaustive search in the space of 1-4\n",
            "features and 1-3 separating planes.\n",
            "\n",
            "The actual linear program used to obtain the separating plane\n",
            "in the 3-dimensional space is that described in:\n",
            "[K. P. Bennett and O. L. Mangasarian: \"Robust Linear\n",
            "Programming Discrimination of Two Linearly Inseparable Sets\",\n",
            "Optimization Methods and Software 1, 1992, 23-34].\n",
            "\n",
            "This database is also available through the UW CS ftp server:\n",
            "\n",
            "ftp ftp.cs.wisc.edu\n",
            "cd math-prog/cpo-dataset/machine-learn/WDBC/\n",
            "\n",
            ".. topic:: References\n",
            "\n",
            "   - W.N. Street, W.H. Wolberg and O.L. Mangasarian. Nuclear feature extraction \n",
            "     for breast tumor diagnosis. IS&T/SPIE 1993 International Symposium on \n",
            "     Electronic Imaging: Science and Technology, volume 1905, pages 861-870,\n",
            "     San Jose, CA, 1993.\n",
            "   - O.L. Mangasarian, W.N. Street and W.H. Wolberg. Breast cancer diagnosis and \n",
            "     prognosis via linear programming. Operations Research, 43(4), pages 570-577, \n",
            "     July-August 1995.\n",
            "   - W.H. Wolberg, W.N. Street, and O.L. Mangasarian. Machine learning techniques\n",
            "     to diagnose breast cancer from fine-needle aspirates. Cancer Letters 77 (1994) \n",
            "     163-171.\n"
          ]
        }
      ]
    },
    {
      "cell_type": "code",
      "source": [
        "b_cancer_df = pd.DataFrame(b_cancer.data, \n",
        "                           columns = b_cancer.feature_names)\n",
        "\n",
        "b_cancer_df['diagnosis'] = b_cancer.target\n",
        "b_cancer_df.tail()"
      ],
      "metadata": {
        "colab": {
          "base_uri": "https://localhost:8080/",
          "height": 334
        },
        "id": "Vciaaxx3gJ-V",
        "outputId": "2c2fc3d1-08a8-43c7-d413-2d7944f76dbb"
      },
      "execution_count": 18,
      "outputs": [
        {
          "output_type": "execute_result",
          "data": {
            "text/plain": [
              "     mean radius  mean texture  mean perimeter  mean area  mean smoothness  \\\n",
              "564        21.56         22.39          142.00     1479.0          0.11100   \n",
              "565        20.13         28.25          131.20     1261.0          0.09780   \n",
              "566        16.60         28.08          108.30      858.1          0.08455   \n",
              "567        20.60         29.33          140.10     1265.0          0.11780   \n",
              "568         7.76         24.54           47.92      181.0          0.05263   \n",
              "\n",
              "     mean compactness  mean concavity  mean concave points  mean symmetry  \\\n",
              "564           0.11590         0.24390              0.13890         0.1726   \n",
              "565           0.10340         0.14400              0.09791         0.1752   \n",
              "566           0.10230         0.09251              0.05302         0.1590   \n",
              "567           0.27700         0.35140              0.15200         0.2397   \n",
              "568           0.04362         0.00000              0.00000         0.1587   \n",
              "\n",
              "     mean fractal dimension  ...  worst texture  worst perimeter  worst area  \\\n",
              "564                 0.05623  ...          26.40           166.10      2027.0   \n",
              "565                 0.05533  ...          38.25           155.00      1731.0   \n",
              "566                 0.05648  ...          34.12           126.70      1124.0   \n",
              "567                 0.07016  ...          39.42           184.60      1821.0   \n",
              "568                 0.05884  ...          30.37            59.16       268.6   \n",
              "\n",
              "     worst smoothness  worst compactness  worst concavity  \\\n",
              "564           0.14100            0.21130           0.4107   \n",
              "565           0.11660            0.19220           0.3215   \n",
              "566           0.11390            0.30940           0.3403   \n",
              "567           0.16500            0.86810           0.9387   \n",
              "568           0.08996            0.06444           0.0000   \n",
              "\n",
              "     worst concave points  worst symmetry  worst fractal dimension  diagnosis  \n",
              "564                0.2216          0.2060                  0.07115          0  \n",
              "565                0.1628          0.2572                  0.06637          0  \n",
              "566                0.1418          0.2218                  0.07820          0  \n",
              "567                0.2650          0.4087                  0.12400          0  \n",
              "568                0.0000          0.2871                  0.07039          1  \n",
              "\n",
              "[5 rows x 31 columns]"
            ],
            "text/html": [
              "\n",
              "  <div id=\"df-c6fa7e10-33d9-48c1-9f3d-5fa90077e040\">\n",
              "    <div class=\"colab-df-container\">\n",
              "      <div>\n",
              "<style scoped>\n",
              "    .dataframe tbody tr th:only-of-type {\n",
              "        vertical-align: middle;\n",
              "    }\n",
              "\n",
              "    .dataframe tbody tr th {\n",
              "        vertical-align: top;\n",
              "    }\n",
              "\n",
              "    .dataframe thead th {\n",
              "        text-align: right;\n",
              "    }\n",
              "</style>\n",
              "<table border=\"1\" class=\"dataframe\">\n",
              "  <thead>\n",
              "    <tr style=\"text-align: right;\">\n",
              "      <th></th>\n",
              "      <th>mean radius</th>\n",
              "      <th>mean texture</th>\n",
              "      <th>mean perimeter</th>\n",
              "      <th>mean area</th>\n",
              "      <th>mean smoothness</th>\n",
              "      <th>mean compactness</th>\n",
              "      <th>mean concavity</th>\n",
              "      <th>mean concave points</th>\n",
              "      <th>mean symmetry</th>\n",
              "      <th>mean fractal dimension</th>\n",
              "      <th>...</th>\n",
              "      <th>worst texture</th>\n",
              "      <th>worst perimeter</th>\n",
              "      <th>worst area</th>\n",
              "      <th>worst smoothness</th>\n",
              "      <th>worst compactness</th>\n",
              "      <th>worst concavity</th>\n",
              "      <th>worst concave points</th>\n",
              "      <th>worst symmetry</th>\n",
              "      <th>worst fractal dimension</th>\n",
              "      <th>diagnosis</th>\n",
              "    </tr>\n",
              "  </thead>\n",
              "  <tbody>\n",
              "    <tr>\n",
              "      <th>564</th>\n",
              "      <td>21.56</td>\n",
              "      <td>22.39</td>\n",
              "      <td>142.00</td>\n",
              "      <td>1479.0</td>\n",
              "      <td>0.11100</td>\n",
              "      <td>0.11590</td>\n",
              "      <td>0.24390</td>\n",
              "      <td>0.13890</td>\n",
              "      <td>0.1726</td>\n",
              "      <td>0.05623</td>\n",
              "      <td>...</td>\n",
              "      <td>26.40</td>\n",
              "      <td>166.10</td>\n",
              "      <td>2027.0</td>\n",
              "      <td>0.14100</td>\n",
              "      <td>0.21130</td>\n",
              "      <td>0.4107</td>\n",
              "      <td>0.2216</td>\n",
              "      <td>0.2060</td>\n",
              "      <td>0.07115</td>\n",
              "      <td>0</td>\n",
              "    </tr>\n",
              "    <tr>\n",
              "      <th>565</th>\n",
              "      <td>20.13</td>\n",
              "      <td>28.25</td>\n",
              "      <td>131.20</td>\n",
              "      <td>1261.0</td>\n",
              "      <td>0.09780</td>\n",
              "      <td>0.10340</td>\n",
              "      <td>0.14400</td>\n",
              "      <td>0.09791</td>\n",
              "      <td>0.1752</td>\n",
              "      <td>0.05533</td>\n",
              "      <td>...</td>\n",
              "      <td>38.25</td>\n",
              "      <td>155.00</td>\n",
              "      <td>1731.0</td>\n",
              "      <td>0.11660</td>\n",
              "      <td>0.19220</td>\n",
              "      <td>0.3215</td>\n",
              "      <td>0.1628</td>\n",
              "      <td>0.2572</td>\n",
              "      <td>0.06637</td>\n",
              "      <td>0</td>\n",
              "    </tr>\n",
              "    <tr>\n",
              "      <th>566</th>\n",
              "      <td>16.60</td>\n",
              "      <td>28.08</td>\n",
              "      <td>108.30</td>\n",
              "      <td>858.1</td>\n",
              "      <td>0.08455</td>\n",
              "      <td>0.10230</td>\n",
              "      <td>0.09251</td>\n",
              "      <td>0.05302</td>\n",
              "      <td>0.1590</td>\n",
              "      <td>0.05648</td>\n",
              "      <td>...</td>\n",
              "      <td>34.12</td>\n",
              "      <td>126.70</td>\n",
              "      <td>1124.0</td>\n",
              "      <td>0.11390</td>\n",
              "      <td>0.30940</td>\n",
              "      <td>0.3403</td>\n",
              "      <td>0.1418</td>\n",
              "      <td>0.2218</td>\n",
              "      <td>0.07820</td>\n",
              "      <td>0</td>\n",
              "    </tr>\n",
              "    <tr>\n",
              "      <th>567</th>\n",
              "      <td>20.60</td>\n",
              "      <td>29.33</td>\n",
              "      <td>140.10</td>\n",
              "      <td>1265.0</td>\n",
              "      <td>0.11780</td>\n",
              "      <td>0.27700</td>\n",
              "      <td>0.35140</td>\n",
              "      <td>0.15200</td>\n",
              "      <td>0.2397</td>\n",
              "      <td>0.07016</td>\n",
              "      <td>...</td>\n",
              "      <td>39.42</td>\n",
              "      <td>184.60</td>\n",
              "      <td>1821.0</td>\n",
              "      <td>0.16500</td>\n",
              "      <td>0.86810</td>\n",
              "      <td>0.9387</td>\n",
              "      <td>0.2650</td>\n",
              "      <td>0.4087</td>\n",
              "      <td>0.12400</td>\n",
              "      <td>0</td>\n",
              "    </tr>\n",
              "    <tr>\n",
              "      <th>568</th>\n",
              "      <td>7.76</td>\n",
              "      <td>24.54</td>\n",
              "      <td>47.92</td>\n",
              "      <td>181.0</td>\n",
              "      <td>0.05263</td>\n",
              "      <td>0.04362</td>\n",
              "      <td>0.00000</td>\n",
              "      <td>0.00000</td>\n",
              "      <td>0.1587</td>\n",
              "      <td>0.05884</td>\n",
              "      <td>...</td>\n",
              "      <td>30.37</td>\n",
              "      <td>59.16</td>\n",
              "      <td>268.6</td>\n",
              "      <td>0.08996</td>\n",
              "      <td>0.06444</td>\n",
              "      <td>0.0000</td>\n",
              "      <td>0.0000</td>\n",
              "      <td>0.2871</td>\n",
              "      <td>0.07039</td>\n",
              "      <td>1</td>\n",
              "    </tr>\n",
              "  </tbody>\n",
              "</table>\n",
              "<p>5 rows × 31 columns</p>\n",
              "</div>\n",
              "      <button class=\"colab-df-convert\" onclick=\"convertToInteractive('df-c6fa7e10-33d9-48c1-9f3d-5fa90077e040')\"\n",
              "              title=\"Convert this dataframe to an interactive table.\"\n",
              "              style=\"display:none;\">\n",
              "        \n",
              "  <svg xmlns=\"http://www.w3.org/2000/svg\" height=\"24px\"viewBox=\"0 0 24 24\"\n",
              "       width=\"24px\">\n",
              "    <path d=\"M0 0h24v24H0V0z\" fill=\"none\"/>\n",
              "    <path d=\"M18.56 5.44l.94 2.06.94-2.06 2.06-.94-2.06-.94-.94-2.06-.94 2.06-2.06.94zm-11 1L8.5 8.5l.94-2.06 2.06-.94-2.06-.94L8.5 2.5l-.94 2.06-2.06.94zm10 10l.94 2.06.94-2.06 2.06-.94-2.06-.94-.94-2.06-.94 2.06-2.06.94z\"/><path d=\"M17.41 7.96l-1.37-1.37c-.4-.4-.92-.59-1.43-.59-.52 0-1.04.2-1.43.59L10.3 9.45l-7.72 7.72c-.78.78-.78 2.05 0 2.83L4 21.41c.39.39.9.59 1.41.59.51 0 1.02-.2 1.41-.59l7.78-7.78 2.81-2.81c.8-.78.8-2.07 0-2.86zM5.41 20L4 18.59l7.72-7.72 1.47 1.35L5.41 20z\"/>\n",
              "  </svg>\n",
              "      </button>\n",
              "      \n",
              "  <style>\n",
              "    .colab-df-container {\n",
              "      display:flex;\n",
              "      flex-wrap:wrap;\n",
              "      gap: 12px;\n",
              "    }\n",
              "\n",
              "    .colab-df-convert {\n",
              "      background-color: #E8F0FE;\n",
              "      border: none;\n",
              "      border-radius: 50%;\n",
              "      cursor: pointer;\n",
              "      display: none;\n",
              "      fill: #1967D2;\n",
              "      height: 32px;\n",
              "      padding: 0 0 0 0;\n",
              "      width: 32px;\n",
              "    }\n",
              "\n",
              "    .colab-df-convert:hover {\n",
              "      background-color: #E2EBFA;\n",
              "      box-shadow: 0px 1px 2px rgba(60, 64, 67, 0.3), 0px 1px 3px 1px rgba(60, 64, 67, 0.15);\n",
              "      fill: #174EA6;\n",
              "    }\n",
              "\n",
              "    [theme=dark] .colab-df-convert {\n",
              "      background-color: #3B4455;\n",
              "      fill: #D2E3FC;\n",
              "    }\n",
              "\n",
              "    [theme=dark] .colab-df-convert:hover {\n",
              "      background-color: #434B5C;\n",
              "      box-shadow: 0px 1px 3px 1px rgba(0, 0, 0, 0.15);\n",
              "      filter: drop-shadow(0px 1px 2px rgba(0, 0, 0, 0.3));\n",
              "      fill: #FFFFFF;\n",
              "    }\n",
              "  </style>\n",
              "\n",
              "      <script>\n",
              "        const buttonEl =\n",
              "          document.querySelector('#df-c6fa7e10-33d9-48c1-9f3d-5fa90077e040 button.colab-df-convert');\n",
              "        buttonEl.style.display =\n",
              "          google.colab.kernel.accessAllowed ? 'block' : 'none';\n",
              "\n",
              "        async function convertToInteractive(key) {\n",
              "          const element = document.querySelector('#df-c6fa7e10-33d9-48c1-9f3d-5fa90077e040');\n",
              "          const dataTable =\n",
              "            await google.colab.kernel.invokeFunction('convertToInteractive',\n",
              "                                                     [key], {});\n",
              "          if (!dataTable) return;\n",
              "\n",
              "          const docLinkHtml = 'Like what you see? Visit the ' +\n",
              "            '<a target=\"_blank\" href=https://colab.research.google.com/notebooks/data_table.ipynb>data table notebook</a>'\n",
              "            + ' to learn more about interactive tables.';\n",
              "          element.innerHTML = '';\n",
              "          dataTable['output_type'] = 'display_data';\n",
              "          await google.colab.output.renderOutput(dataTable, element);\n",
              "          const docLink = document.createElement('div');\n",
              "          docLink.innerHTML = docLinkHtml;\n",
              "          element.appendChild(docLink);\n",
              "        }\n",
              "      </script>\n",
              "    </div>\n",
              "  </div>\n",
              "  "
            ]
          },
          "metadata": {},
          "execution_count": 18
        }
      ]
    },
    {
      "cell_type": "code",
      "source": [
        "b_cancer_df.shape"
      ],
      "metadata": {
        "colab": {
          "base_uri": "https://localhost:8080/"
        },
        "id": "ydzSTC3cgc3R",
        "outputId": "d4d55dea-3a36-4471-deee-c12ca6e4ca83"
      },
      "execution_count": 19,
      "outputs": [
        {
          "output_type": "execute_result",
          "data": {
            "text/plain": [
              "(569, 31)"
            ]
          },
          "metadata": {},
          "execution_count": 19
        }
      ]
    },
    {
      "cell_type": "code",
      "source": [
        "b_cancer_df.info()"
      ],
      "metadata": {
        "colab": {
          "base_uri": "https://localhost:8080/"
        },
        "id": "NNzavlcSgjd-",
        "outputId": "8de28863-c5d3-4909-8d43-af09d192d385"
      },
      "execution_count": 20,
      "outputs": [
        {
          "output_type": "stream",
          "name": "stdout",
          "text": [
            "<class 'pandas.core.frame.DataFrame'>\n",
            "RangeIndex: 569 entries, 0 to 568\n",
            "Data columns (total 31 columns):\n",
            " #   Column                   Non-Null Count  Dtype  \n",
            "---  ------                   --------------  -----  \n",
            " 0   mean radius              569 non-null    float64\n",
            " 1   mean texture             569 non-null    float64\n",
            " 2   mean perimeter           569 non-null    float64\n",
            " 3   mean area                569 non-null    float64\n",
            " 4   mean smoothness          569 non-null    float64\n",
            " 5   mean compactness         569 non-null    float64\n",
            " 6   mean concavity           569 non-null    float64\n",
            " 7   mean concave points      569 non-null    float64\n",
            " 8   mean symmetry            569 non-null    float64\n",
            " 9   mean fractal dimension   569 non-null    float64\n",
            " 10  radius error             569 non-null    float64\n",
            " 11  texture error            569 non-null    float64\n",
            " 12  perimeter error          569 non-null    float64\n",
            " 13  area error               569 non-null    float64\n",
            " 14  smoothness error         569 non-null    float64\n",
            " 15  compactness error        569 non-null    float64\n",
            " 16  concavity error          569 non-null    float64\n",
            " 17  concave points error     569 non-null    float64\n",
            " 18  symmetry error           569 non-null    float64\n",
            " 19  fractal dimension error  569 non-null    float64\n",
            " 20  worst radius             569 non-null    float64\n",
            " 21  worst texture            569 non-null    float64\n",
            " 22  worst perimeter          569 non-null    float64\n",
            " 23  worst area               569 non-null    float64\n",
            " 24  worst smoothness         569 non-null    float64\n",
            " 25  worst compactness        569 non-null    float64\n",
            " 26  worst concavity          569 non-null    float64\n",
            " 27  worst concave points     569 non-null    float64\n",
            " 28  worst symmetry           569 non-null    float64\n",
            " 29  worst fractal dimension  569 non-null    float64\n",
            " 30  diagnosis                569 non-null    int64  \n",
            "dtypes: float64(30), int64(1)\n",
            "memory usage: 137.9 KB\n"
          ]
        }
      ]
    },
    {
      "cell_type": "code",
      "source": [
        "from sklearn.preprocessing import StandardScaler\n",
        "scaler = StandardScaler()\n",
        "\n",
        "b_cancer_scaled = scaler.fit_transform(b_cancer.data)\n",
        "\n",
        "pd.DataFrame(b_cancer_scaled, columns = b_cancer.feature_names)"
      ],
      "metadata": {
        "colab": {
          "base_uri": "https://localhost:8080/",
          "height": 522
        },
        "id": "bPPcF8HBgk6L",
        "outputId": "12f03e5d-ccb8-44aa-f6d2-3941e7892450"
      },
      "execution_count": 21,
      "outputs": [
        {
          "output_type": "execute_result",
          "data": {
            "text/plain": [
              "     mean radius  mean texture  mean perimeter  mean area  mean smoothness  \\\n",
              "0       1.097064     -2.073335        1.269934   0.984375         1.568466   \n",
              "1       1.829821     -0.353632        1.685955   1.908708        -0.826962   \n",
              "2       1.579888      0.456187        1.566503   1.558884         0.942210   \n",
              "3      -0.768909      0.253732       -0.592687  -0.764464         3.283553   \n",
              "4       1.750297     -1.151816        1.776573   1.826229         0.280372   \n",
              "..           ...           ...             ...        ...              ...   \n",
              "564     2.110995      0.721473        2.060786   2.343856         1.041842   \n",
              "565     1.704854      2.085134        1.615931   1.723842         0.102458   \n",
              "566     0.702284      2.045574        0.672676   0.577953        -0.840484   \n",
              "567     1.838341      2.336457        1.982524   1.735218         1.525767   \n",
              "568    -1.808401      1.221792       -1.814389  -1.347789        -3.112085   \n",
              "\n",
              "     mean compactness  mean concavity  mean concave points  mean symmetry  \\\n",
              "0            3.283515        2.652874             2.532475       2.217515   \n",
              "1           -0.487072       -0.023846             0.548144       0.001392   \n",
              "2            1.052926        1.363478             2.037231       0.939685   \n",
              "3            3.402909        1.915897             1.451707       2.867383   \n",
              "4            0.539340        1.371011             1.428493      -0.009560   \n",
              "..                ...             ...                  ...            ...   \n",
              "564          0.219060        1.947285             2.320965      -0.312589   \n",
              "565         -0.017833        0.693043             1.263669      -0.217664   \n",
              "566         -0.038680        0.046588             0.105777      -0.809117   \n",
              "567          3.272144        3.296944             2.658866       2.137194   \n",
              "568         -1.150752       -1.114873            -1.261820      -0.820070   \n",
              "\n",
              "     mean fractal dimension  ...  worst radius  worst texture  \\\n",
              "0                  2.255747  ...      1.886690      -1.359293   \n",
              "1                 -0.868652  ...      1.805927      -0.369203   \n",
              "2                 -0.398008  ...      1.511870      -0.023974   \n",
              "3                  4.910919  ...     -0.281464       0.133984   \n",
              "4                 -0.562450  ...      1.298575      -1.466770   \n",
              "..                      ...  ...           ...            ...   \n",
              "564               -0.931027  ...      1.901185       0.117700   \n",
              "565               -1.058611  ...      1.536720       2.047399   \n",
              "566               -0.895587  ...      0.561361       1.374854   \n",
              "567                1.043695  ...      1.961239       2.237926   \n",
              "568               -0.561032  ...     -1.410893       0.764190   \n",
              "\n",
              "     worst perimeter  worst area  worst smoothness  worst compactness  \\\n",
              "0           2.303601    2.001237          1.307686           2.616665   \n",
              "1           1.535126    1.890489         -0.375612          -0.430444   \n",
              "2           1.347475    1.456285          0.527407           1.082932   \n",
              "3          -0.249939   -0.550021          3.394275           3.893397   \n",
              "4           1.338539    1.220724          0.220556          -0.313395   \n",
              "..               ...         ...               ...                ...   \n",
              "564         1.752563    2.015301          0.378365          -0.273318   \n",
              "565         1.421940    1.494959         -0.691230          -0.394820   \n",
              "566         0.579001    0.427906         -0.809587           0.350735   \n",
              "567         2.303601    1.653171          1.430427           3.904848   \n",
              "568        -1.432735   -1.075813         -1.859019          -1.207552   \n",
              "\n",
              "     worst concavity  worst concave points  worst symmetry  \\\n",
              "0           2.109526              2.296076        2.750622   \n",
              "1          -0.146749              1.087084       -0.243890   \n",
              "2           0.854974              1.955000        1.152255   \n",
              "3           1.989588              2.175786        6.046041   \n",
              "4           0.613179              0.729259       -0.868353   \n",
              "..               ...                   ...             ...   \n",
              "564         0.664512              1.629151       -1.360158   \n",
              "565         0.236573              0.733827       -0.531855   \n",
              "566         0.326767              0.414069       -1.104549   \n",
              "567         3.197605              2.289985        1.919083   \n",
              "568        -1.305831             -1.745063       -0.048138   \n",
              "\n",
              "     worst fractal dimension  \n",
              "0                   1.937015  \n",
              "1                   0.281190  \n",
              "2                   0.201391  \n",
              "3                   4.935010  \n",
              "4                  -0.397100  \n",
              "..                       ...  \n",
              "564                -0.709091  \n",
              "565                -0.973978  \n",
              "566                -0.318409  \n",
              "567                 2.219635  \n",
              "568                -0.751207  \n",
              "\n",
              "[569 rows x 30 columns]"
            ],
            "text/html": [
              "\n",
              "  <div id=\"df-ab201ae4-3bed-42ee-9f24-fc74387bc908\">\n",
              "    <div class=\"colab-df-container\">\n",
              "      <div>\n",
              "<style scoped>\n",
              "    .dataframe tbody tr th:only-of-type {\n",
              "        vertical-align: middle;\n",
              "    }\n",
              "\n",
              "    .dataframe tbody tr th {\n",
              "        vertical-align: top;\n",
              "    }\n",
              "\n",
              "    .dataframe thead th {\n",
              "        text-align: right;\n",
              "    }\n",
              "</style>\n",
              "<table border=\"1\" class=\"dataframe\">\n",
              "  <thead>\n",
              "    <tr style=\"text-align: right;\">\n",
              "      <th></th>\n",
              "      <th>mean radius</th>\n",
              "      <th>mean texture</th>\n",
              "      <th>mean perimeter</th>\n",
              "      <th>mean area</th>\n",
              "      <th>mean smoothness</th>\n",
              "      <th>mean compactness</th>\n",
              "      <th>mean concavity</th>\n",
              "      <th>mean concave points</th>\n",
              "      <th>mean symmetry</th>\n",
              "      <th>mean fractal dimension</th>\n",
              "      <th>...</th>\n",
              "      <th>worst radius</th>\n",
              "      <th>worst texture</th>\n",
              "      <th>worst perimeter</th>\n",
              "      <th>worst area</th>\n",
              "      <th>worst smoothness</th>\n",
              "      <th>worst compactness</th>\n",
              "      <th>worst concavity</th>\n",
              "      <th>worst concave points</th>\n",
              "      <th>worst symmetry</th>\n",
              "      <th>worst fractal dimension</th>\n",
              "    </tr>\n",
              "  </thead>\n",
              "  <tbody>\n",
              "    <tr>\n",
              "      <th>0</th>\n",
              "      <td>1.097064</td>\n",
              "      <td>-2.073335</td>\n",
              "      <td>1.269934</td>\n",
              "      <td>0.984375</td>\n",
              "      <td>1.568466</td>\n",
              "      <td>3.283515</td>\n",
              "      <td>2.652874</td>\n",
              "      <td>2.532475</td>\n",
              "      <td>2.217515</td>\n",
              "      <td>2.255747</td>\n",
              "      <td>...</td>\n",
              "      <td>1.886690</td>\n",
              "      <td>-1.359293</td>\n",
              "      <td>2.303601</td>\n",
              "      <td>2.001237</td>\n",
              "      <td>1.307686</td>\n",
              "      <td>2.616665</td>\n",
              "      <td>2.109526</td>\n",
              "      <td>2.296076</td>\n",
              "      <td>2.750622</td>\n",
              "      <td>1.937015</td>\n",
              "    </tr>\n",
              "    <tr>\n",
              "      <th>1</th>\n",
              "      <td>1.829821</td>\n",
              "      <td>-0.353632</td>\n",
              "      <td>1.685955</td>\n",
              "      <td>1.908708</td>\n",
              "      <td>-0.826962</td>\n",
              "      <td>-0.487072</td>\n",
              "      <td>-0.023846</td>\n",
              "      <td>0.548144</td>\n",
              "      <td>0.001392</td>\n",
              "      <td>-0.868652</td>\n",
              "      <td>...</td>\n",
              "      <td>1.805927</td>\n",
              "      <td>-0.369203</td>\n",
              "      <td>1.535126</td>\n",
              "      <td>1.890489</td>\n",
              "      <td>-0.375612</td>\n",
              "      <td>-0.430444</td>\n",
              "      <td>-0.146749</td>\n",
              "      <td>1.087084</td>\n",
              "      <td>-0.243890</td>\n",
              "      <td>0.281190</td>\n",
              "    </tr>\n",
              "    <tr>\n",
              "      <th>2</th>\n",
              "      <td>1.579888</td>\n",
              "      <td>0.456187</td>\n",
              "      <td>1.566503</td>\n",
              "      <td>1.558884</td>\n",
              "      <td>0.942210</td>\n",
              "      <td>1.052926</td>\n",
              "      <td>1.363478</td>\n",
              "      <td>2.037231</td>\n",
              "      <td>0.939685</td>\n",
              "      <td>-0.398008</td>\n",
              "      <td>...</td>\n",
              "      <td>1.511870</td>\n",
              "      <td>-0.023974</td>\n",
              "      <td>1.347475</td>\n",
              "      <td>1.456285</td>\n",
              "      <td>0.527407</td>\n",
              "      <td>1.082932</td>\n",
              "      <td>0.854974</td>\n",
              "      <td>1.955000</td>\n",
              "      <td>1.152255</td>\n",
              "      <td>0.201391</td>\n",
              "    </tr>\n",
              "    <tr>\n",
              "      <th>3</th>\n",
              "      <td>-0.768909</td>\n",
              "      <td>0.253732</td>\n",
              "      <td>-0.592687</td>\n",
              "      <td>-0.764464</td>\n",
              "      <td>3.283553</td>\n",
              "      <td>3.402909</td>\n",
              "      <td>1.915897</td>\n",
              "      <td>1.451707</td>\n",
              "      <td>2.867383</td>\n",
              "      <td>4.910919</td>\n",
              "      <td>...</td>\n",
              "      <td>-0.281464</td>\n",
              "      <td>0.133984</td>\n",
              "      <td>-0.249939</td>\n",
              "      <td>-0.550021</td>\n",
              "      <td>3.394275</td>\n",
              "      <td>3.893397</td>\n",
              "      <td>1.989588</td>\n",
              "      <td>2.175786</td>\n",
              "      <td>6.046041</td>\n",
              "      <td>4.935010</td>\n",
              "    </tr>\n",
              "    <tr>\n",
              "      <th>4</th>\n",
              "      <td>1.750297</td>\n",
              "      <td>-1.151816</td>\n",
              "      <td>1.776573</td>\n",
              "      <td>1.826229</td>\n",
              "      <td>0.280372</td>\n",
              "      <td>0.539340</td>\n",
              "      <td>1.371011</td>\n",
              "      <td>1.428493</td>\n",
              "      <td>-0.009560</td>\n",
              "      <td>-0.562450</td>\n",
              "      <td>...</td>\n",
              "      <td>1.298575</td>\n",
              "      <td>-1.466770</td>\n",
              "      <td>1.338539</td>\n",
              "      <td>1.220724</td>\n",
              "      <td>0.220556</td>\n",
              "      <td>-0.313395</td>\n",
              "      <td>0.613179</td>\n",
              "      <td>0.729259</td>\n",
              "      <td>-0.868353</td>\n",
              "      <td>-0.397100</td>\n",
              "    </tr>\n",
              "    <tr>\n",
              "      <th>...</th>\n",
              "      <td>...</td>\n",
              "      <td>...</td>\n",
              "      <td>...</td>\n",
              "      <td>...</td>\n",
              "      <td>...</td>\n",
              "      <td>...</td>\n",
              "      <td>...</td>\n",
              "      <td>...</td>\n",
              "      <td>...</td>\n",
              "      <td>...</td>\n",
              "      <td>...</td>\n",
              "      <td>...</td>\n",
              "      <td>...</td>\n",
              "      <td>...</td>\n",
              "      <td>...</td>\n",
              "      <td>...</td>\n",
              "      <td>...</td>\n",
              "      <td>...</td>\n",
              "      <td>...</td>\n",
              "      <td>...</td>\n",
              "      <td>...</td>\n",
              "    </tr>\n",
              "    <tr>\n",
              "      <th>564</th>\n",
              "      <td>2.110995</td>\n",
              "      <td>0.721473</td>\n",
              "      <td>2.060786</td>\n",
              "      <td>2.343856</td>\n",
              "      <td>1.041842</td>\n",
              "      <td>0.219060</td>\n",
              "      <td>1.947285</td>\n",
              "      <td>2.320965</td>\n",
              "      <td>-0.312589</td>\n",
              "      <td>-0.931027</td>\n",
              "      <td>...</td>\n",
              "      <td>1.901185</td>\n",
              "      <td>0.117700</td>\n",
              "      <td>1.752563</td>\n",
              "      <td>2.015301</td>\n",
              "      <td>0.378365</td>\n",
              "      <td>-0.273318</td>\n",
              "      <td>0.664512</td>\n",
              "      <td>1.629151</td>\n",
              "      <td>-1.360158</td>\n",
              "      <td>-0.709091</td>\n",
              "    </tr>\n",
              "    <tr>\n",
              "      <th>565</th>\n",
              "      <td>1.704854</td>\n",
              "      <td>2.085134</td>\n",
              "      <td>1.615931</td>\n",
              "      <td>1.723842</td>\n",
              "      <td>0.102458</td>\n",
              "      <td>-0.017833</td>\n",
              "      <td>0.693043</td>\n",
              "      <td>1.263669</td>\n",
              "      <td>-0.217664</td>\n",
              "      <td>-1.058611</td>\n",
              "      <td>...</td>\n",
              "      <td>1.536720</td>\n",
              "      <td>2.047399</td>\n",
              "      <td>1.421940</td>\n",
              "      <td>1.494959</td>\n",
              "      <td>-0.691230</td>\n",
              "      <td>-0.394820</td>\n",
              "      <td>0.236573</td>\n",
              "      <td>0.733827</td>\n",
              "      <td>-0.531855</td>\n",
              "      <td>-0.973978</td>\n",
              "    </tr>\n",
              "    <tr>\n",
              "      <th>566</th>\n",
              "      <td>0.702284</td>\n",
              "      <td>2.045574</td>\n",
              "      <td>0.672676</td>\n",
              "      <td>0.577953</td>\n",
              "      <td>-0.840484</td>\n",
              "      <td>-0.038680</td>\n",
              "      <td>0.046588</td>\n",
              "      <td>0.105777</td>\n",
              "      <td>-0.809117</td>\n",
              "      <td>-0.895587</td>\n",
              "      <td>...</td>\n",
              "      <td>0.561361</td>\n",
              "      <td>1.374854</td>\n",
              "      <td>0.579001</td>\n",
              "      <td>0.427906</td>\n",
              "      <td>-0.809587</td>\n",
              "      <td>0.350735</td>\n",
              "      <td>0.326767</td>\n",
              "      <td>0.414069</td>\n",
              "      <td>-1.104549</td>\n",
              "      <td>-0.318409</td>\n",
              "    </tr>\n",
              "    <tr>\n",
              "      <th>567</th>\n",
              "      <td>1.838341</td>\n",
              "      <td>2.336457</td>\n",
              "      <td>1.982524</td>\n",
              "      <td>1.735218</td>\n",
              "      <td>1.525767</td>\n",
              "      <td>3.272144</td>\n",
              "      <td>3.296944</td>\n",
              "      <td>2.658866</td>\n",
              "      <td>2.137194</td>\n",
              "      <td>1.043695</td>\n",
              "      <td>...</td>\n",
              "      <td>1.961239</td>\n",
              "      <td>2.237926</td>\n",
              "      <td>2.303601</td>\n",
              "      <td>1.653171</td>\n",
              "      <td>1.430427</td>\n",
              "      <td>3.904848</td>\n",
              "      <td>3.197605</td>\n",
              "      <td>2.289985</td>\n",
              "      <td>1.919083</td>\n",
              "      <td>2.219635</td>\n",
              "    </tr>\n",
              "    <tr>\n",
              "      <th>568</th>\n",
              "      <td>-1.808401</td>\n",
              "      <td>1.221792</td>\n",
              "      <td>-1.814389</td>\n",
              "      <td>-1.347789</td>\n",
              "      <td>-3.112085</td>\n",
              "      <td>-1.150752</td>\n",
              "      <td>-1.114873</td>\n",
              "      <td>-1.261820</td>\n",
              "      <td>-0.820070</td>\n",
              "      <td>-0.561032</td>\n",
              "      <td>...</td>\n",
              "      <td>-1.410893</td>\n",
              "      <td>0.764190</td>\n",
              "      <td>-1.432735</td>\n",
              "      <td>-1.075813</td>\n",
              "      <td>-1.859019</td>\n",
              "      <td>-1.207552</td>\n",
              "      <td>-1.305831</td>\n",
              "      <td>-1.745063</td>\n",
              "      <td>-0.048138</td>\n",
              "      <td>-0.751207</td>\n",
              "    </tr>\n",
              "  </tbody>\n",
              "</table>\n",
              "<p>569 rows × 30 columns</p>\n",
              "</div>\n",
              "      <button class=\"colab-df-convert\" onclick=\"convertToInteractive('df-ab201ae4-3bed-42ee-9f24-fc74387bc908')\"\n",
              "              title=\"Convert this dataframe to an interactive table.\"\n",
              "              style=\"display:none;\">\n",
              "        \n",
              "  <svg xmlns=\"http://www.w3.org/2000/svg\" height=\"24px\"viewBox=\"0 0 24 24\"\n",
              "       width=\"24px\">\n",
              "    <path d=\"M0 0h24v24H0V0z\" fill=\"none\"/>\n",
              "    <path d=\"M18.56 5.44l.94 2.06.94-2.06 2.06-.94-2.06-.94-.94-2.06-.94 2.06-2.06.94zm-11 1L8.5 8.5l.94-2.06 2.06-.94-2.06-.94L8.5 2.5l-.94 2.06-2.06.94zm10 10l.94 2.06.94-2.06 2.06-.94-2.06-.94-.94-2.06-.94 2.06-2.06.94z\"/><path d=\"M17.41 7.96l-1.37-1.37c-.4-.4-.92-.59-1.43-.59-.52 0-1.04.2-1.43.59L10.3 9.45l-7.72 7.72c-.78.78-.78 2.05 0 2.83L4 21.41c.39.39.9.59 1.41.59.51 0 1.02-.2 1.41-.59l7.78-7.78 2.81-2.81c.8-.78.8-2.07 0-2.86zM5.41 20L4 18.59l7.72-7.72 1.47 1.35L5.41 20z\"/>\n",
              "  </svg>\n",
              "      </button>\n",
              "      \n",
              "  <style>\n",
              "    .colab-df-container {\n",
              "      display:flex;\n",
              "      flex-wrap:wrap;\n",
              "      gap: 12px;\n",
              "    }\n",
              "\n",
              "    .colab-df-convert {\n",
              "      background-color: #E8F0FE;\n",
              "      border: none;\n",
              "      border-radius: 50%;\n",
              "      cursor: pointer;\n",
              "      display: none;\n",
              "      fill: #1967D2;\n",
              "      height: 32px;\n",
              "      padding: 0 0 0 0;\n",
              "      width: 32px;\n",
              "    }\n",
              "\n",
              "    .colab-df-convert:hover {\n",
              "      background-color: #E2EBFA;\n",
              "      box-shadow: 0px 1px 2px rgba(60, 64, 67, 0.3), 0px 1px 3px 1px rgba(60, 64, 67, 0.15);\n",
              "      fill: #174EA6;\n",
              "    }\n",
              "\n",
              "    [theme=dark] .colab-df-convert {\n",
              "      background-color: #3B4455;\n",
              "      fill: #D2E3FC;\n",
              "    }\n",
              "\n",
              "    [theme=dark] .colab-df-convert:hover {\n",
              "      background-color: #434B5C;\n",
              "      box-shadow: 0px 1px 3px 1px rgba(0, 0, 0, 0.15);\n",
              "      filter: drop-shadow(0px 1px 2px rgba(0, 0, 0, 0.3));\n",
              "      fill: #FFFFFF;\n",
              "    }\n",
              "  </style>\n",
              "\n",
              "      <script>\n",
              "        const buttonEl =\n",
              "          document.querySelector('#df-ab201ae4-3bed-42ee-9f24-fc74387bc908 button.colab-df-convert');\n",
              "        buttonEl.style.display =\n",
              "          google.colab.kernel.accessAllowed ? 'block' : 'none';\n",
              "\n",
              "        async function convertToInteractive(key) {\n",
              "          const element = document.querySelector('#df-ab201ae4-3bed-42ee-9f24-fc74387bc908');\n",
              "          const dataTable =\n",
              "            await google.colab.kernel.invokeFunction('convertToInteractive',\n",
              "                                                     [key], {});\n",
              "          if (!dataTable) return;\n",
              "\n",
              "          const docLinkHtml = 'Like what you see? Visit the ' +\n",
              "            '<a target=\"_blank\" href=https://colab.research.google.com/notebooks/data_table.ipynb>data table notebook</a>'\n",
              "            + ' to learn more about interactive tables.';\n",
              "          element.innerHTML = '';\n",
              "          dataTable['output_type'] = 'display_data';\n",
              "          await google.colab.output.renderOutput(dataTable, element);\n",
              "          const docLink = document.createElement('div');\n",
              "          docLink.innerHTML = docLinkHtml;\n",
              "          element.appendChild(docLink);\n",
              "        }\n",
              "      </script>\n",
              "    </div>\n",
              "  </div>\n",
              "  "
            ]
          },
          "metadata": {},
          "execution_count": 21
        }
      ]
    },
    {
      "cell_type": "code",
      "source": [
        "from sklearn.linear_model import LogisticRegression\n",
        "from sklearn.model_selection import train_test_split\n",
        "\n",
        "Y = b_cancer_df['diagnosis']\n",
        "X = b_cancer_scaled\n",
        "\n",
        "X_train, X_test, Y_train, Y_test = train_test_split(X, Y, test_size=0.3, random_state=0)\n"
      ],
      "metadata": {
        "id": "WDAzEiYVhIaM"
      },
      "execution_count": 22,
      "outputs": []
    },
    {
      "cell_type": "code",
      "source": [
        "lr_b_cancer = LogisticRegression()\n",
        "lr_b_cancer.fit(X_train, Y_train)\n",
        "Y_predict = lr_b_cancer.predict(X_test)"
      ],
      "metadata": {
        "id": "Iq70GIGdiCBf"
      },
      "execution_count": 23,
      "outputs": []
    },
    {
      "cell_type": "code",
      "source": [
        "from sklearn.metrics import confusion_matrix, accuracy_score\n",
        "from sklearn.metrics import precision_score, recall_score, f1_score,roc_auc_score\n",
        "\n",
        "confusion_matrix(Y_test, Y_predict)"
      ],
      "metadata": {
        "colab": {
          "base_uri": "https://localhost:8080/"
        },
        "id": "WvRl1He5iE-A",
        "outputId": "a0231aca-fa15-4dd9-96dd-b18a5d408104"
      },
      "execution_count": 24,
      "outputs": [
        {
          "output_type": "execute_result",
          "data": {
            "text/plain": [
              "array([[ 60,   3],\n",
              "       [  1, 107]])"
            ]
          },
          "metadata": {},
          "execution_count": 24
        }
      ]
    },
    {
      "cell_type": "code",
      "source": [
        "accuracy = accuracy_score(Y_test, Y_predict)\n",
        "precision = precision_score(Y_test, Y_predict)\n",
        "recall = recall_score(Y_test, Y_predict)\n",
        "f1 = f1_score(Y_test, Y_predict)\n",
        "roc_auc = roc_auc_score(Y_test, Y_predict)\n",
        "\n",
        "print('정확도: {0:.3f}, 정밀도: {1:.3f}, 재현율: {2:.3f}, F1: {3:.3f}'.format(accuracy, precision, recall, f1))\n",
        "print('ROC_AUC: {0:.3f}'.format(roc_auc))\n"
      ],
      "metadata": {
        "colab": {
          "base_uri": "https://localhost:8080/"
        },
        "id": "xEtRBe5IitWo",
        "outputId": "48984fe3-7a04-47a4-80aa-fc0c077b5c40"
      },
      "execution_count": 25,
      "outputs": [
        {
          "output_type": "stream",
          "name": "stdout",
          "text": [
            "정확도: 0.977, 정밀도: 0.973, 재현율: 0.991, F1: 0.982\n",
            "ROC_AUC: 0.972\n"
          ]
        }
      ]
    },
    {
      "cell_type": "code",
      "source": [],
      "metadata": {
        "id": "pX-I5TBXlAsA"
      },
      "execution_count": 25,
      "outputs": []
    },
    {
      "cell_type": "code",
      "source": [
        "import numpy as np\n",
        "import pandas as pd\n"
      ],
      "metadata": {
        "id": "OgCr966fj-nm"
      },
      "execution_count": 26,
      "outputs": []
    },
    {
      "cell_type": "code",
      "source": [
        "feature_name_df = pd.read_csv('/content/drive/MyDrive/data/UCI HAR Dataset/features.txt', sep = '\\s+',\n",
        "                              header=None, names = ['index', 'feature_name'],\n",
        "                              engine='python')\n",
        "feature_name_df.shape"
      ],
      "metadata": {
        "colab": {
          "base_uri": "https://localhost:8080/"
        },
        "id": "zADjJJ9xlD4d",
        "outputId": "d861b7f6-a1fd-421f-b53a-5a309a44339d"
      },
      "execution_count": 27,
      "outputs": [
        {
          "output_type": "execute_result",
          "data": {
            "text/plain": [
              "(561, 2)"
            ]
          },
          "metadata": {},
          "execution_count": 27
        }
      ]
    },
    {
      "cell_type": "code",
      "source": [
        "feature_name = feature_name_df.iloc[:, 1].values.tolist()\n",
        "feature_name[0]"
      ],
      "metadata": {
        "id": "iiB5iPpBldEt",
        "colab": {
          "base_uri": "https://localhost:8080/",
          "height": 36
        },
        "outputId": "6fcf33bd-975f-4818-c614-4c937f0b94f2"
      },
      "execution_count": 28,
      "outputs": [
        {
          "output_type": "execute_result",
          "data": {
            "text/plain": [
              "'tBodyAcc-mean()-X'"
            ],
            "application/vnd.google.colaboratory.intrinsic+json": {
              "type": "string"
            }
          },
          "metadata": {},
          "execution_count": 28
        }
      ]
    },
    {
      "cell_type": "code",
      "source": [
        "f_name=[]\n",
        "for i, n in enumerate(feature_name):\n",
        "  f_name.append(n + '_'+str(i))"
      ],
      "metadata": {
        "id": "w1894wlWlmTm"
      },
      "execution_count": 29,
      "outputs": []
    },
    {
      "cell_type": "code",
      "source": [
        "X_train = pd.read_csv('/content/drive/MyDrive/data/UCI HAR Dataset/train/X_train.txt',sep = '\\s+',\n",
        "                      names=f_name, engine='python')\n",
        "X_test = pd.read_csv('/content/drive/MyDrive/data/UCI HAR Dataset/test/X_test.txt', sep='\\s+',\n",
        "                     names=f_name, engine='python')\n",
        "Y_train = pd.read_csv('/content/drive/MyDrive/data/UCI HAR Dataset/train/y_train.txt', sep='\\s+', header=None,\n",
        "                      names=['action'], engine='python')\n",
        "Y_test = pd.read_csv('/content/drive/MyDrive/data/UCI HAR Dataset/test/y_test.txt', sep='\\s+', header=None, names=['action'], engine='python')\n",
        "\n"
      ],
      "metadata": {
        "id": "PuVBbyU9l_YF"
      },
      "execution_count": 30,
      "outputs": []
    },
    {
      "cell_type": "code",
      "source": [
        "X_train.shape"
      ],
      "metadata": {
        "id": "jbsRWxyTlbY-",
        "colab": {
          "base_uri": "https://localhost:8080/"
        },
        "outputId": "84137515-cddb-491b-d031-9a0f1c01cf13"
      },
      "execution_count": 31,
      "outputs": [
        {
          "output_type": "execute_result",
          "data": {
            "text/plain": [
              "(7352, 561)"
            ]
          },
          "metadata": {},
          "execution_count": 31
        }
      ]
    },
    {
      "cell_type": "code",
      "source": [
        "X_train.head()"
      ],
      "metadata": {
        "id": "O-UcvvsrmMEg",
        "colab": {
          "base_uri": "https://localhost:8080/",
          "height": 334
        },
        "outputId": "5e945006-2b2b-41f0-95bd-f1b207df0645"
      },
      "execution_count": 32,
      "outputs": [
        {
          "output_type": "execute_result",
          "data": {
            "text/plain": [
              "   tBodyAcc-mean()-X_0  tBodyAcc-mean()-Y_1  tBodyAcc-mean()-Z_2  \\\n",
              "0             0.288585            -0.020294            -0.132905   \n",
              "1             0.278419            -0.016411            -0.123520   \n",
              "2             0.279653            -0.019467            -0.113462   \n",
              "3             0.279174            -0.026201            -0.123283   \n",
              "4             0.276629            -0.016570            -0.115362   \n",
              "\n",
              "   tBodyAcc-std()-X_3  tBodyAcc-std()-Y_4  tBodyAcc-std()-Z_5  \\\n",
              "0           -0.995279           -0.983111           -0.913526   \n",
              "1           -0.998245           -0.975300           -0.960322   \n",
              "2           -0.995380           -0.967187           -0.978944   \n",
              "3           -0.996091           -0.983403           -0.990675   \n",
              "4           -0.998139           -0.980817           -0.990482   \n",
              "\n",
              "   tBodyAcc-mad()-X_6  tBodyAcc-mad()-Y_7  tBodyAcc-mad()-Z_8  \\\n",
              "0           -0.995112           -0.983185           -0.923527   \n",
              "1           -0.998807           -0.974914           -0.957686   \n",
              "2           -0.996520           -0.963668           -0.977469   \n",
              "3           -0.997099           -0.982750           -0.989302   \n",
              "4           -0.998321           -0.979672           -0.990441   \n",
              "\n",
              "   tBodyAcc-max()-X_9  ...  fBodyBodyGyroJerkMag-meanFreq()_551  \\\n",
              "0           -0.934724  ...                            -0.074323   \n",
              "1           -0.943068  ...                             0.158075   \n",
              "2           -0.938692  ...                             0.414503   \n",
              "3           -0.938692  ...                             0.404573   \n",
              "4           -0.942469  ...                             0.087753   \n",
              "\n",
              "   fBodyBodyGyroJerkMag-skewness()_552  fBodyBodyGyroJerkMag-kurtosis()_553  \\\n",
              "0                            -0.298676                            -0.710304   \n",
              "1                            -0.595051                            -0.861499   \n",
              "2                            -0.390748                            -0.760104   \n",
              "3                            -0.117290                            -0.482845   \n",
              "4                            -0.351471                            -0.699205   \n",
              "\n",
              "   angle(tBodyAccMean,gravity)_554  angle(tBodyAccJerkMean),gravityMean)_555  \\\n",
              "0                        -0.112754                                  0.030400   \n",
              "1                         0.053477                                 -0.007435   \n",
              "2                        -0.118559                                  0.177899   \n",
              "3                        -0.036788                                 -0.012892   \n",
              "4                         0.123320                                  0.122542   \n",
              "\n",
              "   angle(tBodyGyroMean,gravityMean)_556  \\\n",
              "0                             -0.464761   \n",
              "1                             -0.732626   \n",
              "2                              0.100699   \n",
              "3                              0.640011   \n",
              "4                              0.693578   \n",
              "\n",
              "   angle(tBodyGyroJerkMean,gravityMean)_557  angle(X,gravityMean)_558  \\\n",
              "0                                 -0.018446                 -0.841247   \n",
              "1                                  0.703511                 -0.844788   \n",
              "2                                  0.808529                 -0.848933   \n",
              "3                                 -0.485366                 -0.848649   \n",
              "4                                 -0.615971                 -0.847865   \n",
              "\n",
              "   angle(Y,gravityMean)_559  angle(Z,gravityMean)_560  \n",
              "0                  0.179941                 -0.058627  \n",
              "1                  0.180289                 -0.054317  \n",
              "2                  0.180637                 -0.049118  \n",
              "3                  0.181935                 -0.047663  \n",
              "4                  0.185151                 -0.043892  \n",
              "\n",
              "[5 rows x 561 columns]"
            ],
            "text/html": [
              "\n",
              "  <div id=\"df-7b87e526-6a35-437c-bcb3-9a68fc1c48f0\">\n",
              "    <div class=\"colab-df-container\">\n",
              "      <div>\n",
              "<style scoped>\n",
              "    .dataframe tbody tr th:only-of-type {\n",
              "        vertical-align: middle;\n",
              "    }\n",
              "\n",
              "    .dataframe tbody tr th {\n",
              "        vertical-align: top;\n",
              "    }\n",
              "\n",
              "    .dataframe thead th {\n",
              "        text-align: right;\n",
              "    }\n",
              "</style>\n",
              "<table border=\"1\" class=\"dataframe\">\n",
              "  <thead>\n",
              "    <tr style=\"text-align: right;\">\n",
              "      <th></th>\n",
              "      <th>tBodyAcc-mean()-X_0</th>\n",
              "      <th>tBodyAcc-mean()-Y_1</th>\n",
              "      <th>tBodyAcc-mean()-Z_2</th>\n",
              "      <th>tBodyAcc-std()-X_3</th>\n",
              "      <th>tBodyAcc-std()-Y_4</th>\n",
              "      <th>tBodyAcc-std()-Z_5</th>\n",
              "      <th>tBodyAcc-mad()-X_6</th>\n",
              "      <th>tBodyAcc-mad()-Y_7</th>\n",
              "      <th>tBodyAcc-mad()-Z_8</th>\n",
              "      <th>tBodyAcc-max()-X_9</th>\n",
              "      <th>...</th>\n",
              "      <th>fBodyBodyGyroJerkMag-meanFreq()_551</th>\n",
              "      <th>fBodyBodyGyroJerkMag-skewness()_552</th>\n",
              "      <th>fBodyBodyGyroJerkMag-kurtosis()_553</th>\n",
              "      <th>angle(tBodyAccMean,gravity)_554</th>\n",
              "      <th>angle(tBodyAccJerkMean),gravityMean)_555</th>\n",
              "      <th>angle(tBodyGyroMean,gravityMean)_556</th>\n",
              "      <th>angle(tBodyGyroJerkMean,gravityMean)_557</th>\n",
              "      <th>angle(X,gravityMean)_558</th>\n",
              "      <th>angle(Y,gravityMean)_559</th>\n",
              "      <th>angle(Z,gravityMean)_560</th>\n",
              "    </tr>\n",
              "  </thead>\n",
              "  <tbody>\n",
              "    <tr>\n",
              "      <th>0</th>\n",
              "      <td>0.288585</td>\n",
              "      <td>-0.020294</td>\n",
              "      <td>-0.132905</td>\n",
              "      <td>-0.995279</td>\n",
              "      <td>-0.983111</td>\n",
              "      <td>-0.913526</td>\n",
              "      <td>-0.995112</td>\n",
              "      <td>-0.983185</td>\n",
              "      <td>-0.923527</td>\n",
              "      <td>-0.934724</td>\n",
              "      <td>...</td>\n",
              "      <td>-0.074323</td>\n",
              "      <td>-0.298676</td>\n",
              "      <td>-0.710304</td>\n",
              "      <td>-0.112754</td>\n",
              "      <td>0.030400</td>\n",
              "      <td>-0.464761</td>\n",
              "      <td>-0.018446</td>\n",
              "      <td>-0.841247</td>\n",
              "      <td>0.179941</td>\n",
              "      <td>-0.058627</td>\n",
              "    </tr>\n",
              "    <tr>\n",
              "      <th>1</th>\n",
              "      <td>0.278419</td>\n",
              "      <td>-0.016411</td>\n",
              "      <td>-0.123520</td>\n",
              "      <td>-0.998245</td>\n",
              "      <td>-0.975300</td>\n",
              "      <td>-0.960322</td>\n",
              "      <td>-0.998807</td>\n",
              "      <td>-0.974914</td>\n",
              "      <td>-0.957686</td>\n",
              "      <td>-0.943068</td>\n",
              "      <td>...</td>\n",
              "      <td>0.158075</td>\n",
              "      <td>-0.595051</td>\n",
              "      <td>-0.861499</td>\n",
              "      <td>0.053477</td>\n",
              "      <td>-0.007435</td>\n",
              "      <td>-0.732626</td>\n",
              "      <td>0.703511</td>\n",
              "      <td>-0.844788</td>\n",
              "      <td>0.180289</td>\n",
              "      <td>-0.054317</td>\n",
              "    </tr>\n",
              "    <tr>\n",
              "      <th>2</th>\n",
              "      <td>0.279653</td>\n",
              "      <td>-0.019467</td>\n",
              "      <td>-0.113462</td>\n",
              "      <td>-0.995380</td>\n",
              "      <td>-0.967187</td>\n",
              "      <td>-0.978944</td>\n",
              "      <td>-0.996520</td>\n",
              "      <td>-0.963668</td>\n",
              "      <td>-0.977469</td>\n",
              "      <td>-0.938692</td>\n",
              "      <td>...</td>\n",
              "      <td>0.414503</td>\n",
              "      <td>-0.390748</td>\n",
              "      <td>-0.760104</td>\n",
              "      <td>-0.118559</td>\n",
              "      <td>0.177899</td>\n",
              "      <td>0.100699</td>\n",
              "      <td>0.808529</td>\n",
              "      <td>-0.848933</td>\n",
              "      <td>0.180637</td>\n",
              "      <td>-0.049118</td>\n",
              "    </tr>\n",
              "    <tr>\n",
              "      <th>3</th>\n",
              "      <td>0.279174</td>\n",
              "      <td>-0.026201</td>\n",
              "      <td>-0.123283</td>\n",
              "      <td>-0.996091</td>\n",
              "      <td>-0.983403</td>\n",
              "      <td>-0.990675</td>\n",
              "      <td>-0.997099</td>\n",
              "      <td>-0.982750</td>\n",
              "      <td>-0.989302</td>\n",
              "      <td>-0.938692</td>\n",
              "      <td>...</td>\n",
              "      <td>0.404573</td>\n",
              "      <td>-0.117290</td>\n",
              "      <td>-0.482845</td>\n",
              "      <td>-0.036788</td>\n",
              "      <td>-0.012892</td>\n",
              "      <td>0.640011</td>\n",
              "      <td>-0.485366</td>\n",
              "      <td>-0.848649</td>\n",
              "      <td>0.181935</td>\n",
              "      <td>-0.047663</td>\n",
              "    </tr>\n",
              "    <tr>\n",
              "      <th>4</th>\n",
              "      <td>0.276629</td>\n",
              "      <td>-0.016570</td>\n",
              "      <td>-0.115362</td>\n",
              "      <td>-0.998139</td>\n",
              "      <td>-0.980817</td>\n",
              "      <td>-0.990482</td>\n",
              "      <td>-0.998321</td>\n",
              "      <td>-0.979672</td>\n",
              "      <td>-0.990441</td>\n",
              "      <td>-0.942469</td>\n",
              "      <td>...</td>\n",
              "      <td>0.087753</td>\n",
              "      <td>-0.351471</td>\n",
              "      <td>-0.699205</td>\n",
              "      <td>0.123320</td>\n",
              "      <td>0.122542</td>\n",
              "      <td>0.693578</td>\n",
              "      <td>-0.615971</td>\n",
              "      <td>-0.847865</td>\n",
              "      <td>0.185151</td>\n",
              "      <td>-0.043892</td>\n",
              "    </tr>\n",
              "  </tbody>\n",
              "</table>\n",
              "<p>5 rows × 561 columns</p>\n",
              "</div>\n",
              "      <button class=\"colab-df-convert\" onclick=\"convertToInteractive('df-7b87e526-6a35-437c-bcb3-9a68fc1c48f0')\"\n",
              "              title=\"Convert this dataframe to an interactive table.\"\n",
              "              style=\"display:none;\">\n",
              "        \n",
              "  <svg xmlns=\"http://www.w3.org/2000/svg\" height=\"24px\"viewBox=\"0 0 24 24\"\n",
              "       width=\"24px\">\n",
              "    <path d=\"M0 0h24v24H0V0z\" fill=\"none\"/>\n",
              "    <path d=\"M18.56 5.44l.94 2.06.94-2.06 2.06-.94-2.06-.94-.94-2.06-.94 2.06-2.06.94zm-11 1L8.5 8.5l.94-2.06 2.06-.94-2.06-.94L8.5 2.5l-.94 2.06-2.06.94zm10 10l.94 2.06.94-2.06 2.06-.94-2.06-.94-.94-2.06-.94 2.06-2.06.94z\"/><path d=\"M17.41 7.96l-1.37-1.37c-.4-.4-.92-.59-1.43-.59-.52 0-1.04.2-1.43.59L10.3 9.45l-7.72 7.72c-.78.78-.78 2.05 0 2.83L4 21.41c.39.39.9.59 1.41.59.51 0 1.02-.2 1.41-.59l7.78-7.78 2.81-2.81c.8-.78.8-2.07 0-2.86zM5.41 20L4 18.59l7.72-7.72 1.47 1.35L5.41 20z\"/>\n",
              "  </svg>\n",
              "      </button>\n",
              "      \n",
              "  <style>\n",
              "    .colab-df-container {\n",
              "      display:flex;\n",
              "      flex-wrap:wrap;\n",
              "      gap: 12px;\n",
              "    }\n",
              "\n",
              "    .colab-df-convert {\n",
              "      background-color: #E8F0FE;\n",
              "      border: none;\n",
              "      border-radius: 50%;\n",
              "      cursor: pointer;\n",
              "      display: none;\n",
              "      fill: #1967D2;\n",
              "      height: 32px;\n",
              "      padding: 0 0 0 0;\n",
              "      width: 32px;\n",
              "    }\n",
              "\n",
              "    .colab-df-convert:hover {\n",
              "      background-color: #E2EBFA;\n",
              "      box-shadow: 0px 1px 2px rgba(60, 64, 67, 0.3), 0px 1px 3px 1px rgba(60, 64, 67, 0.15);\n",
              "      fill: #174EA6;\n",
              "    }\n",
              "\n",
              "    [theme=dark] .colab-df-convert {\n",
              "      background-color: #3B4455;\n",
              "      fill: #D2E3FC;\n",
              "    }\n",
              "\n",
              "    [theme=dark] .colab-df-convert:hover {\n",
              "      background-color: #434B5C;\n",
              "      box-shadow: 0px 1px 3px 1px rgba(0, 0, 0, 0.15);\n",
              "      filter: drop-shadow(0px 1px 2px rgba(0, 0, 0, 0.3));\n",
              "      fill: #FFFFFF;\n",
              "    }\n",
              "  </style>\n",
              "\n",
              "      <script>\n",
              "        const buttonEl =\n",
              "          document.querySelector('#df-7b87e526-6a35-437c-bcb3-9a68fc1c48f0 button.colab-df-convert');\n",
              "        buttonEl.style.display =\n",
              "          google.colab.kernel.accessAllowed ? 'block' : 'none';\n",
              "\n",
              "        async function convertToInteractive(key) {\n",
              "          const element = document.querySelector('#df-7b87e526-6a35-437c-bcb3-9a68fc1c48f0');\n",
              "          const dataTable =\n",
              "            await google.colab.kernel.invokeFunction('convertToInteractive',\n",
              "                                                     [key], {});\n",
              "          if (!dataTable) return;\n",
              "\n",
              "          const docLinkHtml = 'Like what you see? Visit the ' +\n",
              "            '<a target=\"_blank\" href=https://colab.research.google.com/notebooks/data_table.ipynb>data table notebook</a>'\n",
              "            + ' to learn more about interactive tables.';\n",
              "          element.innerHTML = '';\n",
              "          dataTable['output_type'] = 'display_data';\n",
              "          await google.colab.output.renderOutput(dataTable, element);\n",
              "          const docLink = document.createElement('div');\n",
              "          docLink.innerHTML = docLinkHtml;\n",
              "          element.appendChild(docLink);\n",
              "        }\n",
              "      </script>\n",
              "    </div>\n",
              "  </div>\n",
              "  "
            ]
          },
          "metadata": {},
          "execution_count": 32
        }
      ]
    },
    {
      "cell_type": "code",
      "source": [
        "print(Y_train['action'].value_counts())"
      ],
      "metadata": {
        "id": "UYzJ7B92mPY5",
        "colab": {
          "base_uri": "https://localhost:8080/"
        },
        "outputId": "e01b85cb-0f01-46a4-86fc-f865c78b687c"
      },
      "execution_count": 33,
      "outputs": [
        {
          "output_type": "stream",
          "name": "stdout",
          "text": [
            "6    1407\n",
            "5    1374\n",
            "4    1286\n",
            "1    1226\n",
            "2    1073\n",
            "3     986\n",
            "Name: action, dtype: int64\n"
          ]
        }
      ]
    },
    {
      "cell_type": "code",
      "source": [
        "label_name_df = pd.read_csv('/content/drive/MyDrive/data/UCI HAR Dataset/activity_labels.txt', sep='\\s+', header=None,\n",
        "                            names=['index', 'label'],\n",
        "                            engine='python')\n",
        "label_name_df"
      ],
      "metadata": {
        "id": "Pp3TLHwhmTjp",
        "colab": {
          "base_uri": "https://localhost:8080/",
          "height": 237
        },
        "outputId": "a24e994a-00a6-4590-a354-4d414abce241"
      },
      "execution_count": 34,
      "outputs": [
        {
          "output_type": "execute_result",
          "data": {
            "text/plain": [
              "   index               label\n",
              "0      1             WALKING\n",
              "1      2    WALKING_UPSTAIRS\n",
              "2      3  WALKING_DOWNSTAIRS\n",
              "3      4             SITTING\n",
              "4      5            STANDING\n",
              "5      6              LAYING"
            ],
            "text/html": [
              "\n",
              "  <div id=\"df-316e77a2-99e2-4635-92eb-195bfdf38ee4\">\n",
              "    <div class=\"colab-df-container\">\n",
              "      <div>\n",
              "<style scoped>\n",
              "    .dataframe tbody tr th:only-of-type {\n",
              "        vertical-align: middle;\n",
              "    }\n",
              "\n",
              "    .dataframe tbody tr th {\n",
              "        vertical-align: top;\n",
              "    }\n",
              "\n",
              "    .dataframe thead th {\n",
              "        text-align: right;\n",
              "    }\n",
              "</style>\n",
              "<table border=\"1\" class=\"dataframe\">\n",
              "  <thead>\n",
              "    <tr style=\"text-align: right;\">\n",
              "      <th></th>\n",
              "      <th>index</th>\n",
              "      <th>label</th>\n",
              "    </tr>\n",
              "  </thead>\n",
              "  <tbody>\n",
              "    <tr>\n",
              "      <th>0</th>\n",
              "      <td>1</td>\n",
              "      <td>WALKING</td>\n",
              "    </tr>\n",
              "    <tr>\n",
              "      <th>1</th>\n",
              "      <td>2</td>\n",
              "      <td>WALKING_UPSTAIRS</td>\n",
              "    </tr>\n",
              "    <tr>\n",
              "      <th>2</th>\n",
              "      <td>3</td>\n",
              "      <td>WALKING_DOWNSTAIRS</td>\n",
              "    </tr>\n",
              "    <tr>\n",
              "      <th>3</th>\n",
              "      <td>4</td>\n",
              "      <td>SITTING</td>\n",
              "    </tr>\n",
              "    <tr>\n",
              "      <th>4</th>\n",
              "      <td>5</td>\n",
              "      <td>STANDING</td>\n",
              "    </tr>\n",
              "    <tr>\n",
              "      <th>5</th>\n",
              "      <td>6</td>\n",
              "      <td>LAYING</td>\n",
              "    </tr>\n",
              "  </tbody>\n",
              "</table>\n",
              "</div>\n",
              "      <button class=\"colab-df-convert\" onclick=\"convertToInteractive('df-316e77a2-99e2-4635-92eb-195bfdf38ee4')\"\n",
              "              title=\"Convert this dataframe to an interactive table.\"\n",
              "              style=\"display:none;\">\n",
              "        \n",
              "  <svg xmlns=\"http://www.w3.org/2000/svg\" height=\"24px\"viewBox=\"0 0 24 24\"\n",
              "       width=\"24px\">\n",
              "    <path d=\"M0 0h24v24H0V0z\" fill=\"none\"/>\n",
              "    <path d=\"M18.56 5.44l.94 2.06.94-2.06 2.06-.94-2.06-.94-.94-2.06-.94 2.06-2.06.94zm-11 1L8.5 8.5l.94-2.06 2.06-.94-2.06-.94L8.5 2.5l-.94 2.06-2.06.94zm10 10l.94 2.06.94-2.06 2.06-.94-2.06-.94-.94-2.06-.94 2.06-2.06.94z\"/><path d=\"M17.41 7.96l-1.37-1.37c-.4-.4-.92-.59-1.43-.59-.52 0-1.04.2-1.43.59L10.3 9.45l-7.72 7.72c-.78.78-.78 2.05 0 2.83L4 21.41c.39.39.9.59 1.41.59.51 0 1.02-.2 1.41-.59l7.78-7.78 2.81-2.81c.8-.78.8-2.07 0-2.86zM5.41 20L4 18.59l7.72-7.72 1.47 1.35L5.41 20z\"/>\n",
              "  </svg>\n",
              "      </button>\n",
              "      \n",
              "  <style>\n",
              "    .colab-df-container {\n",
              "      display:flex;\n",
              "      flex-wrap:wrap;\n",
              "      gap: 12px;\n",
              "    }\n",
              "\n",
              "    .colab-df-convert {\n",
              "      background-color: #E8F0FE;\n",
              "      border: none;\n",
              "      border-radius: 50%;\n",
              "      cursor: pointer;\n",
              "      display: none;\n",
              "      fill: #1967D2;\n",
              "      height: 32px;\n",
              "      padding: 0 0 0 0;\n",
              "      width: 32px;\n",
              "    }\n",
              "\n",
              "    .colab-df-convert:hover {\n",
              "      background-color: #E2EBFA;\n",
              "      box-shadow: 0px 1px 2px rgba(60, 64, 67, 0.3), 0px 1px 3px 1px rgba(60, 64, 67, 0.15);\n",
              "      fill: #174EA6;\n",
              "    }\n",
              "\n",
              "    [theme=dark] .colab-df-convert {\n",
              "      background-color: #3B4455;\n",
              "      fill: #D2E3FC;\n",
              "    }\n",
              "\n",
              "    [theme=dark] .colab-df-convert:hover {\n",
              "      background-color: #434B5C;\n",
              "      box-shadow: 0px 1px 3px 1px rgba(0, 0, 0, 0.15);\n",
              "      filter: drop-shadow(0px 1px 2px rgba(0, 0, 0, 0.3));\n",
              "      fill: #FFFFFF;\n",
              "    }\n",
              "  </style>\n",
              "\n",
              "      <script>\n",
              "        const buttonEl =\n",
              "          document.querySelector('#df-316e77a2-99e2-4635-92eb-195bfdf38ee4 button.colab-df-convert');\n",
              "        buttonEl.style.display =\n",
              "          google.colab.kernel.accessAllowed ? 'block' : 'none';\n",
              "\n",
              "        async function convertToInteractive(key) {\n",
              "          const element = document.querySelector('#df-316e77a2-99e2-4635-92eb-195bfdf38ee4');\n",
              "          const dataTable =\n",
              "            await google.colab.kernel.invokeFunction('convertToInteractive',\n",
              "                                                     [key], {});\n",
              "          if (!dataTable) return;\n",
              "\n",
              "          const docLinkHtml = 'Like what you see? Visit the ' +\n",
              "            '<a target=\"_blank\" href=https://colab.research.google.com/notebooks/data_table.ipynb>data table notebook</a>'\n",
              "            + ' to learn more about interactive tables.';\n",
              "          element.innerHTML = '';\n",
              "          dataTable['output_type'] = 'display_data';\n",
              "          await google.colab.output.renderOutput(dataTable, element);\n",
              "          const docLink = document.createElement('div');\n",
              "          docLink.innerHTML = docLinkHtml;\n",
              "          element.appendChild(docLink);\n",
              "        }\n",
              "      </script>\n",
              "    </div>\n",
              "  </div>\n",
              "  "
            ]
          },
          "metadata": {},
          "execution_count": 34
        }
      ]
    },
    {
      "cell_type": "code",
      "source": [
        "label_name = label_name_df.iloc[:, 1].values.tolist()\n",
        "label_name"
      ],
      "metadata": {
        "id": "iC3Qsql9my3e",
        "colab": {
          "base_uri": "https://localhost:8080/"
        },
        "outputId": "9b1dccbb-eeda-4533-96f6-0cc33723d7d0"
      },
      "execution_count": 35,
      "outputs": [
        {
          "output_type": "execute_result",
          "data": {
            "text/plain": [
              "['WALKING',\n",
              " 'WALKING_UPSTAIRS',\n",
              " 'WALKING_DOWNSTAIRS',\n",
              " 'SITTING',\n",
              " 'STANDING',\n",
              " 'LAYING']"
            ]
          },
          "metadata": {},
          "execution_count": 35
        }
      ]
    },
    {
      "cell_type": "code",
      "source": [
        "from sklearn.tree import DecisionTreeClassifier\n",
        "\n",
        "dt_HAR = DecisionTreeClassifier(random_state=156)\n",
        "dt_HAR.fit(X_train, Y_train)\n",
        "Y_predict = dt_HAR.predict(X_test)"
      ],
      "metadata": {
        "id": "IdJhtUzcqugU"
      },
      "execution_count": 36,
      "outputs": []
    },
    {
      "cell_type": "code",
      "source": [
        "from sklearn.metrics import accuracy_score\n",
        "\n",
        "accuracy = accuracy_score(Y_test, Y_predict)\n",
        "print('결정트리 예측 정확도 : {0:.4f}'.format(accuracy))"
      ],
      "metadata": {
        "colab": {
          "base_uri": "https://localhost:8080/"
        },
        "id": "0Md_lsrUrAUn",
        "outputId": "a7791eec-f1d5-4fbf-aed6-074672d6e6b2"
      },
      "execution_count": 37,
      "outputs": [
        {
          "output_type": "stream",
          "name": "stdout",
          "text": [
            "결정트리 예측 정확도 : 0.8548\n"
          ]
        }
      ]
    },
    {
      "cell_type": "code",
      "source": [
        "params = dt_HAR.get_params()\n",
        "pd.Series(params)"
      ],
      "metadata": {
        "colab": {
          "base_uri": "https://localhost:8080/"
        },
        "id": "Z-YR7ePArR-e",
        "outputId": "59977a58-8d2a-4bd7-9e8a-a43a49fb8b1d"
      },
      "execution_count": 38,
      "outputs": [
        {
          "output_type": "execute_result",
          "data": {
            "text/plain": [
              "ccp_alpha                    0.0\n",
              "class_weight                None\n",
              "criterion                   gini\n",
              "max_depth                   None\n",
              "max_features                None\n",
              "max_leaf_nodes              None\n",
              "min_impurity_decrease        0.0\n",
              "min_samples_leaf               1\n",
              "min_samples_split              2\n",
              "min_weight_fraction_leaf     0.0\n",
              "random_state                 156\n",
              "splitter                    best\n",
              "dtype: object"
            ]
          },
          "metadata": {},
          "execution_count": 38
        }
      ]
    },
    {
      "cell_type": "code",
      "source": [
        "from sklearn.model_selection import GridSearchCV\n",
        "\n",
        "params = {'max_depth': [6, 8, 10, 12, 16, 20, 24]}\n",
        "\n",
        "grid_cv = GridSearchCV(dt_HAR,\n",
        "                       param_grid = params,\n",
        "                       scoring = 'accuracy',\n",
        "                       cv=5,\n",
        "                       return_train_score=True)\n",
        "\n",
        "grid_cv.fit(X_train, Y_train)"
      ],
      "metadata": {
        "colab": {
          "base_uri": "https://localhost:8080/"
        },
        "id": "CF1Ck2sRsCPU",
        "outputId": "65cf3ddd-2c23-4d52-9e52-816871668a9b"
      },
      "execution_count": 51,
      "outputs": [
        {
          "output_type": "execute_result",
          "data": {
            "text/plain": [
              "GridSearchCV(cv=5, estimator=DecisionTreeClassifier(random_state=156),\n",
              "             param_grid={'max_depth': [6, 8, 10, 12, 16, 20, 24]},\n",
              "             return_train_score=True, scoring='accuracy')"
            ]
          },
          "metadata": {},
          "execution_count": 51
        }
      ]
    },
    {
      "cell_type": "code",
      "source": [
        "from google.colab import drive\n",
        "drive.mount('/content/drive')"
      ],
      "metadata": {
        "colab": {
          "base_uri": "https://localhost:8080/"
        },
        "id": "AFLNEskttJF-",
        "outputId": "188ce736-6e1c-4ab3-e4b8-1cce00511a27"
      },
      "execution_count": 40,
      "outputs": [
        {
          "output_type": "stream",
          "name": "stdout",
          "text": [
            "Drive already mounted at /content/drive; to attempt to forcibly remount, call drive.mount(\"/content/drive\", force_remount=True).\n"
          ]
        }
      ]
    },
    {
      "cell_type": "code",
      "source": [
        "!pip install -U scikit-learn"
      ],
      "metadata": {
        "colab": {
          "base_uri": "https://localhost:8080/"
        },
        "id": "GYIibGmGvD6u",
        "outputId": "5c1a57b1-b2d1-4c24-f062-8e2478e92590"
      },
      "execution_count": 49,
      "outputs": [
        {
          "output_type": "stream",
          "name": "stdout",
          "text": [
            "Looking in indexes: https://pypi.org/simple, https://us-python.pkg.dev/colab-wheels/public/simple/\n",
            "Requirement already satisfied: scikit-learn in /usr/local/lib/python3.7/dist-packages (1.0.2)\n",
            "Requirement already satisfied: scipy>=1.1.0 in /usr/local/lib/python3.7/dist-packages (from scikit-learn) (1.7.3)\n",
            "Requirement already satisfied: threadpoolctl>=2.0.0 in /usr/local/lib/python3.7/dist-packages (from scikit-learn) (3.1.0)\n",
            "Requirement already satisfied: joblib>=0.11 in /usr/local/lib/python3.7/dist-packages (from scikit-learn) (1.2.0)\n",
            "Requirement already satisfied: numpy>=1.14.6 in /usr/local/lib/python3.7/dist-packages (from scikit-learn) (1.21.6)\n"
          ]
        }
      ]
    },
    {
      "cell_type": "code",
      "source": [
        "\n",
        "\n",
        "cv_results_df = pd.DataFrame(grid_cv.cv_results_)\n",
        "cv_results_df[['param_max_depth', 'mean_test_score', 'mean_train_score']]"
      ],
      "metadata": {
        "colab": {
          "base_uri": "https://localhost:8080/",
          "height": 269
        },
        "id": "fKTfSQNpsurJ",
        "outputId": "1428e3d4-7648-4ea9-f702-e5d1230ffd0b"
      },
      "execution_count": 53,
      "outputs": [
        {
          "output_type": "execute_result",
          "data": {
            "text/plain": [
              "  param_max_depth  mean_test_score  mean_train_score\n",
              "0               6         0.850791          0.944879\n",
              "1               8         0.851069          0.982692\n",
              "2              10         0.851209          0.993403\n",
              "3              12         0.844135          0.997212\n",
              "4              16         0.851344          0.999660\n",
              "5              20         0.850800          0.999966\n",
              "6              24         0.849440          1.000000"
            ],
            "text/html": [
              "\n",
              "  <div id=\"df-6d031738-f1c2-467e-8225-de11556344cf\">\n",
              "    <div class=\"colab-df-container\">\n",
              "      <div>\n",
              "<style scoped>\n",
              "    .dataframe tbody tr th:only-of-type {\n",
              "        vertical-align: middle;\n",
              "    }\n",
              "\n",
              "    .dataframe tbody tr th {\n",
              "        vertical-align: top;\n",
              "    }\n",
              "\n",
              "    .dataframe thead th {\n",
              "        text-align: right;\n",
              "    }\n",
              "</style>\n",
              "<table border=\"1\" class=\"dataframe\">\n",
              "  <thead>\n",
              "    <tr style=\"text-align: right;\">\n",
              "      <th></th>\n",
              "      <th>param_max_depth</th>\n",
              "      <th>mean_test_score</th>\n",
              "      <th>mean_train_score</th>\n",
              "    </tr>\n",
              "  </thead>\n",
              "  <tbody>\n",
              "    <tr>\n",
              "      <th>0</th>\n",
              "      <td>6</td>\n",
              "      <td>0.850791</td>\n",
              "      <td>0.944879</td>\n",
              "    </tr>\n",
              "    <tr>\n",
              "      <th>1</th>\n",
              "      <td>8</td>\n",
              "      <td>0.851069</td>\n",
              "      <td>0.982692</td>\n",
              "    </tr>\n",
              "    <tr>\n",
              "      <th>2</th>\n",
              "      <td>10</td>\n",
              "      <td>0.851209</td>\n",
              "      <td>0.993403</td>\n",
              "    </tr>\n",
              "    <tr>\n",
              "      <th>3</th>\n",
              "      <td>12</td>\n",
              "      <td>0.844135</td>\n",
              "      <td>0.997212</td>\n",
              "    </tr>\n",
              "    <tr>\n",
              "      <th>4</th>\n",
              "      <td>16</td>\n",
              "      <td>0.851344</td>\n",
              "      <td>0.999660</td>\n",
              "    </tr>\n",
              "    <tr>\n",
              "      <th>5</th>\n",
              "      <td>20</td>\n",
              "      <td>0.850800</td>\n",
              "      <td>0.999966</td>\n",
              "    </tr>\n",
              "    <tr>\n",
              "      <th>6</th>\n",
              "      <td>24</td>\n",
              "      <td>0.849440</td>\n",
              "      <td>1.000000</td>\n",
              "    </tr>\n",
              "  </tbody>\n",
              "</table>\n",
              "</div>\n",
              "      <button class=\"colab-df-convert\" onclick=\"convertToInteractive('df-6d031738-f1c2-467e-8225-de11556344cf')\"\n",
              "              title=\"Convert this dataframe to an interactive table.\"\n",
              "              style=\"display:none;\">\n",
              "        \n",
              "  <svg xmlns=\"http://www.w3.org/2000/svg\" height=\"24px\"viewBox=\"0 0 24 24\"\n",
              "       width=\"24px\">\n",
              "    <path d=\"M0 0h24v24H0V0z\" fill=\"none\"/>\n",
              "    <path d=\"M18.56 5.44l.94 2.06.94-2.06 2.06-.94-2.06-.94-.94-2.06-.94 2.06-2.06.94zm-11 1L8.5 8.5l.94-2.06 2.06-.94-2.06-.94L8.5 2.5l-.94 2.06-2.06.94zm10 10l.94 2.06.94-2.06 2.06-.94-2.06-.94-.94-2.06-.94 2.06-2.06.94z\"/><path d=\"M17.41 7.96l-1.37-1.37c-.4-.4-.92-.59-1.43-.59-.52 0-1.04.2-1.43.59L10.3 9.45l-7.72 7.72c-.78.78-.78 2.05 0 2.83L4 21.41c.39.39.9.59 1.41.59.51 0 1.02-.2 1.41-.59l7.78-7.78 2.81-2.81c.8-.78.8-2.07 0-2.86zM5.41 20L4 18.59l7.72-7.72 1.47 1.35L5.41 20z\"/>\n",
              "  </svg>\n",
              "      </button>\n",
              "      \n",
              "  <style>\n",
              "    .colab-df-container {\n",
              "      display:flex;\n",
              "      flex-wrap:wrap;\n",
              "      gap: 12px;\n",
              "    }\n",
              "\n",
              "    .colab-df-convert {\n",
              "      background-color: #E8F0FE;\n",
              "      border: none;\n",
              "      border-radius: 50%;\n",
              "      cursor: pointer;\n",
              "      display: none;\n",
              "      fill: #1967D2;\n",
              "      height: 32px;\n",
              "      padding: 0 0 0 0;\n",
              "      width: 32px;\n",
              "    }\n",
              "\n",
              "    .colab-df-convert:hover {\n",
              "      background-color: #E2EBFA;\n",
              "      box-shadow: 0px 1px 2px rgba(60, 64, 67, 0.3), 0px 1px 3px 1px rgba(60, 64, 67, 0.15);\n",
              "      fill: #174EA6;\n",
              "    }\n",
              "\n",
              "    [theme=dark] .colab-df-convert {\n",
              "      background-color: #3B4455;\n",
              "      fill: #D2E3FC;\n",
              "    }\n",
              "\n",
              "    [theme=dark] .colab-df-convert:hover {\n",
              "      background-color: #434B5C;\n",
              "      box-shadow: 0px 1px 3px 1px rgba(0, 0, 0, 0.15);\n",
              "      filter: drop-shadow(0px 1px 2px rgba(0, 0, 0, 0.3));\n",
              "      fill: #FFFFFF;\n",
              "    }\n",
              "  </style>\n",
              "\n",
              "      <script>\n",
              "        const buttonEl =\n",
              "          document.querySelector('#df-6d031738-f1c2-467e-8225-de11556344cf button.colab-df-convert');\n",
              "        buttonEl.style.display =\n",
              "          google.colab.kernel.accessAllowed ? 'block' : 'none';\n",
              "\n",
              "        async function convertToInteractive(key) {\n",
              "          const element = document.querySelector('#df-6d031738-f1c2-467e-8225-de11556344cf');\n",
              "          const dataTable =\n",
              "            await google.colab.kernel.invokeFunction('convertToInteractive',\n",
              "                                                     [key], {});\n",
              "          if (!dataTable) return;\n",
              "\n",
              "          const docLinkHtml = 'Like what you see? Visit the ' +\n",
              "            '<a target=\"_blank\" href=https://colab.research.google.com/notebooks/data_table.ipynb>data table notebook</a>'\n",
              "            + ' to learn more about interactive tables.';\n",
              "          element.innerHTML = '';\n",
              "          dataTable['output_type'] = 'display_data';\n",
              "          await google.colab.output.renderOutput(dataTable, element);\n",
              "          const docLink = document.createElement('div');\n",
              "          docLink.innerHTML = docLinkHtml;\n",
              "          element.appendChild(docLink);\n",
              "        }\n",
              "      </script>\n",
              "    </div>\n",
              "  </div>\n",
              "  "
            ]
          },
          "metadata": {},
          "execution_count": 53
        }
      ]
    },
    {
      "cell_type": "code",
      "source": [
        "params = {'max_depth': [8, 16, 20],\n",
        "          'min_samples_split': [8, 16, 24]}\n",
        "grid_cv = GridSearchCV(dt_HAR, param_grid=params,\n",
        "                       scoring='accuracy',\n",
        "                       cv=5,\n",
        "                       return_train_score=True)\n",
        "grid_cv.fit(X_train, Y_train)"
      ],
      "metadata": {
        "colab": {
          "base_uri": "https://localhost:8080/"
        },
        "id": "UkAj7VUlslUD",
        "outputId": "0c1abc7a-9a50-4885-d1b3-172d71220b0f"
      },
      "execution_count": 54,
      "outputs": [
        {
          "output_type": "execute_result",
          "data": {
            "text/plain": [
              "GridSearchCV(cv=5, estimator=DecisionTreeClassifier(random_state=156),\n",
              "             param_grid={'max_depth': [8, 16, 20],\n",
              "                         'min_samples_split': [8, 16, 24]},\n",
              "             return_train_score=True, scoring='accuracy')"
            ]
          },
          "metadata": {},
          "execution_count": 54
        }
      ]
    },
    {
      "cell_type": "code",
      "source": [
        "best_dt_HAR = grid_cv.best_estimator_\n",
        "best_Y_predict = best_dt_HAR.predict(X_test)\n",
        "best_accuracy = accuracy_score(Y_test, best_Y_predict)\n",
        "\n",
        "print('best 결정 트리 예측 정확도 : {0:.4f}'.format(best_accuracy))"
      ],
      "metadata": {
        "colab": {
          "base_uri": "https://localhost:8080/"
        },
        "id": "QfAP74l4uBfE",
        "outputId": "b9a8805c-083f-4ed3-8366-ed943f7f0885"
      },
      "execution_count": 63,
      "outputs": [
        {
          "output_type": "stream",
          "name": "stdout",
          "text": [
            "best 결정 트리 예측 정확도 : 0.8717\n"
          ]
        }
      ]
    },
    {
      "cell_type": "code",
      "source": [
        "feature_importance_values = best_dt_HAR.feature_importances_\n",
        "feature_importance_values_s = pd.Series(feature_importance_values, index = X_train.columns)\n",
        "feature_top10 = feature_importance_values_s.sort_values(ascending=False)[:10]\n",
        "feature_top10"
      ],
      "metadata": {
        "colab": {
          "base_uri": "https://localhost:8080/"
        },
        "id": "5kyF2BoJwTo_",
        "outputId": "15c4b0e1-5414-4dcb-8a8f-19ae96b6a688"
      },
      "execution_count": 64,
      "outputs": [
        {
          "output_type": "execute_result",
          "data": {
            "text/plain": [
              "tGravityAcc-min()-X_52                 0.253354\n",
              "fBodyAccJerk-bandsEnergy()-1,16_389    0.212584\n",
              "angle(Y,gravityMean)_559               0.139001\n",
              "fBodyAccMag-energy()_508               0.115478\n",
              "tGravityAcc-arCoeff()-Z,2_74           0.101885\n",
              "fBodyGyro-maxInds-X_448                0.023971\n",
              "tGravityAcc-energy()-Y_57              0.020470\n",
              "tBodyGyro-correlation()-Y,Z_159        0.016513\n",
              "tGravityAccMag-arCoeff()1_222          0.015741\n",
              "tBodyAcc-correlation()-X,Y_37          0.009972\n",
              "dtype: float64"
            ]
          },
          "metadata": {},
          "execution_count": 64
        }
      ]
    },
    {
      "cell_type": "code",
      "source": [
        "import seaborn as sns\n",
        "import matplotlib.pyplot as plt\n",
        "\n",
        "plt.figure(figsize = (10,5))\n",
        "plt.title('Feature Top 10')\n",
        "sns.barplot(x = feature_top10, y=feature_top10.index)\n",
        "plt.show()"
      ],
      "metadata": {
        "colab": {
          "base_uri": "https://localhost:8080/",
          "height": 336
        },
        "id": "jdwoHiVLxJUg",
        "outputId": "94fbbd4c-ec64-40c0-d3cf-f04e231617c4"
      },
      "execution_count": 65,
      "outputs": [
        {
          "output_type": "display_data",
          "data": {
            "text/plain": [
              "<Figure size 720x360 with 1 Axes>"
            ],
            "image/png": "[encoded data removed]"
          },
          "metadata": {
            "needs_background": "light"
          }
        }
      ]
    },
    {
      "cell_type": "code",
      "source": [
        "!pip install graphviz"
      ],
      "metadata": {
        "colab": {
          "base_uri": "https://localhost:8080/"
        },
        "id": "8RqvpKJixdNe",
        "outputId": "d7e856db-d690-4b8b-dcc2-889c821d52dd"
      },
      "execution_count": 66,
      "outputs": [
        {
          "output_type": "stream",
          "name": "stdout",
          "text": [
            "Looking in indexes: https://pypi.org/simple, https://us-python.pkg.dev/colab-wheels/public/simple/\n",
            "Requirement already satisfied: graphviz in /usr/local/lib/python3.7/dist-packages (0.10.1)\n"
          ]
        }
      ]
    },
    {
      "cell_type": "code",
      "source": [
        "from sklearn.tree import export_graphviz\n",
        "\n",
        "export_graphviz(best_dt_HAR, out_file=\"tree.dot\",\n",
        "                class_names=label_name,\n",
        "                feature_names = feature_name,\n",
        "                impurity=True,\n",
        "                filled=True)"
      ],
      "metadata": {
        "id": "yZGAyte8xfxM"
      },
      "execution_count": 67,
      "outputs": []
    },
    {
      "cell_type": "code",
      "source": [
        "import graphviz\n",
        "\n",
        "with open(\"./tree.dot\") as f:\n",
        "  dot_graph = f.read()\n",
        "\n",
        "graphviz.Source(dot_graph)"
      ],
      "metadata": {
        "colab": {
          "base_uri": "https://localhost:8080/",
          "height": 1000
        },
        "id": "B4ETiberxwxa",
        "outputId": "18e58c63-1bec-4237-8785-1d4f7eaf8dcd"
      },
      "execution_count": 68,
      "outputs": [
        {
          "output_type": "execute_result",
          "data": {
            "text/plain": [
              "<graphviz.files.Source at 0x7f34065170d0>"
            ],
            "image/svg+xml": "<?xml version=\"1.0\" encoding=\"UTF-8\" standalone=\"no\"?>\n<!DOCTYPE svg PUBLIC \"-//W3C//DTD SVG 1.1//EN\"\n \"http://www.w3.org/Graphics/SVG/1.1/DTD/svg11.dtd\">\n<!-- Generated by graphviz version 2.40.1 (20161225.0304)\n -->\n<!-- Title: Tree Pages: 1 -->\n<svg width=\"9368pt\" height=\"1028pt\"\n viewBox=\"0.00 0.00 9368.00 1028.00\" xmlns=\"http://www.w3.org/2000/svg\" xmlns:xlink=\"http://www.w3.org/1999/xlink\">\n<g id=\"graph0\" class=\"graph\" transform=\"scale(1 1) rotate(0) translate(4 1024)\">\n<title>Tree</title>\n<polygon fill=\"#ffffff\" stroke=\"transparent\" points=\"-4,4 -4,-1024 9364,-1024 9364,4 -4,4\"/>\n<!-- 0 -->\n<g id=\"node1\" class=\"node\">\n<title>0</title>\n<polygon fill=\"#fffefe\" stroke=\"#000000\" points=\"5062,-1020 4760,-1020 4760,-937 5062,-937 5062,-1020\"/>\n<text text-anchor=\"middle\" x=\"4911\" y=\"-1004.8\" font-family=\"Helvetica,sans-Serif\" font-size=\"14.00\" fill=\"#000000\">tGravityAcc&#45;min()&#45;X &lt;= 0.096</text>\n<text text-anchor=\"middle\" x=\"4911\" y=\"-989.8\" font-family=\"Helvetica,sans-Serif\" font-size=\"14.00\" fill=\"#000000\">gini = 0.831</text>\n<text text-anchor=\"middle\" x=\"4911\" y=\"-974.8\" font-family=\"Helvetica,sans-Serif\" font-size=\"14.00\" fill=\"#000000\">samples = 7352</text>\n<text text-anchor=\"middle\" x=\"4911\" y=\"-959.8\" font-family=\"Helvetica,sans-Serif\" font-size=\"14.00\" fill=\"#000000\">value = [1226, 1073, 986, 1286, 1374, 1407]</text>\n<text text-anchor=\"middle\" x=\"4911\" y=\"-944.8\" font-family=\"Helvetica,sans-Serif\" font-size=\"14.00\" fill=\"#000000\">class = LAYING</text>\n</g>\n<!-- 1 -->\n<g id=\"node2\" class=\"node\">\n<title>1</title>\n<polygon fill=\"#e5399d\" stroke=\"#000000\" points=\"4872.5,-893.5 4685.5,-893.5 4685.5,-825.5 4872.5,-825.5 4872.5,-893.5\"/>\n<text text-anchor=\"middle\" x=\"4779\" y=\"-878.3\" font-family=\"Helvetica,sans-Serif\" font-size=\"14.00\" fill=\"#000000\">gini = 0.0</text>\n<text text-anchor=\"middle\" x=\"4779\" y=\"-863.3\" font-family=\"Helvetica,sans-Serif\" font-size=\"14.00\" fill=\"#000000\">samples = 1407</text>\n<text text-anchor=\"middle\" x=\"4779\" y=\"-848.3\" font-family=\"Helvetica,sans-Serif\" font-size=\"14.00\" fill=\"#000000\">value = [0, 0, 0, 0, 0, 1407]</text>\n<text text-anchor=\"middle\" x=\"4779\" y=\"-833.3\" font-family=\"Helvetica,sans-Serif\" font-size=\"14.00\" fill=\"#000000\">class = LAYING</text>\n</g>\n<!-- 0&#45;&gt;1 -->\n<g id=\"edge1\" class=\"edge\">\n<title>0&#45;&gt;1</title>\n<path fill=\"none\" stroke=\"#000000\" d=\"M4864.8328,-936.8796C4851.7817,-925.1138 4837.5899,-912.3197 4824.5739,-900.5855\"/>\n<polygon fill=\"#000000\" stroke=\"#000000\" points=\"4826.8346,-897.9113 4817.0636,-893.8149 4822.1474,-903.1104 4826.8346,-897.9113\"/>\n<text text-anchor=\"middle\" x=\"4818.3567\" y=\"-915.0815\" font-family=\"Helvetica,sans-Serif\" font-size=\"14.00\" fill=\"#000000\">True</text>\n</g>\n<!-- 2 -->\n<g id=\"node3\" class=\"node\">\n<title>2</title>\n<polygon fill=\"#fdfbff\" stroke=\"#000000\" points=\"5195.5,-901 4890.5,-901 4890.5,-818 5195.5,-818 5195.5,-901\"/>\n<text text-anchor=\"middle\" x=\"5043\" y=\"-885.8\" font-family=\"Helvetica,sans-Serif\" font-size=\"14.00\" fill=\"#000000\">fBodyAccJerk&#45;bandsEnergy()&#45;1,16 &lt;= &#45;0.974</text>\n<text text-anchor=\"middle\" x=\"5043\" y=\"-870.8\" font-family=\"Helvetica,sans-Serif\" font-size=\"14.00\" fill=\"#000000\">gini = 0.797</text>\n<text text-anchor=\"middle\" x=\"5043\" y=\"-855.8\" font-family=\"Helvetica,sans-Serif\" font-size=\"14.00\" fill=\"#000000\">samples = 5945</text>\n<text text-anchor=\"middle\" x=\"5043\" y=\"-840.8\" font-family=\"Helvetica,sans-Serif\" font-size=\"14.00\" fill=\"#000000\">value = [1226, 1073, 986, 1286, 1374, 0]</text>\n<text text-anchor=\"middle\" x=\"5043\" y=\"-825.8\" font-family=\"Helvetica,sans-Serif\" font-size=\"14.00\" fill=\"#000000\">class = STANDING</text>\n</g>\n<!-- 0&#45;&gt;2 -->\n<g id=\"edge2\" class=\"edge\">\n<title>0&#45;&gt;2</title>\n<path fill=\"none\" stroke=\"#000000\" d=\"M4957.1672,-936.8796C4967.4571,-927.6031 4978.456,-917.6874 4989.0287,-908.1559\"/>\n<polygon fill=\"#000000\" stroke=\"#000000\" points=\"4991.5519,-910.5935 4996.6358,-901.2981 4986.8648,-905.3944 4991.5519,-910.5935\"/>\n<text text-anchor=\"middle\" x=\"4995.3427\" y=\"-922.5646\" font-family=\"Helvetica,sans-Serif\" font-size=\"14.00\" fill=\"#000000\">False</text>\n</g>\n<!-- 3 -->\n<g id=\"node4\" class=\"node\">\n<title>3</title>\n<polygon fill=\"#f7f2fd\" stroke=\"#000000\" points=\"3408,-782 3196,-782 3196,-699 3408,-699 3408,-782\"/>\n<text text-anchor=\"middle\" x=\"3302\" y=\"-766.8\" font-family=\"Helvetica,sans-Serif\" font-size=\"14.00\" fill=\"#000000\">angle(Y,gravityMean) &lt;= 0.14</text>\n<text text-anchor=\"middle\" x=\"3302\" y=\"-751.8\" font-family=\"Helvetica,sans-Serif\" font-size=\"14.00\" fill=\"#000000\">gini = 0.499</text>\n<text text-anchor=\"middle\" x=\"3302\" y=\"-736.8\" font-family=\"Helvetica,sans-Serif\" font-size=\"14.00\" fill=\"#000000\">samples = 2660</text>\n<text text-anchor=\"middle\" x=\"3302\" y=\"-721.8\" font-family=\"Helvetica,sans-Serif\" font-size=\"14.00\" fill=\"#000000\">value = [0, 0, 0, 1286, 1374, 0]</text>\n<text text-anchor=\"middle\" x=\"3302\" y=\"-706.8\" font-family=\"Helvetica,sans-Serif\" font-size=\"14.00\" fill=\"#000000\">class = STANDING</text>\n</g>\n<!-- 2&#45;&gt;3 -->\n<g id=\"edge3\" class=\"edge\">\n<title>2&#45;&gt;3</title>\n<path fill=\"none\" stroke=\"#000000\" d=\"M4890.1115,-819.4598C4887.0539,-818.9431 4884.0143,-818.4553 4881,-818 4598.8565,-775.3838 3733.3596,-750.868 3418.2706,-743.1637\"/>\n<polygon fill=\"#000000\" stroke=\"#000000\" points=\"3418.2845,-739.6631 3408.2023,-742.9187 3418.1141,-746.661 3418.2845,-739.6631\"/>\n</g>\n<!-- 62 -->\n<g id=\"node63\" class=\"node\">\n<title>62</title>\n<polygon fill=\"#fdf6f1\" stroke=\"#000000\" points=\"6206.5,-782 5975.5,-782 5975.5,-699 6206.5,-699 6206.5,-782\"/>\n<text text-anchor=\"middle\" x=\"6091\" y=\"-766.8\" font-family=\"Helvetica,sans-Serif\" font-size=\"14.00\" fill=\"#000000\">fBodyAccMag&#45;energy() &lt;= &#45;0.525</text>\n<text text-anchor=\"middle\" x=\"6091\" y=\"-751.8\" font-family=\"Helvetica,sans-Serif\" font-size=\"14.00\" fill=\"#000000\">gini = 0.664</text>\n<text text-anchor=\"middle\" x=\"6091\" y=\"-736.8\" font-family=\"Helvetica,sans-Serif\" font-size=\"14.00\" fill=\"#000000\">samples = 3285</text>\n<text text-anchor=\"middle\" x=\"6091\" y=\"-721.8\" font-family=\"Helvetica,sans-Serif\" font-size=\"14.00\" fill=\"#000000\">value = [1226, 1073, 986, 0, 0, 0]</text>\n<text text-anchor=\"middle\" x=\"6091\" y=\"-706.8\" font-family=\"Helvetica,sans-Serif\" font-size=\"14.00\" fill=\"#000000\">class = WALKING</text>\n</g>\n<!-- 2&#45;&gt;62 -->\n<g id=\"edge62\" class=\"edge\">\n<title>2&#45;&gt;62</title>\n<path fill=\"none\" stroke=\"#000000\" d=\"M5195.6685,-842.1646C5403.635,-818.55 5772.1241,-776.7082 5965.1286,-754.7927\"/>\n<polygon fill=\"#000000\" stroke=\"#000000\" points=\"5965.7769,-758.2416 5975.3182,-753.6356 5964.9871,-751.2863 5965.7769,-758.2416\"/>\n</g>\n<!-- 4 -->\n<g id=\"node5\" class=\"node\">\n<title>4</title>\n<polygon fill=\"#58ace9\" stroke=\"#000000\" points=\"1732,-663 1520,-663 1520,-580 1732,-580 1732,-663\"/>\n<text text-anchor=\"middle\" x=\"1626\" y=\"-647.8\" font-family=\"Helvetica,sans-Serif\" font-size=\"14.00\" fill=\"#000000\">tGravityAcc&#45;energy()&#45;Y &lt;= &#45;1.0</text>\n<text text-anchor=\"middle\" x=\"1626\" y=\"-632.8\" font-family=\"Helvetica,sans-Serif\" font-size=\"14.00\" fill=\"#000000\">gini = 0.234</text>\n<text text-anchor=\"middle\" x=\"1626\" y=\"-617.8\" font-family=\"Helvetica,sans-Serif\" font-size=\"14.00\" fill=\"#000000\">samples = 1357</text>\n<text text-anchor=\"middle\" x=\"1626\" y=\"-602.8\" font-family=\"Helvetica,sans-Serif\" font-size=\"14.00\" fill=\"#000000\">value = [0, 0, 0, 1173, 184, 0]</text>\n<text text-anchor=\"middle\" x=\"1626\" y=\"-587.8\" font-family=\"Helvetica,sans-Serif\" font-size=\"14.00\" fill=\"#000000\">class = SITTING</text>\n</g>\n<!-- 3&#45;&gt;4 -->\n<g id=\"edge4\" class=\"edge\">\n<title>3&#45;&gt;4</title>\n<path fill=\"none\" stroke=\"#000000\" d=\"M3195.8872,-732.9657C2897.5962,-711.7864 2053.2116,-651.833 1742.565,-629.7764\"/>\n<polygon fill=\"#000000\" stroke=\"#000000\" points=\"1742.4109,-626.2567 1732.1881,-629.0396 1741.9151,-633.2392 1742.4109,-626.2567\"/>\n</g>\n<!-- 39 -->\n<g id=\"node40\" class=\"node\">\n<title>39</title>\n<polygon fill=\"#8d4ce7\" stroke=\"#000000\" points=\"3403.5,-663 3200.5,-663 3200.5,-580 3403.5,-580 3403.5,-663\"/>\n<text text-anchor=\"middle\" x=\"3302\" y=\"-647.8\" font-family=\"Helvetica,sans-Serif\" font-size=\"14.00\" fill=\"#000000\">tBodyGyro&#45;min()&#45;X &lt;= 0.845</text>\n<text text-anchor=\"middle\" x=\"3302\" y=\"-632.8\" font-family=\"Helvetica,sans-Serif\" font-size=\"14.00\" fill=\"#000000\">gini = 0.158</text>\n<text text-anchor=\"middle\" x=\"3302\" y=\"-617.8\" font-family=\"Helvetica,sans-Serif\" font-size=\"14.00\" fill=\"#000000\">samples = 1303</text>\n<text text-anchor=\"middle\" x=\"3302\" y=\"-602.8\" font-family=\"Helvetica,sans-Serif\" font-size=\"14.00\" fill=\"#000000\">value = [0, 0, 0, 113, 1190, 0]</text>\n<text text-anchor=\"middle\" x=\"3302\" y=\"-587.8\" font-family=\"Helvetica,sans-Serif\" font-size=\"14.00\" fill=\"#000000\">class = STANDING</text>\n</g>\n<!-- 3&#45;&gt;39 -->\n<g id=\"edge39\" class=\"edge\">\n<title>3&#45;&gt;39</title>\n<path fill=\"none\" stroke=\"#000000\" d=\"M3302,-698.8796C3302,-690.6838 3302,-681.9891 3302,-673.5013\"/>\n<polygon fill=\"#000000\" stroke=\"#000000\" points=\"3305.5001,-673.298 3302,-663.2981 3298.5001,-673.2981 3305.5001,-673.298\"/>\n</g>\n<!-- 5 -->\n<g id=\"node6\" class=\"node\">\n<title>5</title>\n<polygon fill=\"#c4a2f3\" stroke=\"#000000\" points=\"862.5,-544 643.5,-544 643.5,-461 862.5,-461 862.5,-544\"/>\n<text text-anchor=\"middle\" x=\"753\" y=\"-528.8\" font-family=\"Helvetica,sans-Serif\" font-size=\"14.00\" fill=\"#000000\">angle(Z,gravityMean) &lt;= &#45;0.022</text>\n<text text-anchor=\"middle\" x=\"753\" y=\"-513.8\" font-family=\"Helvetica,sans-Serif\" font-size=\"14.00\" fill=\"#000000\">gini = 0.453</text>\n<text text-anchor=\"middle\" x=\"753\" y=\"-498.8\" font-family=\"Helvetica,sans-Serif\" font-size=\"14.00\" fill=\"#000000\">samples = 95</text>\n<text text-anchor=\"middle\" x=\"753\" y=\"-483.8\" font-family=\"Helvetica,sans-Serif\" font-size=\"14.00\" fill=\"#000000\">value = [0, 0, 0, 33, 62, 0]</text>\n<text text-anchor=\"middle\" x=\"753\" y=\"-468.8\" font-family=\"Helvetica,sans-Serif\" font-size=\"14.00\" fill=\"#000000\">class = STANDING</text>\n</g>\n<!-- 4&#45;&gt;5 -->\n<g id=\"edge5\" class=\"edge\">\n<title>4&#45;&gt;5</title>\n<path fill=\"none\" stroke=\"#000000\" d=\"M1519.8258,-607.0272C1356.3159,-584.7389 1043.8812,-542.1505 872.6109,-518.8043\"/>\n<polygon fill=\"#000000\" stroke=\"#000000\" points=\"872.9271,-515.3152 862.5459,-517.4324 871.9816,-522.251 872.9271,-515.3152\"/>\n</g>\n<!-- 14 -->\n<g id=\"node15\" class=\"node\">\n<title>14</title>\n<polygon fill=\"#4ea7e8\" stroke=\"#000000\" points=\"1729,-544 1523,-544 1523,-461 1729,-461 1729,-544\"/>\n<text text-anchor=\"middle\" x=\"1626\" y=\"-528.8\" font-family=\"Helvetica,sans-Serif\" font-size=\"14.00\" fill=\"#000000\">tBodyGyro&#45;max()&#45;X &lt;= &#45;0.869</text>\n<text text-anchor=\"middle\" x=\"1626\" y=\"-513.8\" font-family=\"Helvetica,sans-Serif\" font-size=\"14.00\" fill=\"#000000\">gini = 0.175</text>\n<text text-anchor=\"middle\" x=\"1626\" y=\"-498.8\" font-family=\"Helvetica,sans-Serif\" font-size=\"14.00\" fill=\"#000000\">samples = 1262</text>\n<text text-anchor=\"middle\" x=\"1626\" y=\"-483.8\" font-family=\"Helvetica,sans-Serif\" font-size=\"14.00\" fill=\"#000000\">value = [0, 0, 0, 1140, 122, 0]</text>\n<text text-anchor=\"middle\" x=\"1626\" y=\"-468.8\" font-family=\"Helvetica,sans-Serif\" font-size=\"14.00\" fill=\"#000000\">class = SITTING</text>\n</g>\n<!-- 4&#45;&gt;14 -->\n<g id=\"edge14\" class=\"edge\">\n<title>4&#45;&gt;14</title>\n<path fill=\"none\" stroke=\"#000000\" d=\"M1626,-579.8796C1626,-571.6838 1626,-562.9891 1626,-554.5013\"/>\n<polygon fill=\"#000000\" stroke=\"#000000\" points=\"1629.5001,-554.298 1626,-544.2981 1622.5001,-554.2981 1629.5001,-554.298\"/>\n</g>\n<!-- 6 -->\n<g id=\"node7\" class=\"node\">\n<title>6</title>\n<polygon fill=\"#afd7f4\" stroke=\"#000000\" points=\"552,-425 318,-425 318,-342 552,-342 552,-425\"/>\n<text text-anchor=\"middle\" x=\"435\" y=\"-409.8\" font-family=\"Helvetica,sans-Serif\" font-size=\"14.00\" fill=\"#000000\">tBodyGyroJerk&#45;max()&#45;X &lt;= &#45;0.983</text>\n<text text-anchor=\"middle\" x=\"435\" y=\"-394.8\" font-family=\"Helvetica,sans-Serif\" font-size=\"14.00\" fill=\"#000000\">gini = 0.468</text>\n<text text-anchor=\"middle\" x=\"435\" y=\"-379.8\" font-family=\"Helvetica,sans-Serif\" font-size=\"14.00\" fill=\"#000000\">samples = 51</text>\n<text text-anchor=\"middle\" x=\"435\" y=\"-364.8\" font-family=\"Helvetica,sans-Serif\" font-size=\"14.00\" fill=\"#000000\">value = [0, 0, 0, 32, 19, 0]</text>\n<text text-anchor=\"middle\" x=\"435\" y=\"-349.8\" font-family=\"Helvetica,sans-Serif\" font-size=\"14.00\" fill=\"#000000\">class = SITTING</text>\n</g>\n<!-- 5&#45;&gt;6 -->\n<g id=\"edge6\" class=\"edge\">\n<title>5&#45;&gt;6</title>\n<path fill=\"none\" stroke=\"#000000\" d=\"M643.1172,-461.3803C614.8911,-450.8178 584.3751,-439.3982 555.6373,-428.6441\"/>\n<polygon fill=\"#000000\" stroke=\"#000000\" points=\"556.5579,-425.2516 545.9655,-425.0248 554.1045,-431.8077 556.5579,-425.2516\"/>\n</g>\n<!-- 11 -->\n<g id=\"node12\" class=\"node\">\n<title>11</title>\n<polygon fill=\"#843ee6\" stroke=\"#000000\" points=\"885.5,-425 620.5,-425 620.5,-342 885.5,-342 885.5,-425\"/>\n<text text-anchor=\"middle\" x=\"753\" y=\"-409.8\" font-family=\"Helvetica,sans-Serif\" font-size=\"14.00\" fill=\"#000000\">tBodyGyroJerk&#45;arCoeff()&#45;Z,4 &lt;= &#45;0.249</text>\n<text text-anchor=\"middle\" x=\"753\" y=\"-394.8\" font-family=\"Helvetica,sans-Serif\" font-size=\"14.00\" fill=\"#000000\">gini = 0.044</text>\n<text text-anchor=\"middle\" x=\"753\" y=\"-379.8\" font-family=\"Helvetica,sans-Serif\" font-size=\"14.00\" fill=\"#000000\">samples = 44</text>\n<text text-anchor=\"middle\" x=\"753\" y=\"-364.8\" font-family=\"Helvetica,sans-Serif\" font-size=\"14.00\" fill=\"#000000\">value = [0, 0, 0, 1, 43, 0]</text>\n<text text-anchor=\"middle\" x=\"753\" y=\"-349.8\" font-family=\"Helvetica,sans-Serif\" font-size=\"14.00\" fill=\"#000000\">class = STANDING</text>\n</g>\n<!-- 5&#45;&gt;11 -->\n<g id=\"edge11\" class=\"edge\">\n<title>5&#45;&gt;11</title>\n<path fill=\"none\" stroke=\"#000000\" d=\"M753,-460.8796C753,-452.6838 753,-443.9891 753,-435.5013\"/>\n<polygon fill=\"#000000\" stroke=\"#000000\" points=\"756.5001,-435.298 753,-425.2981 749.5001,-435.2981 756.5001,-435.298\"/>\n</g>\n<!-- 7 -->\n<g id=\"node8\" class=\"node\">\n<title>7</title>\n<polygon fill=\"#45a3e7\" stroke=\"#000000\" points=\"332,-306 78,-306 78,-223 332,-223 332,-306\"/>\n<text text-anchor=\"middle\" x=\"205\" y=\"-290.8\" font-family=\"Helvetica,sans-Serif\" font-size=\"14.00\" fill=\"#000000\">tBodyAccJerk&#45;arCoeff()&#45;X,3 &lt;= 0.411</text>\n<text text-anchor=\"middle\" x=\"205\" y=\"-275.8\" font-family=\"Helvetica,sans-Serif\" font-size=\"14.00\" fill=\"#000000\">gini = 0.111</text>\n<text text-anchor=\"middle\" x=\"205\" y=\"-260.8\" font-family=\"Helvetica,sans-Serif\" font-size=\"14.00\" fill=\"#000000\">samples = 34</text>\n<text text-anchor=\"middle\" x=\"205\" y=\"-245.8\" font-family=\"Helvetica,sans-Serif\" font-size=\"14.00\" fill=\"#000000\">value = [0, 0, 0, 32, 2, 0]</text>\n<text text-anchor=\"middle\" x=\"205\" y=\"-230.8\" font-family=\"Helvetica,sans-Serif\" font-size=\"14.00\" fill=\"#000000\">class = SITTING</text>\n</g>\n<!-- 6&#45;&gt;7 -->\n<g id=\"edge7\" class=\"edge\">\n<title>6&#45;&gt;7</title>\n<path fill=\"none\" stroke=\"#000000\" d=\"M354.5572,-341.8796C335.1229,-331.8244 314.237,-321.0183 294.4189,-310.7645\"/>\n<polygon fill=\"#000000\" stroke=\"#000000\" points=\"295.8874,-307.5837 285.3974,-306.0969 292.6707,-313.8008 295.8874,-307.5837\"/>\n</g>\n<!-- 10 -->\n<g id=\"node11\" class=\"node\">\n<title>10</title>\n<polygon fill=\"#8139e5\" stroke=\"#000000\" points=\"520,-298.5 350,-298.5 350,-230.5 520,-230.5 520,-298.5\"/>\n<text text-anchor=\"middle\" x=\"435\" y=\"-283.3\" font-family=\"Helvetica,sans-Serif\" font-size=\"14.00\" fill=\"#000000\">gini = 0.0</text>\n<text text-anchor=\"middle\" x=\"435\" y=\"-268.3\" font-family=\"Helvetica,sans-Serif\" font-size=\"14.00\" fill=\"#000000\">samples = 17</text>\n<text text-anchor=\"middle\" x=\"435\" y=\"-253.3\" font-family=\"Helvetica,sans-Serif\" font-size=\"14.00\" fill=\"#000000\">value = [0, 0, 0, 0, 17, 0]</text>\n<text text-anchor=\"middle\" x=\"435\" y=\"-238.3\" font-family=\"Helvetica,sans-Serif\" font-size=\"14.00\" fill=\"#000000\">class = STANDING</text>\n</g>\n<!-- 6&#45;&gt;10 -->\n<g id=\"edge10\" class=\"edge\">\n<title>6&#45;&gt;10</title>\n<path fill=\"none\" stroke=\"#000000\" d=\"M435,-341.8796C435,-331.2134 435,-319.7021 435,-308.9015\"/>\n<polygon fill=\"#000000\" stroke=\"#000000\" points=\"438.5001,-308.8149 435,-298.8149 431.5001,-308.815 438.5001,-308.8149\"/>\n</g>\n<!-- 8 -->\n<g id=\"node9\" class=\"node\">\n<title>8</title>\n<polygon fill=\"#399de5\" stroke=\"#000000\" points=\"170,-179.5 0,-179.5 0,-111.5 170,-111.5 170,-179.5\"/>\n<text text-anchor=\"middle\" x=\"85\" y=\"-164.3\" font-family=\"Helvetica,sans-Serif\" font-size=\"14.00\" fill=\"#000000\">gini = 0.0</text>\n<text text-anchor=\"middle\" x=\"85\" y=\"-149.3\" font-family=\"Helvetica,sans-Serif\" font-size=\"14.00\" fill=\"#000000\">samples = 32</text>\n<text text-anchor=\"middle\" x=\"85\" y=\"-134.3\" font-family=\"Helvetica,sans-Serif\" font-size=\"14.00\" fill=\"#000000\">value = [0, 0, 0, 32, 0, 0]</text>\n<text text-anchor=\"middle\" x=\"85\" y=\"-119.3\" font-family=\"Helvetica,sans-Serif\" font-size=\"14.00\" fill=\"#000000\">class = SITTING</text>\n</g>\n<!-- 7&#45;&gt;8 -->\n<g id=\"edge8\" class=\"edge\">\n<title>7&#45;&gt;8</title>\n<path fill=\"none\" stroke=\"#000000\" d=\"M163.0298,-222.8796C151.276,-211.2237 138.5046,-198.5587 126.7628,-186.9148\"/>\n<polygon fill=\"#000000\" stroke=\"#000000\" points=\"129.1684,-184.3712 119.6033,-179.8149 124.2394,-189.3416 129.1684,-184.3712\"/>\n</g>\n<!-- 9 -->\n<g id=\"node10\" class=\"node\">\n<title>9</title>\n<polygon fill=\"#8139e5\" stroke=\"#000000\" points=\"350,-179.5 188,-179.5 188,-111.5 350,-111.5 350,-179.5\"/>\n<text text-anchor=\"middle\" x=\"269\" y=\"-164.3\" font-family=\"Helvetica,sans-Serif\" font-size=\"14.00\" fill=\"#000000\">gini = 0.0</text>\n<text text-anchor=\"middle\" x=\"269\" y=\"-149.3\" font-family=\"Helvetica,sans-Serif\" font-size=\"14.00\" fill=\"#000000\">samples = 2</text>\n<text text-anchor=\"middle\" x=\"269\" y=\"-134.3\" font-family=\"Helvetica,sans-Serif\" font-size=\"14.00\" fill=\"#000000\">value = [0, 0, 0, 0, 2, 0]</text>\n<text text-anchor=\"middle\" x=\"269\" y=\"-119.3\" font-family=\"Helvetica,sans-Serif\" font-size=\"14.00\" fill=\"#000000\">class = STANDING</text>\n</g>\n<!-- 7&#45;&gt;9 -->\n<g id=\"edge9\" class=\"edge\">\n<title>7&#45;&gt;9</title>\n<path fill=\"none\" stroke=\"#000000\" d=\"M227.3841,-222.8796C233.298,-211.8835 239.6949,-199.9893 245.658,-188.9015\"/>\n<polygon fill=\"#000000\" stroke=\"#000000\" points=\"248.8908,-190.2799 250.5449,-179.8149 242.7258,-186.9642 248.8908,-190.2799\"/>\n</g>\n<!-- 12 -->\n<g id=\"node13\" class=\"node\">\n<title>12</title>\n<polygon fill=\"#399de5\" stroke=\"#000000\" points=\"700,-298.5 538,-298.5 538,-230.5 700,-230.5 700,-298.5\"/>\n<text text-anchor=\"middle\" x=\"619\" y=\"-283.3\" font-family=\"Helvetica,sans-Serif\" font-size=\"14.00\" fill=\"#000000\">gini = 0.0</text>\n<text text-anchor=\"middle\" x=\"619\" y=\"-268.3\" font-family=\"Helvetica,sans-Serif\" font-size=\"14.00\" fill=\"#000000\">samples = 1</text>\n<text text-anchor=\"middle\" x=\"619\" y=\"-253.3\" font-family=\"Helvetica,sans-Serif\" font-size=\"14.00\" fill=\"#000000\">value = [0, 0, 0, 1, 0, 0]</text>\n<text text-anchor=\"middle\" x=\"619\" y=\"-238.3\" font-family=\"Helvetica,sans-Serif\" font-size=\"14.00\" fill=\"#000000\">class = SITTING</text>\n</g>\n<!-- 11&#45;&gt;12 -->\n<g id=\"edge12\" class=\"edge\">\n<title>11&#45;&gt;12</title>\n<path fill=\"none\" stroke=\"#000000\" d=\"M706.1333,-341.8796C692.8844,-330.1138 678.4776,-317.3197 665.2644,-305.5855\"/>\n<polygon fill=\"#000000\" stroke=\"#000000\" points=\"667.4416,-302.8381 657.6403,-298.8149 662.7935,-308.0722 667.4416,-302.8381\"/>\n</g>\n<!-- 13 -->\n<g id=\"node14\" class=\"node\">\n<title>13</title>\n<polygon fill=\"#8139e5\" stroke=\"#000000\" points=\"888,-298.5 718,-298.5 718,-230.5 888,-230.5 888,-298.5\"/>\n<text text-anchor=\"middle\" x=\"803\" y=\"-283.3\" font-family=\"Helvetica,sans-Serif\" font-size=\"14.00\" fill=\"#000000\">gini = 0.0</text>\n<text text-anchor=\"middle\" x=\"803\" y=\"-268.3\" font-family=\"Helvetica,sans-Serif\" font-size=\"14.00\" fill=\"#000000\">samples = 43</text>\n<text text-anchor=\"middle\" x=\"803\" y=\"-253.3\" font-family=\"Helvetica,sans-Serif\" font-size=\"14.00\" fill=\"#000000\">value = [0, 0, 0, 0, 43, 0]</text>\n<text text-anchor=\"middle\" x=\"803\" y=\"-238.3\" font-family=\"Helvetica,sans-Serif\" font-size=\"14.00\" fill=\"#000000\">class = STANDING</text>\n</g>\n<!-- 11&#45;&gt;13 -->\n<g id=\"edge13\" class=\"edge\">\n<title>11&#45;&gt;13</title>\n<path fill=\"none\" stroke=\"#000000\" d=\"M770.4876,-341.8796C775.0616,-330.9935 780.0054,-319.227 784.6242,-308.2344\"/>\n<polygon fill=\"#000000\" stroke=\"#000000\" points=\"787.935,-309.39 788.582,-298.8149 781.4815,-306.6784 787.935,-309.39\"/>\n</g>\n<!-- 15 -->\n<g id=\"node16\" class=\"node\">\n<title>15</title>\n<polygon fill=\"#40a1e6\" stroke=\"#000000\" points=\"1457.5,-425 1204.5,-425 1204.5,-342 1457.5,-342 1457.5,-425\"/>\n<text text-anchor=\"middle\" x=\"1331\" y=\"-409.8\" font-family=\"Helvetica,sans-Serif\" font-size=\"14.00\" fill=\"#000000\">tBodyGyro&#45;correlation()&#45;Y,Z &lt;= 0.418</text>\n<text text-anchor=\"middle\" x=\"1331\" y=\"-394.8\" font-family=\"Helvetica,sans-Serif\" font-size=\"14.00\" fill=\"#000000\">gini = 0.068</text>\n<text text-anchor=\"middle\" x=\"1331\" y=\"-379.8\" font-family=\"Helvetica,sans-Serif\" font-size=\"14.00\" fill=\"#000000\">samples = 994</text>\n<text text-anchor=\"middle\" x=\"1331\" y=\"-364.8\" font-family=\"Helvetica,sans-Serif\" font-size=\"14.00\" fill=\"#000000\">value = [0, 0, 0, 959, 35, 0]</text>\n<text text-anchor=\"middle\" x=\"1331\" y=\"-349.8\" font-family=\"Helvetica,sans-Serif\" font-size=\"14.00\" fill=\"#000000\">class = SITTING</text>\n</g>\n<!-- 14&#45;&gt;15 -->\n<g id=\"edge15\" class=\"edge\">\n<title>14&#45;&gt;15</title>\n<path fill=\"none\" stroke=\"#000000\" d=\"M1522.8233,-460.8796C1497.223,-450.5527 1469.659,-439.4336 1443.6315,-428.9344\"/>\n<polygon fill=\"#000000\" stroke=\"#000000\" points=\"1444.7017,-425.5921 1434.1184,-425.0969 1442.083,-432.0838 1444.7017,-425.5921\"/>\n</g>\n<!-- 30 -->\n<g id=\"node31\" class=\"node\">\n<title>30</title>\n<polygon fill=\"#98ccf1\" stroke=\"#000000\" points=\"1986.5,-425 1779.5,-425 1779.5,-342 1986.5,-342 1986.5,-425\"/>\n<text text-anchor=\"middle\" x=\"1883\" y=\"-409.8\" font-family=\"Helvetica,sans-Serif\" font-size=\"14.00\" fill=\"#000000\">tGravityAcc&#45;max()&#45;Y &lt;= 0.069</text>\n<text text-anchor=\"middle\" x=\"1883\" y=\"-394.8\" font-family=\"Helvetica,sans-Serif\" font-size=\"14.00\" fill=\"#000000\">gini = 0.438</text>\n<text text-anchor=\"middle\" x=\"1883\" y=\"-379.8\" font-family=\"Helvetica,sans-Serif\" font-size=\"14.00\" fill=\"#000000\">samples = 268</text>\n<text text-anchor=\"middle\" x=\"1883\" y=\"-364.8\" font-family=\"Helvetica,sans-Serif\" font-size=\"14.00\" fill=\"#000000\">value = [0, 0, 0, 181, 87, 0]</text>\n<text text-anchor=\"middle\" x=\"1883\" y=\"-349.8\" font-family=\"Helvetica,sans-Serif\" font-size=\"14.00\" fill=\"#000000\">class = SITTING</text>\n</g>\n<!-- 14&#45;&gt;30 -->\n<g id=\"edge30\" class=\"edge\">\n<title>14&#45;&gt;30</title>\n<path fill=\"none\" stroke=\"#000000\" d=\"M1715.8861,-460.8796C1737.8953,-450.6886 1761.5705,-439.7261 1783.9812,-429.3492\"/>\n<polygon fill=\"#000000\" stroke=\"#000000\" points=\"1785.5608,-432.4748 1793.1646,-425.0969 1782.6196,-426.1227 1785.5608,-432.4748\"/>\n</g>\n<!-- 16 -->\n<g id=\"node17\" class=\"node\">\n<title>16</title>\n<polygon fill=\"#3c9fe5\" stroke=\"#000000\" points=\"1100,-306 906,-306 906,-223 1100,-223 1100,-306\"/>\n<text text-anchor=\"middle\" x=\"1003\" y=\"-290.8\" font-family=\"Helvetica,sans-Serif\" font-size=\"14.00\" fill=\"#000000\">tGravityAcc&#45;min()&#45;X &lt;= 0.99</text>\n<text text-anchor=\"middle\" x=\"1003\" y=\"-275.8\" font-family=\"Helvetica,sans-Serif\" font-size=\"14.00\" fill=\"#000000\">gini = 0.034</text>\n<text text-anchor=\"middle\" x=\"1003\" y=\"-260.8\" font-family=\"Helvetica,sans-Serif\" font-size=\"14.00\" fill=\"#000000\">samples = 927</text>\n<text text-anchor=\"middle\" x=\"1003\" y=\"-245.8\" font-family=\"Helvetica,sans-Serif\" font-size=\"14.00\" fill=\"#000000\">value = [0, 0, 0, 911, 16, 0]</text>\n<text text-anchor=\"middle\" x=\"1003\" y=\"-230.8\" font-family=\"Helvetica,sans-Serif\" font-size=\"14.00\" fill=\"#000000\">class = SITTING</text>\n</g>\n<!-- 15&#45;&gt;16 -->\n<g id=\"edge16\" class=\"edge\">\n<title>15&#45;&gt;16</title>\n<path fill=\"none\" stroke=\"#000000\" d=\"M1216.2815,-341.8796C1181.6648,-329.3205 1143.8188,-315.5897 1109.7438,-303.2272\"/>\n<polygon fill=\"#000000\" stroke=\"#000000\" points=\"1110.8329,-299.8991 1100.2387,-299.7787 1108.4455,-306.4794 1110.8329,-299.8991\"/>\n</g>\n<!-- 23 -->\n<g id=\"node24\" class=\"node\">\n<title>23</title>\n<polygon fill=\"#87c4ef\" stroke=\"#000000\" points=\"1432.5,-306 1229.5,-306 1229.5,-223 1432.5,-223 1432.5,-306\"/>\n<text text-anchor=\"middle\" x=\"1331\" y=\"-290.8\" font-family=\"Helvetica,sans-Serif\" font-size=\"14.00\" fill=\"#000000\">tGravityAcc&#45;min()&#45;X &lt;= 0.961</text>\n<text text-anchor=\"middle\" x=\"1331\" y=\"-275.8\" font-family=\"Helvetica,sans-Serif\" font-size=\"14.00\" fill=\"#000000\">gini = 0.406</text>\n<text text-anchor=\"middle\" x=\"1331\" y=\"-260.8\" font-family=\"Helvetica,sans-Serif\" font-size=\"14.00\" fill=\"#000000\">samples = 67</text>\n<text text-anchor=\"middle\" x=\"1331\" y=\"-245.8\" font-family=\"Helvetica,sans-Serif\" font-size=\"14.00\" fill=\"#000000\">value = [0, 0, 0, 48, 19, 0]</text>\n<text text-anchor=\"middle\" x=\"1331\" y=\"-230.8\" font-family=\"Helvetica,sans-Serif\" font-size=\"14.00\" fill=\"#000000\">class = SITTING</text>\n</g>\n<!-- 15&#45;&gt;23 -->\n<g id=\"edge23\" class=\"edge\">\n<title>15&#45;&gt;23</title>\n<path fill=\"none\" stroke=\"#000000\" d=\"M1331,-341.8796C1331,-333.6838 1331,-324.9891 1331,-316.5013\"/>\n<polygon fill=\"#000000\" stroke=\"#000000\" points=\"1334.5001,-316.298 1331,-306.2981 1327.5001,-316.2981 1334.5001,-316.298\"/>\n</g>\n<!-- 17 -->\n<g id=\"node18\" class=\"node\">\n<title>17</title>\n<polygon fill=\"#3a9ee5\" stroke=\"#000000\" points=\"641.5,-187 384.5,-187 384.5,-104 641.5,-104 641.5,-187\"/>\n<text text-anchor=\"middle\" x=\"513\" y=\"-171.8\" font-family=\"Helvetica,sans-Serif\" font-size=\"14.00\" fill=\"#000000\">tBodyAccJerk&#45;arCoeff()&#45;Y,3 &lt;= &#45;0.615</text>\n<text text-anchor=\"middle\" x=\"513\" y=\"-156.8\" font-family=\"Helvetica,sans-Serif\" font-size=\"14.00\" fill=\"#000000\">gini = 0.012</text>\n<text text-anchor=\"middle\" x=\"513\" y=\"-141.8\" font-family=\"Helvetica,sans-Serif\" font-size=\"14.00\" fill=\"#000000\">samples = 851</text>\n<text text-anchor=\"middle\" x=\"513\" y=\"-126.8\" font-family=\"Helvetica,sans-Serif\" font-size=\"14.00\" fill=\"#000000\">value = [0, 0, 0, 846, 5, 0]</text>\n<text text-anchor=\"middle\" x=\"513\" y=\"-111.8\" font-family=\"Helvetica,sans-Serif\" font-size=\"14.00\" fill=\"#000000\">class = SITTING</text>\n</g>\n<!-- 16&#45;&gt;17 -->\n<g id=\"edge17\" class=\"edge\">\n<title>16&#45;&gt;17</title>\n<path fill=\"none\" stroke=\"#000000\" d=\"M905.8995,-225.7273C902.9101,-224.7767 899.9387,-223.8647 897,-223 817.0819,-199.4855 725.7298,-180.7306 652.1814,-167.5639\"/>\n<polygon fill=\"#000000\" stroke=\"#000000\" points=\"652.3825,-164.0449 641.9246,-165.7432 651.1589,-170.9372 652.3825,-164.0449\"/>\n</g>\n<!-- 20 -->\n<g id=\"node21\" class=\"node\">\n<title>20</title>\n<polygon fill=\"#5baee9\" stroke=\"#000000\" points=\"995,-187 793,-187 793,-104 995,-104 995,-187\"/>\n<text text-anchor=\"middle\" x=\"894\" y=\"-171.8\" font-family=\"Helvetica,sans-Serif\" font-size=\"14.00\" fill=\"#000000\">tGravityAcc&#45;min()&#45;Z &lt;= 0.067</text>\n<text text-anchor=\"middle\" x=\"894\" y=\"-156.8\" font-family=\"Helvetica,sans-Serif\" font-size=\"14.00\" fill=\"#000000\">gini = 0.248</text>\n<text text-anchor=\"middle\" x=\"894\" y=\"-141.8\" font-family=\"Helvetica,sans-Serif\" font-size=\"14.00\" fill=\"#000000\">samples = 76</text>\n<text text-anchor=\"middle\" x=\"894\" y=\"-126.8\" font-family=\"Helvetica,sans-Serif\" font-size=\"14.00\" fill=\"#000000\">value = [0, 0, 0, 65, 11, 0]</text>\n<text text-anchor=\"middle\" x=\"894\" y=\"-111.8\" font-family=\"Helvetica,sans-Serif\" font-size=\"14.00\" fill=\"#000000\">class = SITTING</text>\n</g>\n<!-- 16&#45;&gt;20 -->\n<g id=\"edge20\" class=\"edge\">\n<title>16&#45;&gt;20</title>\n<path fill=\"none\" stroke=\"#000000\" d=\"M964.8771,-222.8796C956.5451,-213.7832 947.6502,-204.0722 939.0761,-194.7116\"/>\n<polygon fill=\"#000000\" stroke=\"#000000\" points=\"941.6211,-192.3081 932.2856,-187.2981 936.4592,-197.0363 941.6211,-192.3081\"/>\n</g>\n<!-- 18 -->\n<g id=\"node19\" class=\"node\">\n<title>18</title>\n<polygon fill=\"#8139e5\" stroke=\"#000000\" points=\"405,-68 243,-68 243,0 405,0 405,-68\"/>\n<text text-anchor=\"middle\" x=\"324\" y=\"-52.8\" font-family=\"Helvetica,sans-Serif\" font-size=\"14.00\" fill=\"#000000\">gini = 0.0</text>\n<text text-anchor=\"middle\" x=\"324\" y=\"-37.8\" font-family=\"Helvetica,sans-Serif\" font-size=\"14.00\" fill=\"#000000\">samples = 1</text>\n<text text-anchor=\"middle\" x=\"324\" y=\"-22.8\" font-family=\"Helvetica,sans-Serif\" font-size=\"14.00\" fill=\"#000000\">value = [0, 0, 0, 0, 1, 0]</text>\n<text text-anchor=\"middle\" x=\"324\" y=\"-7.8\" font-family=\"Helvetica,sans-Serif\" font-size=\"14.00\" fill=\"#000000\">class = STANDING</text>\n</g>\n<!-- 17&#45;&gt;18 -->\n<g id=\"edge18\" class=\"edge\">\n<title>17&#45;&gt;18</title>\n<path fill=\"none\" stroke=\"#000000\" d=\"M442.6234,-103.9815C425.5531,-93.911 407.3574,-83.1764 390.4739,-73.2161\"/>\n<polygon fill=\"#000000\" stroke=\"#000000\" points=\"392.1688,-70.1523 381.7774,-68.0856 388.6119,-76.1813 392.1688,-70.1523\"/>\n</g>\n<!-- 19 -->\n<g id=\"node20\" class=\"node\">\n<title>19</title>\n<polygon fill=\"#3a9de5\" stroke=\"#000000\" points=\"602.5,-68 423.5,-68 423.5,0 602.5,0 602.5,-68\"/>\n<text text-anchor=\"middle\" x=\"513\" y=\"-52.8\" font-family=\"Helvetica,sans-Serif\" font-size=\"14.00\" fill=\"#000000\">gini = 0.009</text>\n<text text-anchor=\"middle\" x=\"513\" y=\"-37.8\" font-family=\"Helvetica,sans-Serif\" font-size=\"14.00\" fill=\"#000000\">samples = 850</text>\n<text text-anchor=\"middle\" x=\"513\" y=\"-22.8\" font-family=\"Helvetica,sans-Serif\" font-size=\"14.00\" fill=\"#000000\">value = [0, 0, 0, 846, 4, 0]</text>\n<text text-anchor=\"middle\" x=\"513\" y=\"-7.8\" font-family=\"Helvetica,sans-Serif\" font-size=\"14.00\" fill=\"#000000\">class = SITTING</text>\n</g>\n<!-- 17&#45;&gt;19 -->\n<g id=\"edge19\" class=\"edge\">\n<title>17&#45;&gt;19</title>\n<path fill=\"none\" stroke=\"#000000\" d=\"M513,-103.9815C513,-95.618 513,-86.7965 513,-78.3409\"/>\n<polygon fill=\"#000000\" stroke=\"#000000\" points=\"516.5001,-78.2636 513,-68.2637 509.5001,-78.2637 516.5001,-78.2636\"/>\n</g>\n<!-- 21 -->\n<g id=\"node22\" class=\"node\">\n<title>21</title>\n<polygon fill=\"#3c9fe5\" stroke=\"#000000\" points=\"791,-68 621,-68 621,0 791,0 791,-68\"/>\n<text text-anchor=\"middle\" x=\"706\" y=\"-52.8\" font-family=\"Helvetica,sans-Serif\" font-size=\"14.00\" fill=\"#000000\">gini = 0.03</text>\n<text text-anchor=\"middle\" x=\"706\" y=\"-37.8\" font-family=\"Helvetica,sans-Serif\" font-size=\"14.00\" fill=\"#000000\">samples = 66</text>\n<text text-anchor=\"middle\" x=\"706\" y=\"-22.8\" font-family=\"Helvetica,sans-Serif\" font-size=\"14.00\" fill=\"#000000\">value = [0, 0, 0, 65, 1, 0]</text>\n<text text-anchor=\"middle\" x=\"706\" y=\"-7.8\" font-family=\"Helvetica,sans-Serif\" font-size=\"14.00\" fill=\"#000000\">class = SITTING</text>\n</g>\n<!-- 20&#45;&gt;21 -->\n<g id=\"edge21\" class=\"edge\">\n<title>20&#45;&gt;21</title>\n<path fill=\"none\" stroke=\"#000000\" d=\"M823.9957,-103.9815C807.0158,-93.911 788.9163,-83.1764 772.1222,-73.2161\"/>\n<polygon fill=\"#000000\" stroke=\"#000000\" points=\"773.8582,-70.1765 763.4717,-68.0856 770.2874,-76.1972 773.8582,-70.1765\"/>\n</g>\n<!-- 22 -->\n<g id=\"node23\" class=\"node\">\n<title>22</title>\n<polygon fill=\"#8139e5\" stroke=\"#000000\" points=\"979,-68 809,-68 809,0 979,0 979,-68\"/>\n<text text-anchor=\"middle\" x=\"894\" y=\"-52.8\" font-family=\"Helvetica,sans-Serif\" font-size=\"14.00\" fill=\"#000000\">gini = 0.0</text>\n<text text-anchor=\"middle\" x=\"894\" y=\"-37.8\" font-family=\"Helvetica,sans-Serif\" font-size=\"14.00\" fill=\"#000000\">samples = 10</text>\n<text text-anchor=\"middle\" x=\"894\" y=\"-22.8\" font-family=\"Helvetica,sans-Serif\" font-size=\"14.00\" fill=\"#000000\">value = [0, 0, 0, 0, 10, 0]</text>\n<text text-anchor=\"middle\" x=\"894\" y=\"-7.8\" font-family=\"Helvetica,sans-Serif\" font-size=\"14.00\" fill=\"#000000\">class = STANDING</text>\n</g>\n<!-- 20&#45;&gt;22 -->\n<g id=\"edge22\" class=\"edge\">\n<title>20&#45;&gt;22</title>\n<path fill=\"none\" stroke=\"#000000\" d=\"M894,-103.9815C894,-95.618 894,-86.7965 894,-78.3409\"/>\n<polygon fill=\"#000000\" stroke=\"#000000\" points=\"897.5001,-78.2636 894,-68.2637 890.5001,-78.2637 897.5001,-78.2636\"/>\n</g>\n<!-- 24 -->\n<g id=\"node25\" class=\"node\">\n<title>24</title>\n<polygon fill=\"#3e9fe6\" stroke=\"#000000\" points=\"1353,-187 1123,-187 1123,-104 1353,-104 1353,-187\"/>\n<text text-anchor=\"middle\" x=\"1238\" y=\"-171.8\" font-family=\"Helvetica,sans-Serif\" font-size=\"14.00\" fill=\"#000000\">tGravityAcc&#45;arCoeff()&#45;Z,2 &lt;= 0.98</text>\n<text text-anchor=\"middle\" x=\"1238\" y=\"-156.8\" font-family=\"Helvetica,sans-Serif\" font-size=\"14.00\" fill=\"#000000\">gini = 0.046</text>\n<text text-anchor=\"middle\" x=\"1238\" y=\"-141.8\" font-family=\"Helvetica,sans-Serif\" font-size=\"14.00\" fill=\"#000000\">samples = 42</text>\n<text text-anchor=\"middle\" x=\"1238\" y=\"-126.8\" font-family=\"Helvetica,sans-Serif\" font-size=\"14.00\" fill=\"#000000\">value = [0, 0, 0, 41, 1, 0]</text>\n<text text-anchor=\"middle\" x=\"1238\" y=\"-111.8\" font-family=\"Helvetica,sans-Serif\" font-size=\"14.00\" fill=\"#000000\">class = SITTING</text>\n</g>\n<!-- 23&#45;&gt;24 -->\n<g id=\"edge24\" class=\"edge\">\n<title>23&#45;&gt;24</title>\n<path fill=\"none\" stroke=\"#000000\" d=\"M1298.4731,-222.8796C1291.5049,-213.9633 1284.0753,-204.4565 1276.8944,-195.268\"/>\n<polygon fill=\"#000000\" stroke=\"#000000\" points=\"1279.5812,-193.0221 1270.6657,-187.2981 1274.0657,-197.3326 1279.5812,-193.0221\"/>\n</g>\n<!-- 27 -->\n<g id=\"node28\" class=\"node\">\n<title>27</title>\n<polygon fill=\"#b286ef\" stroke=\"#000000\" points=\"1586.5,-187 1371.5,-187 1371.5,-104 1586.5,-104 1586.5,-187\"/>\n<text text-anchor=\"middle\" x=\"1479\" y=\"-171.8\" font-family=\"Helvetica,sans-Serif\" font-size=\"14.00\" fill=\"#000000\">fBodyGyro&#45;mean()&#45;Z &lt;= &#45;0.979</text>\n<text text-anchor=\"middle\" x=\"1479\" y=\"-156.8\" font-family=\"Helvetica,sans-Serif\" font-size=\"14.00\" fill=\"#000000\">gini = 0.403</text>\n<text text-anchor=\"middle\" x=\"1479\" y=\"-141.8\" font-family=\"Helvetica,sans-Serif\" font-size=\"14.00\" fill=\"#000000\">samples = 25</text>\n<text text-anchor=\"middle\" x=\"1479\" y=\"-126.8\" font-family=\"Helvetica,sans-Serif\" font-size=\"14.00\" fill=\"#000000\">value = [0, 0, 0, 7, 18, 0]</text>\n<text text-anchor=\"middle\" x=\"1479\" y=\"-111.8\" font-family=\"Helvetica,sans-Serif\" font-size=\"14.00\" fill=\"#000000\">class = STANDING</text>\n</g>\n<!-- 23&#45;&gt;27 -->\n<g id=\"edge27\" class=\"edge\">\n<title>23&#45;&gt;27</title>\n<path fill=\"none\" stroke=\"#000000\" d=\"M1382.7632,-222.8796C1394.5928,-213.368 1407.2581,-203.1843 1419.3871,-193.432\"/>\n<polygon fill=\"#000000\" stroke=\"#000000\" points=\"1421.6659,-196.0908 1427.266,-187.0969 1417.2796,-190.6355 1421.6659,-196.0908\"/>\n</g>\n<!-- 25 -->\n<g id=\"node26\" class=\"node\">\n<title>25</title>\n<polygon fill=\"#399de5\" stroke=\"#000000\" points=\"1167,-68 997,-68 997,0 1167,0 1167,-68\"/>\n<text text-anchor=\"middle\" x=\"1082\" y=\"-52.8\" font-family=\"Helvetica,sans-Serif\" font-size=\"14.00\" fill=\"#000000\">gini = 0.0</text>\n<text text-anchor=\"middle\" x=\"1082\" y=\"-37.8\" font-family=\"Helvetica,sans-Serif\" font-size=\"14.00\" fill=\"#000000\">samples = 41</text>\n<text text-anchor=\"middle\" x=\"1082\" y=\"-22.8\" font-family=\"Helvetica,sans-Serif\" font-size=\"14.00\" fill=\"#000000\">value = [0, 0, 0, 41, 0, 0]</text>\n<text text-anchor=\"middle\" x=\"1082\" y=\"-7.8\" font-family=\"Helvetica,sans-Serif\" font-size=\"14.00\" fill=\"#000000\">class = SITTING</text>\n</g>\n<!-- 24&#45;&gt;25 -->\n<g id=\"edge25\" class=\"edge\">\n<title>24&#45;&gt;25</title>\n<path fill=\"none\" stroke=\"#000000\" d=\"M1179.9114,-103.9815C1166.2811,-94.2394 1151.7816,-83.8759 1138.2342,-74.193\"/>\n<polygon fill=\"#000000\" stroke=\"#000000\" points=\"1140.1092,-71.2311 1129.9384,-68.2637 1136.0388,-76.926 1140.1092,-71.2311\"/>\n</g>\n<!-- 26 -->\n<g id=\"node27\" class=\"node\">\n<title>26</title>\n<polygon fill=\"#8139e5\" stroke=\"#000000\" points=\"1347,-68 1185,-68 1185,0 1347,0 1347,-68\"/>\n<text text-anchor=\"middle\" x=\"1266\" y=\"-52.8\" font-family=\"Helvetica,sans-Serif\" font-size=\"14.00\" fill=\"#000000\">gini = 0.0</text>\n<text text-anchor=\"middle\" x=\"1266\" y=\"-37.8\" font-family=\"Helvetica,sans-Serif\" font-size=\"14.00\" fill=\"#000000\">samples = 1</text>\n<text text-anchor=\"middle\" x=\"1266\" y=\"-22.8\" font-family=\"Helvetica,sans-Serif\" font-size=\"14.00\" fill=\"#000000\">value = [0, 0, 0, 0, 1, 0]</text>\n<text text-anchor=\"middle\" x=\"1266\" y=\"-7.8\" font-family=\"Helvetica,sans-Serif\" font-size=\"14.00\" fill=\"#000000\">class = STANDING</text>\n</g>\n<!-- 24&#45;&gt;26 -->\n<g id=\"edge26\" class=\"edge\">\n<title>24&#45;&gt;26</title>\n<path fill=\"none\" stroke=\"#000000\" d=\"M1248.4262,-103.9815C1250.5495,-95.5261 1252.7904,-86.6026 1254.935,-78.0623\"/>\n<polygon fill=\"#000000\" stroke=\"#000000\" points=\"1258.3546,-78.815 1257.3957,-68.2637 1251.5654,-77.1101 1258.3546,-78.815\"/>\n</g>\n<!-- 28 -->\n<g id=\"node29\" class=\"node\">\n<title>28</title>\n<polygon fill=\"#8139e5\" stroke=\"#000000\" points=\"1535,-68 1365,-68 1365,0 1535,0 1535,-68\"/>\n<text text-anchor=\"middle\" x=\"1450\" y=\"-52.8\" font-family=\"Helvetica,sans-Serif\" font-size=\"14.00\" fill=\"#000000\">gini = 0.0</text>\n<text text-anchor=\"middle\" x=\"1450\" y=\"-37.8\" font-family=\"Helvetica,sans-Serif\" font-size=\"14.00\" fill=\"#000000\">samples = 18</text>\n<text text-anchor=\"middle\" x=\"1450\" y=\"-22.8\" font-family=\"Helvetica,sans-Serif\" font-size=\"14.00\" fill=\"#000000\">value = [0, 0, 0, 0, 18, 0]</text>\n<text text-anchor=\"middle\" x=\"1450\" y=\"-7.8\" font-family=\"Helvetica,sans-Serif\" font-size=\"14.00\" fill=\"#000000\">class = STANDING</text>\n</g>\n<!-- 27&#45;&gt;28 -->\n<g id=\"edge28\" class=\"edge\">\n<title>27&#45;&gt;28</title>\n<path fill=\"none\" stroke=\"#000000\" d=\"M1468.2015,-103.9815C1466.0023,-95.5261 1463.6814,-86.6026 1461.4601,-78.0623\"/>\n<polygon fill=\"#000000\" stroke=\"#000000\" points=\"1464.8162,-77.0607 1458.9116,-68.2637 1458.0415,-78.8227 1464.8162,-77.0607\"/>\n</g>\n<!-- 29 -->\n<g id=\"node30\" class=\"node\">\n<title>29</title>\n<polygon fill=\"#399de5\" stroke=\"#000000\" points=\"1715,-68 1553,-68 1553,0 1715,0 1715,-68\"/>\n<text text-anchor=\"middle\" x=\"1634\" y=\"-52.8\" font-family=\"Helvetica,sans-Serif\" font-size=\"14.00\" fill=\"#000000\">gini = 0.0</text>\n<text text-anchor=\"middle\" x=\"1634\" y=\"-37.8\" font-family=\"Helvetica,sans-Serif\" font-size=\"14.00\" fill=\"#000000\">samples = 7</text>\n<text text-anchor=\"middle\" x=\"1634\" y=\"-22.8\" font-family=\"Helvetica,sans-Serif\" font-size=\"14.00\" fill=\"#000000\">value = [0, 0, 0, 7, 0, 0]</text>\n<text text-anchor=\"middle\" x=\"1634\" y=\"-7.8\" font-family=\"Helvetica,sans-Serif\" font-size=\"14.00\" fill=\"#000000\">class = SITTING</text>\n</g>\n<!-- 27&#45;&gt;29 -->\n<g id=\"edge29\" class=\"edge\">\n<title>27&#45;&gt;29</title>\n<path fill=\"none\" stroke=\"#000000\" d=\"M1536.7163,-103.9815C1550.2591,-94.2394 1564.6657,-83.8759 1578.1263,-74.193\"/>\n<polygon fill=\"#000000\" stroke=\"#000000\" points=\"1580.2949,-76.9446 1586.3689,-68.2637 1576.2072,-71.2621 1580.2949,-76.9446\"/>\n</g>\n<!-- 31 -->\n<g id=\"node32\" class=\"node\">\n<title>31</title>\n<polygon fill=\"#efe6fc\" stroke=\"#000000\" points=\"1980,-306 1786,-306 1786,-223 1980,-223 1980,-306\"/>\n<text text-anchor=\"middle\" x=\"1883\" y=\"-290.8\" font-family=\"Helvetica,sans-Serif\" font-size=\"14.00\" fill=\"#000000\">fBodyGyro&#45;iqr()&#45;Y &lt;= &#45;0.987</text>\n<text text-anchor=\"middle\" x=\"1883\" y=\"-275.8\" font-family=\"Helvetica,sans-Serif\" font-size=\"14.00\" fill=\"#000000\">gini = 0.498</text>\n<text text-anchor=\"middle\" x=\"1883\" y=\"-260.8\" font-family=\"Helvetica,sans-Serif\" font-size=\"14.00\" fill=\"#000000\">samples = 163</text>\n<text text-anchor=\"middle\" x=\"1883\" y=\"-245.8\" font-family=\"Helvetica,sans-Serif\" font-size=\"14.00\" fill=\"#000000\">value = [0, 0, 0, 76, 87, 0]</text>\n<text text-anchor=\"middle\" x=\"1883\" y=\"-230.8\" font-family=\"Helvetica,sans-Serif\" font-size=\"14.00\" fill=\"#000000\">class = STANDING</text>\n</g>\n<!-- 30&#45;&gt;31 -->\n<g id=\"edge31\" class=\"edge\">\n<title>30&#45;&gt;31</title>\n<path fill=\"none\" stroke=\"#000000\" d=\"M1883,-341.8796C1883,-333.6838 1883,-324.9891 1883,-316.5013\"/>\n<polygon fill=\"#000000\" stroke=\"#000000\" points=\"1886.5001,-316.298 1883,-306.2981 1879.5001,-316.2981 1886.5001,-316.298\"/>\n</g>\n<!-- 38 -->\n<g id=\"node39\" class=\"node\">\n<title>38</title>\n<polygon fill=\"#399de5\" stroke=\"#000000\" points=\"2177.5,-298.5 1998.5,-298.5 1998.5,-230.5 2177.5,-230.5 2177.5,-298.5\"/>\n<text text-anchor=\"middle\" x=\"2088\" y=\"-283.3\" font-family=\"Helvetica,sans-Serif\" font-size=\"14.00\" fill=\"#000000\">gini = 0.0</text>\n<text text-anchor=\"middle\" x=\"2088\" y=\"-268.3\" font-family=\"Helvetica,sans-Serif\" font-size=\"14.00\" fill=\"#000000\">samples = 105</text>\n<text text-anchor=\"middle\" x=\"2088\" y=\"-253.3\" font-family=\"Helvetica,sans-Serif\" font-size=\"14.00\" fill=\"#000000\">value = [0, 0, 0, 105, 0, 0]</text>\n<text text-anchor=\"middle\" x=\"2088\" y=\"-238.3\" font-family=\"Helvetica,sans-Serif\" font-size=\"14.00\" fill=\"#000000\">class = SITTING</text>\n</g>\n<!-- 30&#45;&gt;38 -->\n<g id=\"edge38\" class=\"edge\">\n<title>30&#45;&gt;38</title>\n<path fill=\"none\" stroke=\"#000000\" d=\"M1954.6991,-341.8796C1976.0161,-329.5053 1999.2924,-315.9937 2020.3433,-303.7739\"/>\n<polygon fill=\"#000000\" stroke=\"#000000\" points=\"2022.3253,-306.6704 2029.2166,-298.623 2018.811,-300.6164 2022.3253,-306.6704\"/>\n</g>\n<!-- 32 -->\n<g id=\"node33\" class=\"node\">\n<title>32</title>\n<polygon fill=\"#853fe6\" stroke=\"#000000\" points=\"2000.5,-187 1765.5,-187 1765.5,-104 2000.5,-104 2000.5,-187\"/>\n<text text-anchor=\"middle\" x=\"1883\" y=\"-171.8\" font-family=\"Helvetica,sans-Serif\" font-size=\"14.00\" fill=\"#000000\">tBodyGyroJerk&#45;mad()&#45;X &lt;= &#45;0.993</text>\n<text text-anchor=\"middle\" x=\"1883\" y=\"-156.8\" font-family=\"Helvetica,sans-Serif\" font-size=\"14.00\" fill=\"#000000\">gini = 0.057</text>\n<text text-anchor=\"middle\" x=\"1883\" y=\"-141.8\" font-family=\"Helvetica,sans-Serif\" font-size=\"14.00\" fill=\"#000000\">samples = 34</text>\n<text text-anchor=\"middle\" x=\"1883\" y=\"-126.8\" font-family=\"Helvetica,sans-Serif\" font-size=\"14.00\" fill=\"#000000\">value = [0, 0, 0, 1, 33, 0]</text>\n<text text-anchor=\"middle\" x=\"1883\" y=\"-111.8\" font-family=\"Helvetica,sans-Serif\" font-size=\"14.00\" fill=\"#000000\">class = STANDING</text>\n</g>\n<!-- 31&#45;&gt;32 -->\n<g id=\"edge32\" class=\"edge\">\n<title>31&#45;&gt;32</title>\n<path fill=\"none\" stroke=\"#000000\" d=\"M1883,-222.8796C1883,-214.6838 1883,-205.9891 1883,-197.5013\"/>\n<polygon fill=\"#000000\" stroke=\"#000000\" points=\"1886.5001,-197.298 1883,-187.2981 1879.5001,-197.2981 1886.5001,-197.298\"/>\n</g>\n<!-- 35 -->\n<g id=\"node36\" class=\"node\">\n<title>35</title>\n<polygon fill=\"#c8e4f8\" stroke=\"#000000\" points=\"2283,-187 2089,-187 2089,-104 2283,-104 2283,-187\"/>\n<text text-anchor=\"middle\" x=\"2186\" y=\"-171.8\" font-family=\"Helvetica,sans-Serif\" font-size=\"14.00\" fill=\"#000000\">tBodyGyro&#45;iqr()&#45;X &lt;= &#45;0.977</text>\n<text text-anchor=\"middle\" x=\"2186\" y=\"-156.8\" font-family=\"Helvetica,sans-Serif\" font-size=\"14.00\" fill=\"#000000\">gini = 0.487</text>\n<text text-anchor=\"middle\" x=\"2186\" y=\"-141.8\" font-family=\"Helvetica,sans-Serif\" font-size=\"14.00\" fill=\"#000000\">samples = 129</text>\n<text text-anchor=\"middle\" x=\"2186\" y=\"-126.8\" font-family=\"Helvetica,sans-Serif\" font-size=\"14.00\" fill=\"#000000\">value = [0, 0, 0, 75, 54, 0]</text>\n<text text-anchor=\"middle\" x=\"2186\" y=\"-111.8\" font-family=\"Helvetica,sans-Serif\" font-size=\"14.00\" fill=\"#000000\">class = SITTING</text>\n</g>\n<!-- 31&#45;&gt;35 -->\n<g id=\"edge35\" class=\"edge\">\n<title>31&#45;&gt;35</title>\n<path fill=\"none\" stroke=\"#000000\" d=\"M1980.1214,-226.3566C2011.7882,-213.9198 2047.1097,-200.0477 2079.4313,-187.3537\"/>\n<polygon fill=\"#000000\" stroke=\"#000000\" points=\"2080.8804,-190.5449 2088.9088,-183.6315 2078.3214,-184.0294 2080.8804,-190.5449\"/>\n</g>\n<!-- 33 -->\n<g id=\"node34\" class=\"node\">\n<title>33</title>\n<polygon fill=\"#399de5\" stroke=\"#000000\" points=\"1895,-68 1733,-68 1733,0 1895,0 1895,-68\"/>\n<text text-anchor=\"middle\" x=\"1814\" y=\"-52.8\" font-family=\"Helvetica,sans-Serif\" font-size=\"14.00\" fill=\"#000000\">gini = 0.0</text>\n<text text-anchor=\"middle\" x=\"1814\" y=\"-37.8\" font-family=\"Helvetica,sans-Serif\" font-size=\"14.00\" fill=\"#000000\">samples = 1</text>\n<text text-anchor=\"middle\" x=\"1814\" y=\"-22.8\" font-family=\"Helvetica,sans-Serif\" font-size=\"14.00\" fill=\"#000000\">value = [0, 0, 0, 1, 0, 0]</text>\n<text text-anchor=\"middle\" x=\"1814\" y=\"-7.8\" font-family=\"Helvetica,sans-Serif\" font-size=\"14.00\" fill=\"#000000\">class = SITTING</text>\n</g>\n<!-- 32&#45;&gt;33 -->\n<g id=\"edge33\" class=\"edge\">\n<title>32&#45;&gt;33</title>\n<path fill=\"none\" stroke=\"#000000\" d=\"M1857.3069,-103.9815C1851.8469,-95.1585 1846.0716,-85.8258 1840.5793,-76.9506\"/>\n<polygon fill=\"#000000\" stroke=\"#000000\" points=\"1843.442,-74.9254 1835.2035,-68.2637 1837.4896,-78.609 1843.442,-74.9254\"/>\n</g>\n<!-- 34 -->\n<g id=\"node35\" class=\"node\">\n<title>34</title>\n<polygon fill=\"#8139e5\" stroke=\"#000000\" points=\"2083,-68 1913,-68 1913,0 2083,0 2083,-68\"/>\n<text text-anchor=\"middle\" x=\"1998\" y=\"-52.8\" font-family=\"Helvetica,sans-Serif\" font-size=\"14.00\" fill=\"#000000\">gini = 0.0</text>\n<text text-anchor=\"middle\" x=\"1998\" y=\"-37.8\" font-family=\"Helvetica,sans-Serif\" font-size=\"14.00\" fill=\"#000000\">samples = 33</text>\n<text text-anchor=\"middle\" x=\"1998\" y=\"-22.8\" font-family=\"Helvetica,sans-Serif\" font-size=\"14.00\" fill=\"#000000\">value = [0, 0, 0, 0, 33, 0]</text>\n<text text-anchor=\"middle\" x=\"1998\" y=\"-7.8\" font-family=\"Helvetica,sans-Serif\" font-size=\"14.00\" fill=\"#000000\">class = STANDING</text>\n</g>\n<!-- 32&#45;&gt;34 -->\n<g id=\"edge34\" class=\"edge\">\n<title>32&#45;&gt;34</title>\n<path fill=\"none\" stroke=\"#000000\" d=\"M1925.8218,-103.9815C1935.4905,-94.607 1945.7527,-84.6572 1955.4118,-75.2921\"/>\n<polygon fill=\"#000000\" stroke=\"#000000\" points=\"1957.9176,-77.7375 1962.6608,-68.2637 1953.0449,-72.7118 1957.9176,-77.7375\"/>\n</g>\n<!-- 36 -->\n<g id=\"node37\" class=\"node\">\n<title>36</title>\n<polygon fill=\"#53aae8\" stroke=\"#000000\" points=\"2271,-68 2101,-68 2101,0 2271,0 2271,-68\"/>\n<text text-anchor=\"middle\" x=\"2186\" y=\"-52.8\" font-family=\"Helvetica,sans-Serif\" font-size=\"14.00\" fill=\"#000000\">gini = 0.208</text>\n<text text-anchor=\"middle\" x=\"2186\" y=\"-37.8\" font-family=\"Helvetica,sans-Serif\" font-size=\"14.00\" fill=\"#000000\">samples = 51</text>\n<text text-anchor=\"middle\" x=\"2186\" y=\"-22.8\" font-family=\"Helvetica,sans-Serif\" font-size=\"14.00\" fill=\"#000000\">value = [0, 0, 0, 45, 6, 0]</text>\n<text text-anchor=\"middle\" x=\"2186\" y=\"-7.8\" font-family=\"Helvetica,sans-Serif\" font-size=\"14.00\" fill=\"#000000\">class = SITTING</text>\n</g>\n<!-- 35&#45;&gt;36 -->\n<g id=\"edge36\" class=\"edge\">\n<title>35&#45;&gt;36</title>\n<path fill=\"none\" stroke=\"#000000\" d=\"M2186,-103.9815C2186,-95.618 2186,-86.7965 2186,-78.3409\"/>\n<polygon fill=\"#000000\" stroke=\"#000000\" points=\"2189.5001,-78.2636 2186,-68.2637 2182.5001,-78.2637 2189.5001,-78.2636\"/>\n</g>\n<!-- 37 -->\n<g id=\"node38\" class=\"node\">\n<title>37</title>\n<polygon fill=\"#d0b5f5\" stroke=\"#000000\" points=\"2468.5,-68 2289.5,-68 2289.5,0 2468.5,0 2468.5,-68\"/>\n<text text-anchor=\"middle\" x=\"2379\" y=\"-52.8\" font-family=\"Helvetica,sans-Serif\" font-size=\"14.00\" fill=\"#000000\">gini = 0.473</text>\n<text text-anchor=\"middle\" x=\"2379\" y=\"-37.8\" font-family=\"Helvetica,sans-Serif\" font-size=\"14.00\" fill=\"#000000\">samples = 78</text>\n<text text-anchor=\"middle\" x=\"2379\" y=\"-22.8\" font-family=\"Helvetica,sans-Serif\" font-size=\"14.00\" fill=\"#000000\">value = [0, 0, 0, 30, 48, 0]</text>\n<text text-anchor=\"middle\" x=\"2379\" y=\"-7.8\" font-family=\"Helvetica,sans-Serif\" font-size=\"14.00\" fill=\"#000000\">class = STANDING</text>\n</g>\n<!-- 35&#45;&gt;37 -->\n<g id=\"edge37\" class=\"edge\">\n<title>35&#45;&gt;37</title>\n<path fill=\"none\" stroke=\"#000000\" d=\"M2257.8661,-103.9815C2275.2976,-93.911 2293.8785,-83.1764 2311.1193,-73.2161\"/>\n<polygon fill=\"#000000\" stroke=\"#000000\" points=\"2313.0917,-76.1187 2319.9998,-68.0856 2309.59,-70.0575 2313.0917,-76.1187\"/>\n</g>\n<!-- 40 -->\n<g id=\"node41\" class=\"node\">\n<title>40</title>\n<polygon fill=\"#8a47e7\" stroke=\"#000000\" points=\"3259,-544 3053,-544 3053,-461 3259,-461 3259,-544\"/>\n<text text-anchor=\"middle\" x=\"3156\" y=\"-528.8\" font-family=\"Helvetica,sans-Serif\" font-size=\"14.00\" fill=\"#000000\">tBodyGyro&#45;max()&#45;X &lt;= &#45;0.893</text>\n<text text-anchor=\"middle\" x=\"3156\" y=\"-513.8\" font-family=\"Helvetica,sans-Serif\" font-size=\"14.00\" fill=\"#000000\">gini = 0.121</text>\n<text text-anchor=\"middle\" x=\"3156\" y=\"-498.8\" font-family=\"Helvetica,sans-Serif\" font-size=\"14.00\" fill=\"#000000\">samples = 1240</text>\n<text text-anchor=\"middle\" x=\"3156\" y=\"-483.8\" font-family=\"Helvetica,sans-Serif\" font-size=\"14.00\" fill=\"#000000\">value = [0, 0, 0, 80, 1160, 0]</text>\n<text text-anchor=\"middle\" x=\"3156\" y=\"-468.8\" font-family=\"Helvetica,sans-Serif\" font-size=\"14.00\" fill=\"#000000\">class = STANDING</text>\n</g>\n<!-- 39&#45;&gt;40 -->\n<g id=\"edge40\" class=\"edge\">\n<title>39&#45;&gt;40</title>\n<path fill=\"none\" stroke=\"#000000\" d=\"M3250.9363,-579.8796C3239.4445,-570.513 3227.1532,-560.4948 3215.355,-550.8784\"/>\n<polygon fill=\"#000000\" stroke=\"#000000\" points=\"3217.2444,-547.903 3207.2817,-544.2981 3212.8218,-553.329 3217.2444,-547.903\"/>\n</g>\n<!-- 53 -->\n<g id=\"node54\" class=\"node\">\n<title>53</title>\n<polygon fill=\"#edf6fd\" stroke=\"#000000\" points=\"3551.5,-544 3344.5,-544 3344.5,-461 3551.5,-461 3551.5,-544\"/>\n<text text-anchor=\"middle\" x=\"3448\" y=\"-528.8\" font-family=\"Helvetica,sans-Serif\" font-size=\"14.00\" fill=\"#000000\">tGravityAcc&#45;min()&#45;Y &lt;= &#45;0.139</text>\n<text text-anchor=\"middle\" x=\"3448\" y=\"-513.8\" font-family=\"Helvetica,sans-Serif\" font-size=\"14.00\" fill=\"#000000\">gini = 0.499</text>\n<text text-anchor=\"middle\" x=\"3448\" y=\"-498.8\" font-family=\"Helvetica,sans-Serif\" font-size=\"14.00\" fill=\"#000000\">samples = 63</text>\n<text text-anchor=\"middle\" x=\"3448\" y=\"-483.8\" font-family=\"Helvetica,sans-Serif\" font-size=\"14.00\" fill=\"#000000\">value = [0, 0, 0, 33, 30, 0]</text>\n<text text-anchor=\"middle\" x=\"3448\" y=\"-468.8\" font-family=\"Helvetica,sans-Serif\" font-size=\"14.00\" fill=\"#000000\">class = SITTING</text>\n</g>\n<!-- 39&#45;&gt;53 -->\n<g id=\"edge53\" class=\"edge\">\n<title>39&#45;&gt;53</title>\n<path fill=\"none\" stroke=\"#000000\" d=\"M3353.0637,-579.8796C3364.5555,-570.513 3376.8468,-560.4948 3388.645,-550.8784\"/>\n<polygon fill=\"#000000\" stroke=\"#000000\" points=\"3391.1782,-553.329 3396.7183,-544.2981 3386.7556,-547.903 3391.1782,-553.329\"/>\n</g>\n<!-- 41 -->\n<g id=\"node42\" class=\"node\">\n<title>41</title>\n<polygon fill=\"#399de5\" stroke=\"#000000\" points=\"3010,-417.5 2848,-417.5 2848,-349.5 3010,-349.5 3010,-417.5\"/>\n<text text-anchor=\"middle\" x=\"2929\" y=\"-402.3\" font-family=\"Helvetica,sans-Serif\" font-size=\"14.00\" fill=\"#000000\">gini = 0.0</text>\n<text text-anchor=\"middle\" x=\"2929\" y=\"-387.3\" font-family=\"Helvetica,sans-Serif\" font-size=\"14.00\" fill=\"#000000\">samples = 8</text>\n<text text-anchor=\"middle\" x=\"2929\" y=\"-372.3\" font-family=\"Helvetica,sans-Serif\" font-size=\"14.00\" fill=\"#000000\">value = [0, 0, 0, 8, 0, 0]</text>\n<text text-anchor=\"middle\" x=\"2929\" y=\"-357.3\" font-family=\"Helvetica,sans-Serif\" font-size=\"14.00\" fill=\"#000000\">class = SITTING</text>\n</g>\n<!-- 40&#45;&gt;41 -->\n<g id=\"edge41\" class=\"edge\">\n<title>40&#45;&gt;41</title>\n<path fill=\"none\" stroke=\"#000000\" d=\"M3076.6064,-460.8796C3052.6856,-448.3396 3026.5366,-434.6315 3002.9822,-422.2836\"/>\n<polygon fill=\"#000000\" stroke=\"#000000\" points=\"3004.5737,-419.1662 2994.0918,-417.623 3001.3236,-425.366 3004.5737,-419.1662\"/>\n</g>\n<!-- 42 -->\n<g id=\"node43\" class=\"node\">\n<title>42</title>\n<polygon fill=\"#8945e7\" stroke=\"#000000\" points=\"3283.5,-425 3028.5,-425 3028.5,-342 3283.5,-342 3283.5,-425\"/>\n<text text-anchor=\"middle\" x=\"3156\" y=\"-409.8\" font-family=\"Helvetica,sans-Serif\" font-size=\"14.00\" fill=\"#000000\">tBodyGyro&#45;correlation()&#45;X,Y &lt;= 0.656</text>\n<text text-anchor=\"middle\" x=\"3156\" y=\"-394.8\" font-family=\"Helvetica,sans-Serif\" font-size=\"14.00\" fill=\"#000000\">gini = 0.11</text>\n<text text-anchor=\"middle\" x=\"3156\" y=\"-379.8\" font-family=\"Helvetica,sans-Serif\" font-size=\"14.00\" fill=\"#000000\">samples = 1232</text>\n<text text-anchor=\"middle\" x=\"3156\" y=\"-364.8\" font-family=\"Helvetica,sans-Serif\" font-size=\"14.00\" fill=\"#000000\">value = [0, 0, 0, 72, 1160, 0]</text>\n<text text-anchor=\"middle\" x=\"3156\" y=\"-349.8\" font-family=\"Helvetica,sans-Serif\" font-size=\"14.00\" fill=\"#000000\">class = STANDING</text>\n</g>\n<!-- 40&#45;&gt;42 -->\n<g id=\"edge42\" class=\"edge\">\n<title>40&#45;&gt;42</title>\n<path fill=\"none\" stroke=\"#000000\" d=\"M3156,-460.8796C3156,-452.6838 3156,-443.9891 3156,-435.5013\"/>\n<polygon fill=\"#000000\" stroke=\"#000000\" points=\"3159.5001,-435.298 3156,-425.2981 3152.5001,-435.2981 3159.5001,-435.298\"/>\n</g>\n<!-- 43 -->\n<g id=\"node44\" class=\"node\">\n<title>43</title>\n<polygon fill=\"#8843e6\" stroke=\"#000000\" points=\"2991,-306 2785,-306 2785,-223 2991,-223 2991,-306\"/>\n<text text-anchor=\"middle\" x=\"2888\" y=\"-290.8\" font-family=\"Helvetica,sans-Serif\" font-size=\"14.00\" fill=\"#000000\">tBodyAccJerk&#45;iqr()&#45;Z &lt;= &#45;0.98</text>\n<text text-anchor=\"middle\" x=\"2888\" y=\"-275.8\" font-family=\"Helvetica,sans-Serif\" font-size=\"14.00\" fill=\"#000000\">gini = 0.094</text>\n<text text-anchor=\"middle\" x=\"2888\" y=\"-260.8\" font-family=\"Helvetica,sans-Serif\" font-size=\"14.00\" fill=\"#000000\">samples = 1214</text>\n<text text-anchor=\"middle\" x=\"2888\" y=\"-245.8\" font-family=\"Helvetica,sans-Serif\" font-size=\"14.00\" fill=\"#000000\">value = [0, 0, 0, 60, 1154, 0]</text>\n<text text-anchor=\"middle\" x=\"2888\" y=\"-230.8\" font-family=\"Helvetica,sans-Serif\" font-size=\"14.00\" fill=\"#000000\">class = STANDING</text>\n</g>\n<!-- 42&#45;&gt;43 -->\n<g id=\"edge43\" class=\"edge\">\n<title>42&#45;&gt;43</title>\n<path fill=\"none\" stroke=\"#000000\" d=\"M3062.2666,-341.8796C3039.2134,-331.6433 3014.4073,-320.6286 2990.9454,-310.2108\"/>\n<polygon fill=\"#000000\" stroke=\"#000000\" points=\"2992.2404,-306.9564 2981.6805,-306.0969 2989.3996,-313.354 2992.2404,-306.9564\"/>\n</g>\n<!-- 50 -->\n<g id=\"node51\" class=\"node\">\n<title>50</title>\n<polygon fill=\"#9ccef2\" stroke=\"#000000\" points=\"3302.5,-306 3009.5,-306 3009.5,-223 3302.5,-223 3302.5,-306\"/>\n<text text-anchor=\"middle\" x=\"3156\" y=\"-290.8\" font-family=\"Helvetica,sans-Serif\" font-size=\"14.00\" fill=\"#000000\">fBodyBodyGyroMag&#45;meanFreq() &lt;= &#45;0.277</text>\n<text text-anchor=\"middle\" x=\"3156\" y=\"-275.8\" font-family=\"Helvetica,sans-Serif\" font-size=\"14.00\" fill=\"#000000\">gini = 0.444</text>\n<text text-anchor=\"middle\" x=\"3156\" y=\"-260.8\" font-family=\"Helvetica,sans-Serif\" font-size=\"14.00\" fill=\"#000000\">samples = 18</text>\n<text text-anchor=\"middle\" x=\"3156\" y=\"-245.8\" font-family=\"Helvetica,sans-Serif\" font-size=\"14.00\" fill=\"#000000\">value = [0, 0, 0, 12, 6, 0]</text>\n<text text-anchor=\"middle\" x=\"3156\" y=\"-230.8\" font-family=\"Helvetica,sans-Serif\" font-size=\"14.00\" fill=\"#000000\">class = SITTING</text>\n</g>\n<!-- 42&#45;&gt;50 -->\n<g id=\"edge50\" class=\"edge\">\n<title>42&#45;&gt;50</title>\n<path fill=\"none\" stroke=\"#000000\" d=\"M3156,-341.8796C3156,-333.6838 3156,-324.9891 3156,-316.5013\"/>\n<polygon fill=\"#000000\" stroke=\"#000000\" points=\"3159.5001,-316.298 3156,-306.2981 3152.5001,-316.2981 3159.5001,-316.298\"/>\n</g>\n<!-- 44 -->\n<g id=\"node45\" class=\"node\">\n<title>44</title>\n<polygon fill=\"#823be5\" stroke=\"#000000\" points=\"2833,-187 2597,-187 2597,-104 2833,-104 2833,-187\"/>\n<text text-anchor=\"middle\" x=\"2715\" y=\"-171.8\" font-family=\"Helvetica,sans-Serif\" font-size=\"14.00\" fill=\"#000000\">tBodyGyro&#45;arCoeff()&#45;Y,1 &lt;= &#45;0.545</text>\n<text text-anchor=\"middle\" x=\"2715\" y=\"-156.8\" font-family=\"Helvetica,sans-Serif\" font-size=\"14.00\" fill=\"#000000\">gini = 0.022</text>\n<text text-anchor=\"middle\" x=\"2715\" y=\"-141.8\" font-family=\"Helvetica,sans-Serif\" font-size=\"14.00\" fill=\"#000000\">samples = 802</text>\n<text text-anchor=\"middle\" x=\"2715\" y=\"-126.8\" font-family=\"Helvetica,sans-Serif\" font-size=\"14.00\" fill=\"#000000\">value = [0, 0, 0, 9, 793, 0]</text>\n<text text-anchor=\"middle\" x=\"2715\" y=\"-111.8\" font-family=\"Helvetica,sans-Serif\" font-size=\"14.00\" fill=\"#000000\">class = STANDING</text>\n</g>\n<!-- 43&#45;&gt;44 -->\n<g id=\"edge44\" class=\"edge\">\n<title>43&#45;&gt;44</title>\n<path fill=\"none\" stroke=\"#000000\" d=\"M2827.493,-222.8796C2813.4018,-213.1868 2798.2961,-202.7961 2783.8731,-192.8752\"/>\n<polygon fill=\"#000000\" stroke=\"#000000\" points=\"2785.6955,-189.8806 2775.4728,-187.0969 2781.7283,-195.6479 2785.6955,-189.8806\"/>\n</g>\n<!-- 47 -->\n<g id=\"node48\" class=\"node\">\n<title>47</title>\n<polygon fill=\"#9355e9\" stroke=\"#000000\" points=\"3057,-187 2851,-187 2851,-104 3057,-104 3057,-187\"/>\n<text text-anchor=\"middle\" x=\"2954\" y=\"-171.8\" font-family=\"Helvetica,sans-Serif\" font-size=\"14.00\" fill=\"#000000\">fBodyGyro&#45;max()&#45;X &lt;= &#45;0.982</text>\n<text text-anchor=\"middle\" x=\"2954\" y=\"-156.8\" font-family=\"Helvetica,sans-Serif\" font-size=\"14.00\" fill=\"#000000\">gini = 0.217</text>\n<text text-anchor=\"middle\" x=\"2954\" y=\"-141.8\" font-family=\"Helvetica,sans-Serif\" font-size=\"14.00\" fill=\"#000000\">samples = 412</text>\n<text text-anchor=\"middle\" x=\"2954\" y=\"-126.8\" font-family=\"Helvetica,sans-Serif\" font-size=\"14.00\" fill=\"#000000\">value = [0, 0, 0, 51, 361, 0]</text>\n<text text-anchor=\"middle\" x=\"2954\" y=\"-111.8\" font-family=\"Helvetica,sans-Serif\" font-size=\"14.00\" fill=\"#000000\">class = STANDING</text>\n</g>\n<!-- 43&#45;&gt;47 -->\n<g id=\"edge47\" class=\"edge\">\n<title>43&#45;&gt;47</title>\n<path fill=\"none\" stroke=\"#000000\" d=\"M2911.0836,-222.8796C2915.8789,-214.2335 2920.9822,-205.0322 2925.9338,-196.1042\"/>\n<polygon fill=\"#000000\" stroke=\"#000000\" points=\"2929.0284,-197.7407 2930.8179,-187.2981 2922.9069,-194.3455 2929.0284,-197.7407\"/>\n</g>\n<!-- 45 -->\n<g id=\"node46\" class=\"node\">\n<title>45</title>\n<polygon fill=\"#d5bdf6\" stroke=\"#000000\" points=\"2649,-68 2487,-68 2487,0 2649,0 2649,-68\"/>\n<text text-anchor=\"middle\" x=\"2568\" y=\"-52.8\" font-family=\"Helvetica,sans-Serif\" font-size=\"14.00\" fill=\"#000000\">gini = 0.48</text>\n<text text-anchor=\"middle\" x=\"2568\" y=\"-37.8\" font-family=\"Helvetica,sans-Serif\" font-size=\"14.00\" fill=\"#000000\">samples = 10</text>\n<text text-anchor=\"middle\" x=\"2568\" y=\"-22.8\" font-family=\"Helvetica,sans-Serif\" font-size=\"14.00\" fill=\"#000000\">value = [0, 0, 0, 4, 6, 0]</text>\n<text text-anchor=\"middle\" x=\"2568\" y=\"-7.8\" font-family=\"Helvetica,sans-Serif\" font-size=\"14.00\" fill=\"#000000\">class = STANDING</text>\n</g>\n<!-- 44&#45;&gt;45 -->\n<g id=\"edge45\" class=\"edge\">\n<title>44&#45;&gt;45</title>\n<path fill=\"none\" stroke=\"#000000\" d=\"M2660.2626,-103.9815C2647.5399,-94.3313 2634.0134,-84.0714 2621.3515,-74.4673\"/>\n<polygon fill=\"#000000\" stroke=\"#000000\" points=\"2623.2553,-71.5184 2613.1727,-68.2637 2619.025,-77.0956 2623.2553,-71.5184\"/>\n</g>\n<!-- 46 -->\n<g id=\"node47\" class=\"node\">\n<title>46</title>\n<polygon fill=\"#823ae5\" stroke=\"#000000\" points=\"2846.5,-68 2667.5,-68 2667.5,0 2846.5,0 2846.5,-68\"/>\n<text text-anchor=\"middle\" x=\"2757\" y=\"-52.8\" font-family=\"Helvetica,sans-Serif\" font-size=\"14.00\" fill=\"#000000\">gini = 0.013</text>\n<text text-anchor=\"middle\" x=\"2757\" y=\"-37.8\" font-family=\"Helvetica,sans-Serif\" font-size=\"14.00\" fill=\"#000000\">samples = 792</text>\n<text text-anchor=\"middle\" x=\"2757\" y=\"-22.8\" font-family=\"Helvetica,sans-Serif\" font-size=\"14.00\" fill=\"#000000\">value = [0, 0, 0, 5, 787, 0]</text>\n<text text-anchor=\"middle\" x=\"2757\" y=\"-7.8\" font-family=\"Helvetica,sans-Serif\" font-size=\"14.00\" fill=\"#000000\">class = STANDING</text>\n</g>\n<!-- 44&#45;&gt;46 -->\n<g id=\"edge46\" class=\"edge\">\n<title>44&#45;&gt;46</title>\n<path fill=\"none\" stroke=\"#000000\" d=\"M2730.6392,-103.9815C2733.8589,-95.4342 2737.2587,-86.4086 2740.5074,-77.7839\"/>\n<polygon fill=\"#000000\" stroke=\"#000000\" points=\"2743.8438,-78.8556 2744.0935,-68.2637 2737.2931,-76.388 2743.8438,-78.8556\"/>\n</g>\n<!-- 48 -->\n<g id=\"node49\" class=\"node\">\n<title>48</title>\n<polygon fill=\"#c1e0f7\" stroke=\"#000000\" points=\"3043.5,-68 2864.5,-68 2864.5,0 3043.5,0 3043.5,-68\"/>\n<text text-anchor=\"middle\" x=\"2954\" y=\"-52.8\" font-family=\"Helvetica,sans-Serif\" font-size=\"14.00\" fill=\"#000000\">gini = 0.483</text>\n<text text-anchor=\"middle\" x=\"2954\" y=\"-37.8\" font-family=\"Helvetica,sans-Serif\" font-size=\"14.00\" fill=\"#000000\">samples = 59</text>\n<text text-anchor=\"middle\" x=\"2954\" y=\"-22.8\" font-family=\"Helvetica,sans-Serif\" font-size=\"14.00\" fill=\"#000000\">value = [0, 0, 0, 35, 24, 0]</text>\n<text text-anchor=\"middle\" x=\"2954\" y=\"-7.8\" font-family=\"Helvetica,sans-Serif\" font-size=\"14.00\" fill=\"#000000\">class = SITTING</text>\n</g>\n<!-- 47&#45;&gt;48 -->\n<g id=\"edge48\" class=\"edge\">\n<title>47&#45;&gt;48</title>\n<path fill=\"none\" stroke=\"#000000\" d=\"M2954,-103.9815C2954,-95.618 2954,-86.7965 2954,-78.3409\"/>\n<polygon fill=\"#000000\" stroke=\"#000000\" points=\"2957.5001,-78.2636 2954,-68.2637 2950.5001,-78.2637 2957.5001,-78.2636\"/>\n</g>\n<!-- 49 -->\n<g id=\"node50\" class=\"node\">\n<title>49</title>\n<polygon fill=\"#8742e6\" stroke=\"#000000\" points=\"3248.5,-68 3061.5,-68 3061.5,0 3248.5,0 3248.5,-68\"/>\n<text text-anchor=\"middle\" x=\"3155\" y=\"-52.8\" font-family=\"Helvetica,sans-Serif\" font-size=\"14.00\" fill=\"#000000\">gini = 0.087</text>\n<text text-anchor=\"middle\" x=\"3155\" y=\"-37.8\" font-family=\"Helvetica,sans-Serif\" font-size=\"14.00\" fill=\"#000000\">samples = 353</text>\n<text text-anchor=\"middle\" x=\"3155\" y=\"-22.8\" font-family=\"Helvetica,sans-Serif\" font-size=\"14.00\" fill=\"#000000\">value = [0, 0, 0, 16, 337, 0]</text>\n<text text-anchor=\"middle\" x=\"3155\" y=\"-7.8\" font-family=\"Helvetica,sans-Serif\" font-size=\"14.00\" fill=\"#000000\">class = STANDING</text>\n</g>\n<!-- 47&#45;&gt;49 -->\n<g id=\"edge49\" class=\"edge\">\n<title>47&#45;&gt;49</title>\n<path fill=\"none\" stroke=\"#000000\" d=\"M3028.845,-103.9815C3047.1656,-93.8186 3066.7053,-82.9794 3084.7994,-72.9421\"/>\n<polygon fill=\"#000000\" stroke=\"#000000\" points=\"3086.5073,-75.9972 3093.5542,-68.0856 3083.1117,-69.8759 3086.5073,-75.9972\"/>\n</g>\n<!-- 51 -->\n<g id=\"node52\" class=\"node\">\n<title>51</title>\n<polygon fill=\"#8139e5\" stroke=\"#000000\" points=\"3237,-179.5 3075,-179.5 3075,-111.5 3237,-111.5 3237,-179.5\"/>\n<text text-anchor=\"middle\" x=\"3156\" y=\"-164.3\" font-family=\"Helvetica,sans-Serif\" font-size=\"14.00\" fill=\"#000000\">gini = 0.0</text>\n<text text-anchor=\"middle\" x=\"3156\" y=\"-149.3\" font-family=\"Helvetica,sans-Serif\" font-size=\"14.00\" fill=\"#000000\">samples = 6</text>\n<text text-anchor=\"middle\" x=\"3156\" y=\"-134.3\" font-family=\"Helvetica,sans-Serif\" font-size=\"14.00\" fill=\"#000000\">value = [0, 0, 0, 0, 6, 0]</text>\n<text text-anchor=\"middle\" x=\"3156\" y=\"-119.3\" font-family=\"Helvetica,sans-Serif\" font-size=\"14.00\" fill=\"#000000\">class = STANDING</text>\n</g>\n<!-- 50&#45;&gt;51 -->\n<g id=\"edge51\" class=\"edge\">\n<title>50&#45;&gt;51</title>\n<path fill=\"none\" stroke=\"#000000\" d=\"M3156,-222.8796C3156,-212.2134 3156,-200.7021 3156,-189.9015\"/>\n<polygon fill=\"#000000\" stroke=\"#000000\" points=\"3159.5001,-189.8149 3156,-179.8149 3152.5001,-189.815 3159.5001,-189.8149\"/>\n</g>\n<!-- 52 -->\n<g id=\"node53\" class=\"node\">\n<title>52</title>\n<polygon fill=\"#399de5\" stroke=\"#000000\" points=\"3425,-179.5 3255,-179.5 3255,-111.5 3425,-111.5 3425,-179.5\"/>\n<text text-anchor=\"middle\" x=\"3340\" y=\"-164.3\" font-family=\"Helvetica,sans-Serif\" font-size=\"14.00\" fill=\"#000000\">gini = 0.0</text>\n<text text-anchor=\"middle\" x=\"3340\" y=\"-149.3\" font-family=\"Helvetica,sans-Serif\" font-size=\"14.00\" fill=\"#000000\">samples = 12</text>\n<text text-anchor=\"middle\" x=\"3340\" y=\"-134.3\" font-family=\"Helvetica,sans-Serif\" font-size=\"14.00\" fill=\"#000000\">value = [0, 0, 0, 12, 0, 0]</text>\n<text text-anchor=\"middle\" x=\"3340\" y=\"-119.3\" font-family=\"Helvetica,sans-Serif\" font-size=\"14.00\" fill=\"#000000\">class = SITTING</text>\n</g>\n<!-- 50&#45;&gt;52 -->\n<g id=\"edge52\" class=\"edge\">\n<title>50&#45;&gt;52</title>\n<path fill=\"none\" stroke=\"#000000\" d=\"M3220.3543,-222.8796C3239.3167,-210.6158 3260.0066,-197.2348 3278.7674,-185.1015\"/>\n<polygon fill=\"#000000\" stroke=\"#000000\" points=\"3280.7421,-187.9926 3287.2383,-179.623 3276.9407,-182.1148 3280.7421,-187.9926\"/>\n</g>\n<!-- 54 -->\n<g id=\"node55\" class=\"node\">\n<title>54</title>\n<polygon fill=\"#9c64eb\" stroke=\"#000000\" points=\"3588.5,-425 3307.5,-425 3307.5,-342 3588.5,-342 3588.5,-425\"/>\n<text text-anchor=\"middle\" x=\"3448\" y=\"-409.8\" font-family=\"Helvetica,sans-Serif\" font-size=\"14.00\" fill=\"#000000\">fBodyAccJerk&#45;bandsEnergy()&#45;1,8 &lt;= &#45;1.0</text>\n<text text-anchor=\"middle\" x=\"3448\" y=\"-394.8\" font-family=\"Helvetica,sans-Serif\" font-size=\"14.00\" fill=\"#000000\">gini = 0.293</text>\n<text text-anchor=\"middle\" x=\"3448\" y=\"-379.8\" font-family=\"Helvetica,sans-Serif\" font-size=\"14.00\" fill=\"#000000\">samples = 28</text>\n<text text-anchor=\"middle\" x=\"3448\" y=\"-364.8\" font-family=\"Helvetica,sans-Serif\" font-size=\"14.00\" fill=\"#000000\">value = [0, 0, 0, 5, 23, 0]</text>\n<text text-anchor=\"middle\" x=\"3448\" y=\"-349.8\" font-family=\"Helvetica,sans-Serif\" font-size=\"14.00\" fill=\"#000000\">class = STANDING</text>\n</g>\n<!-- 53&#45;&gt;54 -->\n<g id=\"edge54\" class=\"edge\">\n<title>53&#45;&gt;54</title>\n<path fill=\"none\" stroke=\"#000000\" d=\"M3448,-460.8796C3448,-452.6838 3448,-443.9891 3448,-435.5013\"/>\n<polygon fill=\"#000000\" stroke=\"#000000\" points=\"3451.5001,-435.298 3448,-425.2981 3444.5001,-435.2981 3451.5001,-435.298\"/>\n</g>\n<!-- 57 -->\n<g id=\"node58\" class=\"node\">\n<title>57</title>\n<polygon fill=\"#6ab6ec\" stroke=\"#000000\" points=\"3928,-425 3612,-425 3612,-342 3928,-342 3928,-425\"/>\n<text text-anchor=\"middle\" x=\"3770\" y=\"-409.8\" font-family=\"Helvetica,sans-Serif\" font-size=\"14.00\" fill=\"#000000\">angle(tBodyGyroMean,gravityMean) &lt;= &#45;0.449</text>\n<text text-anchor=\"middle\" x=\"3770\" y=\"-394.8\" font-family=\"Helvetica,sans-Serif\" font-size=\"14.00\" fill=\"#000000\">gini = 0.32</text>\n<text text-anchor=\"middle\" x=\"3770\" y=\"-379.8\" font-family=\"Helvetica,sans-Serif\" font-size=\"14.00\" fill=\"#000000\">samples = 35</text>\n<text text-anchor=\"middle\" x=\"3770\" y=\"-364.8\" font-family=\"Helvetica,sans-Serif\" font-size=\"14.00\" fill=\"#000000\">value = [0, 0, 0, 28, 7, 0]</text>\n<text text-anchor=\"middle\" x=\"3770\" y=\"-349.8\" font-family=\"Helvetica,sans-Serif\" font-size=\"14.00\" fill=\"#000000\">class = SITTING</text>\n</g>\n<!-- 53&#45;&gt;57 -->\n<g id=\"edge57\" class=\"edge\">\n<title>53&#45;&gt;57</title>\n<path fill=\"none\" stroke=\"#000000\" d=\"M3551.6553,-464.1926C3582.3121,-452.8629 3616.1599,-440.3539 3647.8684,-428.6356\"/>\n<polygon fill=\"#000000\" stroke=\"#000000\" points=\"3649.4677,-431.776 3657.6343,-425.0264 3647.0411,-425.21 3649.4677,-431.776\"/>\n</g>\n<!-- 55 -->\n<g id=\"node56\" class=\"node\">\n<title>55</title>\n<polygon fill=\"#8139e5\" stroke=\"#000000\" points=\"3491,-298.5 3321,-298.5 3321,-230.5 3491,-230.5 3491,-298.5\"/>\n<text text-anchor=\"middle\" x=\"3406\" y=\"-283.3\" font-family=\"Helvetica,sans-Serif\" font-size=\"14.00\" fill=\"#000000\">gini = 0.0</text>\n<text text-anchor=\"middle\" x=\"3406\" y=\"-268.3\" font-family=\"Helvetica,sans-Serif\" font-size=\"14.00\" fill=\"#000000\">samples = 23</text>\n<text text-anchor=\"middle\" x=\"3406\" y=\"-253.3\" font-family=\"Helvetica,sans-Serif\" font-size=\"14.00\" fill=\"#000000\">value = [0, 0, 0, 0, 23, 0]</text>\n<text text-anchor=\"middle\" x=\"3406\" y=\"-238.3\" font-family=\"Helvetica,sans-Serif\" font-size=\"14.00\" fill=\"#000000\">class = STANDING</text>\n</g>\n<!-- 54&#45;&gt;55 -->\n<g id=\"edge55\" class=\"edge\">\n<title>54&#45;&gt;55</title>\n<path fill=\"none\" stroke=\"#000000\" d=\"M3433.3104,-341.8796C3429.5071,-331.1034 3425.3993,-319.4647 3421.5533,-308.5677\"/>\n<polygon fill=\"#000000\" stroke=\"#000000\" points=\"3424.7399,-307.08 3418.1112,-298.8149 3418.139,-309.4097 3424.7399,-307.08\"/>\n</g>\n<!-- 56 -->\n<g id=\"node57\" class=\"node\">\n<title>56</title>\n<polygon fill=\"#399de5\" stroke=\"#000000\" points=\"3671,-298.5 3509,-298.5 3509,-230.5 3671,-230.5 3671,-298.5\"/>\n<text text-anchor=\"middle\" x=\"3590\" y=\"-283.3\" font-family=\"Helvetica,sans-Serif\" font-size=\"14.00\" fill=\"#000000\">gini = 0.0</text>\n<text text-anchor=\"middle\" x=\"3590\" y=\"-268.3\" font-family=\"Helvetica,sans-Serif\" font-size=\"14.00\" fill=\"#000000\">samples = 5</text>\n<text text-anchor=\"middle\" x=\"3590\" y=\"-253.3\" font-family=\"Helvetica,sans-Serif\" font-size=\"14.00\" fill=\"#000000\">value = [0, 0, 0, 5, 0, 0]</text>\n<text text-anchor=\"middle\" x=\"3590\" y=\"-238.3\" font-family=\"Helvetica,sans-Serif\" font-size=\"14.00\" fill=\"#000000\">class = SITTING</text>\n</g>\n<!-- 54&#45;&gt;56 -->\n<g id=\"edge56\" class=\"edge\">\n<title>54&#45;&gt;56</title>\n<path fill=\"none\" stroke=\"#000000\" d=\"M3497.6647,-341.8796C3511.8358,-330.0038 3527.257,-317.0804 3541.3658,-305.2568\"/>\n<polygon fill=\"#000000\" stroke=\"#000000\" points=\"3543.6363,-307.9206 3549.0528,-298.8149 3539.1402,-302.5554 3543.6363,-307.9206\"/>\n</g>\n<!-- 58 -->\n<g id=\"node59\" class=\"node\">\n<title>58</title>\n<polygon fill=\"#8139e5\" stroke=\"#000000\" points=\"3851,-298.5 3689,-298.5 3689,-230.5 3851,-230.5 3851,-298.5\"/>\n<text text-anchor=\"middle\" x=\"3770\" y=\"-283.3\" font-family=\"Helvetica,sans-Serif\" font-size=\"14.00\" fill=\"#000000\">gini = 0.0</text>\n<text text-anchor=\"middle\" x=\"3770\" y=\"-268.3\" font-family=\"Helvetica,sans-Serif\" font-size=\"14.00\" fill=\"#000000\">samples = 5</text>\n<text text-anchor=\"middle\" x=\"3770\" y=\"-253.3\" font-family=\"Helvetica,sans-Serif\" font-size=\"14.00\" fill=\"#000000\">value = [0, 0, 0, 0, 5, 0]</text>\n<text text-anchor=\"middle\" x=\"3770\" y=\"-238.3\" font-family=\"Helvetica,sans-Serif\" font-size=\"14.00\" fill=\"#000000\">class = STANDING</text>\n</g>\n<!-- 57&#45;&gt;58 -->\n<g id=\"edge58\" class=\"edge\">\n<title>57&#45;&gt;58</title>\n<path fill=\"none\" stroke=\"#000000\" d=\"M3770,-341.8796C3770,-331.2134 3770,-319.7021 3770,-308.9015\"/>\n<polygon fill=\"#000000\" stroke=\"#000000\" points=\"3773.5001,-308.8149 3770,-298.8149 3766.5001,-308.815 3773.5001,-308.8149\"/>\n</g>\n<!-- 59 -->\n<g id=\"node60\" class=\"node\">\n<title>59</title>\n<polygon fill=\"#47a4e7\" stroke=\"#000000\" points=\"4145,-306 3869,-306 3869,-223 4145,-223 4145,-306\"/>\n<text text-anchor=\"middle\" x=\"4007\" y=\"-290.8\" font-family=\"Helvetica,sans-Serif\" font-size=\"14.00\" fill=\"#000000\">tBodyGyroJerkMag&#45;arCoeff()3 &lt;= &#45;0.209</text>\n<text text-anchor=\"middle\" x=\"4007\" y=\"-275.8\" font-family=\"Helvetica,sans-Serif\" font-size=\"14.00\" fill=\"#000000\">gini = 0.124</text>\n<text text-anchor=\"middle\" x=\"4007\" y=\"-260.8\" font-family=\"Helvetica,sans-Serif\" font-size=\"14.00\" fill=\"#000000\">samples = 30</text>\n<text text-anchor=\"middle\" x=\"4007\" y=\"-245.8\" font-family=\"Helvetica,sans-Serif\" font-size=\"14.00\" fill=\"#000000\">value = [0, 0, 0, 28, 2, 0]</text>\n<text text-anchor=\"middle\" x=\"4007\" y=\"-230.8\" font-family=\"Helvetica,sans-Serif\" font-size=\"14.00\" fill=\"#000000\">class = SITTING</text>\n</g>\n<!-- 57&#45;&gt;59 -->\n<g id=\"edge59\" class=\"edge\">\n<title>57&#45;&gt;59</title>\n<path fill=\"none\" stroke=\"#000000\" d=\"M3852.8911,-341.8796C3873.0071,-331.7791 3894.6323,-320.9209 3915.1356,-310.626\"/>\n<polygon fill=\"#000000\" stroke=\"#000000\" points=\"3916.7895,-313.712 3924.1557,-306.0969 3913.6484,-307.4563 3916.7895,-313.712\"/>\n</g>\n<!-- 60 -->\n<g id=\"node61\" class=\"node\">\n<title>60</title>\n<polygon fill=\"#c09cf2\" stroke=\"#000000\" points=\"3904,-179.5 3742,-179.5 3742,-111.5 3904,-111.5 3904,-179.5\"/>\n<text text-anchor=\"middle\" x=\"3823\" y=\"-164.3\" font-family=\"Helvetica,sans-Serif\" font-size=\"14.00\" fill=\"#000000\">gini = 0.444</text>\n<text text-anchor=\"middle\" x=\"3823\" y=\"-149.3\" font-family=\"Helvetica,sans-Serif\" font-size=\"14.00\" fill=\"#000000\">samples = 3</text>\n<text text-anchor=\"middle\" x=\"3823\" y=\"-134.3\" font-family=\"Helvetica,sans-Serif\" font-size=\"14.00\" fill=\"#000000\">value = [0, 0, 0, 1, 2, 0]</text>\n<text text-anchor=\"middle\" x=\"3823\" y=\"-119.3\" font-family=\"Helvetica,sans-Serif\" font-size=\"14.00\" fill=\"#000000\">class = STANDING</text>\n</g>\n<!-- 59&#45;&gt;60 -->\n<g id=\"edge60\" class=\"edge\">\n<title>59&#45;&gt;60</title>\n<path fill=\"none\" stroke=\"#000000\" d=\"M3942.6457,-222.8796C3923.6833,-210.6158 3902.9934,-197.2348 3884.2326,-185.1015\"/>\n<polygon fill=\"#000000\" stroke=\"#000000\" points=\"3886.0593,-182.1148 3875.7617,-179.623 3882.2579,-187.9926 3886.0593,-182.1148\"/>\n</g>\n<!-- 61 -->\n<g id=\"node62\" class=\"node\">\n<title>61</title>\n<polygon fill=\"#399de5\" stroke=\"#000000\" points=\"4092,-179.5 3922,-179.5 3922,-111.5 4092,-111.5 4092,-179.5\"/>\n<text text-anchor=\"middle\" x=\"4007\" y=\"-164.3\" font-family=\"Helvetica,sans-Serif\" font-size=\"14.00\" fill=\"#000000\">gini = 0.0</text>\n<text text-anchor=\"middle\" x=\"4007\" y=\"-149.3\" font-family=\"Helvetica,sans-Serif\" font-size=\"14.00\" fill=\"#000000\">samples = 27</text>\n<text text-anchor=\"middle\" x=\"4007\" y=\"-134.3\" font-family=\"Helvetica,sans-Serif\" font-size=\"14.00\" fill=\"#000000\">value = [0, 0, 0, 27, 0, 0]</text>\n<text text-anchor=\"middle\" x=\"4007\" y=\"-119.3\" font-family=\"Helvetica,sans-Serif\" font-size=\"14.00\" fill=\"#000000\">class = SITTING</text>\n</g>\n<!-- 59&#45;&gt;61 -->\n<g id=\"edge61\" class=\"edge\">\n<title>59&#45;&gt;61</title>\n<path fill=\"none\" stroke=\"#000000\" d=\"M4007,-222.8796C4007,-212.2134 4007,-200.7021 4007,-189.9015\"/>\n<polygon fill=\"#000000\" stroke=\"#000000\" points=\"4010.5001,-189.8149 4007,-179.8149 4003.5001,-189.815 4010.5001,-189.8149\"/>\n</g>\n<!-- 63 -->\n<g id=\"node64\" class=\"node\">\n<title>63</title>\n<polygon fill=\"#fbebdf\" stroke=\"#000000\" points=\"6210,-663 5972,-663 5972,-580 6210,-580 6210,-663\"/>\n<text text-anchor=\"middle\" x=\"6091\" y=\"-647.8\" font-family=\"Helvetica,sans-Serif\" font-size=\"14.00\" fill=\"#000000\">tGravityAcc&#45;arCoeff()&#45;Z,2 &lt;= 0.564</text>\n<text text-anchor=\"middle\" x=\"6091\" y=\"-632.8\" font-family=\"Helvetica,sans-Serif\" font-size=\"14.00\" fill=\"#000000\">gini = 0.56</text>\n<text text-anchor=\"middle\" x=\"6091\" y=\"-617.8\" font-family=\"Helvetica,sans-Serif\" font-size=\"14.00\" fill=\"#000000\">samples = 2364</text>\n<text text-anchor=\"middle\" x=\"6091\" y=\"-602.8\" font-family=\"Helvetica,sans-Serif\" font-size=\"14.00\" fill=\"#000000\">value = [1207, 987, 170, 0, 0, 0]</text>\n<text text-anchor=\"middle\" x=\"6091\" y=\"-587.8\" font-family=\"Helvetica,sans-Serif\" font-size=\"14.00\" fill=\"#000000\">class = WALKING</text>\n</g>\n<!-- 62&#45;&gt;63 -->\n<g id=\"edge63\" class=\"edge\">\n<title>62&#45;&gt;63</title>\n<path fill=\"none\" stroke=\"#000000\" d=\"M6091,-698.8796C6091,-690.6838 6091,-681.9891 6091,-673.5013\"/>\n<polygon fill=\"#000000\" stroke=\"#000000\" points=\"6094.5001,-673.298 6091,-663.2981 6087.5001,-673.2981 6094.5001,-673.298\"/>\n</g>\n<!-- 112 -->\n<g id=\"node113\" class=\"node\">\n<title>112</title>\n<polygon fill=\"#52e891\" stroke=\"#000000\" points=\"8713.5,-663 8460.5,-663 8460.5,-580 8713.5,-580 8713.5,-663\"/>\n<text text-anchor=\"middle\" x=\"8587\" y=\"-647.8\" font-family=\"Helvetica,sans-Serif\" font-size=\"14.00\" fill=\"#000000\">tBodyGyro&#45;correlation()&#45;Y,Z &lt;= 0.276</text>\n<text text-anchor=\"middle\" x=\"8587\" y=\"-632.8\" font-family=\"Helvetica,sans-Serif\" font-size=\"14.00\" fill=\"#000000\">gini = 0.206</text>\n<text text-anchor=\"middle\" x=\"8587\" y=\"-617.8\" font-family=\"Helvetica,sans-Serif\" font-size=\"14.00\" fill=\"#000000\">samples = 921</text>\n<text text-anchor=\"middle\" x=\"8587\" y=\"-602.8\" font-family=\"Helvetica,sans-Serif\" font-size=\"14.00\" fill=\"#000000\">value = [19, 86, 816, 0, 0, 0]</text>\n<text text-anchor=\"middle\" x=\"8587\" y=\"-587.8\" font-family=\"Helvetica,sans-Serif\" font-size=\"14.00\" fill=\"#000000\">class = WALKING_DOWNSTAIRS</text>\n</g>\n<!-- 62&#45;&gt;112 -->\n<g id=\"edge112\" class=\"edge\">\n<title>62&#45;&gt;112</title>\n<path fill=\"none\" stroke=\"#000000\" d=\"M6206.7949,-734.9793C6618.0485,-715.3723 8007.3301,-649.1365 8450.1721,-628.0234\"/>\n<polygon fill=\"#000000\" stroke=\"#000000\" points=\"8450.634,-631.5055 8460.4559,-627.5332 8450.3006,-624.5134 8450.634,-631.5055\"/>\n</g>\n<!-- 64 -->\n<g id=\"node65\" class=\"node\">\n<title>64</title>\n<polygon fill=\"#eb9d66\" stroke=\"#000000\" points=\"5852.5,-544 5627.5,-544 5627.5,-461 5852.5,-461 5852.5,-544\"/>\n<text text-anchor=\"middle\" x=\"5740\" y=\"-528.8\" font-family=\"Helvetica,sans-Serif\" font-size=\"14.00\" fill=\"#000000\">fBodyGyro&#45;maxInds&#45;X &lt;= &#45;0.967</text>\n<text text-anchor=\"middle\" x=\"5740\" y=\"-513.8\" font-family=\"Helvetica,sans-Serif\" font-size=\"14.00\" fill=\"#000000\">gini = 0.343</text>\n<text text-anchor=\"middle\" x=\"5740\" y=\"-498.8\" font-family=\"Helvetica,sans-Serif\" font-size=\"14.00\" fill=\"#000000\">samples = 1367</text>\n<text text-anchor=\"middle\" x=\"5740\" y=\"-483.8\" font-family=\"Helvetica,sans-Serif\" font-size=\"14.00\" fill=\"#000000\">value = [1091, 143, 133, 0, 0, 0]</text>\n<text text-anchor=\"middle\" x=\"5740\" y=\"-468.8\" font-family=\"Helvetica,sans-Serif\" font-size=\"14.00\" fill=\"#000000\">class = WALKING</text>\n</g>\n<!-- 63&#45;&gt;64 -->\n<g id=\"edge64\" class=\"edge\">\n<title>63&#45;&gt;64</title>\n<path fill=\"none\" stroke=\"#000000\" d=\"M5971.6776,-581.046C5936.5261,-569.1285 5898.0132,-556.0714 5862.6562,-544.0843\"/>\n<polygon fill=\"#000000\" stroke=\"#000000\" points=\"5863.3672,-540.6297 5852.7728,-540.7335 5861.1195,-547.2591 5863.3672,-540.6297\"/>\n</g>\n<!-- 91 -->\n<g id=\"node92\" class=\"node\">\n<title>91</title>\n<polygon fill=\"#aeea5b\" stroke=\"#000000\" points=\"6875,-544 6663,-544 6663,-461 6875,-461 6875,-544\"/>\n<text text-anchor=\"middle\" x=\"6769\" y=\"-528.8\" font-family=\"Helvetica,sans-Serif\" font-size=\"14.00\" fill=\"#000000\">tGravityAcc&#45;min()&#45;X &lt;= 0.956</text>\n<text text-anchor=\"middle\" x=\"6769\" y=\"-513.8\" font-family=\"Helvetica,sans-Serif\" font-size=\"14.00\" fill=\"#000000\">gini = 0.268</text>\n<text text-anchor=\"middle\" x=\"6769\" y=\"-498.8\" font-family=\"Helvetica,sans-Serif\" font-size=\"14.00\" fill=\"#000000\">samples = 997</text>\n<text text-anchor=\"middle\" x=\"6769\" y=\"-483.8\" font-family=\"Helvetica,sans-Serif\" font-size=\"14.00\" fill=\"#000000\">value = [116, 844, 37, 0, 0, 0]</text>\n<text text-anchor=\"middle\" x=\"6769\" y=\"-468.8\" font-family=\"Helvetica,sans-Serif\" font-size=\"14.00\" fill=\"#000000\">class = WALKING_UPSTAIRS</text>\n</g>\n<!-- 63&#45;&gt;91 -->\n<g id=\"edge91\" class=\"edge\">\n<title>63&#45;&gt;91</title>\n<path fill=\"none\" stroke=\"#000000\" d=\"M6210.263,-600.5674C6335.0289,-578.669 6529.5704,-544.5238 6653.0744,-522.8468\"/>\n<polygon fill=\"#000000\" stroke=\"#000000\" points=\"6653.7048,-526.2898 6662.9492,-521.1136 6652.4947,-519.3952 6653.7048,-526.2898\"/>\n</g>\n<!-- 65 -->\n<g id=\"node66\" class=\"node\">\n<title>65</title>\n<polygon fill=\"#f6fded\" stroke=\"#000000\" points=\"4964,-425 4752,-425 4752,-342 4964,-342 4964,-425\"/>\n<text text-anchor=\"middle\" x=\"4858\" y=\"-409.8\" font-family=\"Helvetica,sans-Serif\" font-size=\"14.00\" fill=\"#000000\">fBodyAcc&#45;max()&#45;Y &lt;= &#45;0.298</text>\n<text text-anchor=\"middle\" x=\"4858\" y=\"-394.8\" font-family=\"Helvetica,sans-Serif\" font-size=\"14.00\" fill=\"#000000\">gini = 0.57</text>\n<text text-anchor=\"middle\" x=\"4858\" y=\"-379.8\" font-family=\"Helvetica,sans-Serif\" font-size=\"14.00\" fill=\"#000000\">samples = 159</text>\n<text text-anchor=\"middle\" x=\"4858\" y=\"-364.8\" font-family=\"Helvetica,sans-Serif\" font-size=\"14.00\" fill=\"#000000\">value = [13, 77, 69, 0, 0, 0]</text>\n<text text-anchor=\"middle\" x=\"4858\" y=\"-349.8\" font-family=\"Helvetica,sans-Serif\" font-size=\"14.00\" fill=\"#000000\">class = WALKING_UPSTAIRS</text>\n</g>\n<!-- 64&#45;&gt;65 -->\n<g id=\"edge65\" class=\"edge\">\n<title>64&#45;&gt;65</title>\n<path fill=\"none\" stroke=\"#000000\" d=\"M5627.3982,-487.3077C5459.2653,-464.6231 5144.21,-422.1156 4974.0778,-399.1613\"/>\n<polygon fill=\"#000000\" stroke=\"#000000\" points=\"4974.4636,-395.6817 4964.0853,-397.8131 4973.5275,-402.6189 4974.4636,-395.6817\"/>\n</g>\n<!-- 76 -->\n<g id=\"node77\" class=\"node\">\n<title>76</title>\n<polygon fill=\"#e88f50\" stroke=\"#000000\" points=\"5867,-425 5613,-425 5613,-342 5867,-342 5867,-425\"/>\n<text text-anchor=\"middle\" x=\"5740\" y=\"-409.8\" font-family=\"Helvetica,sans-Serif\" font-size=\"14.00\" fill=\"#000000\">tGravityAccMag&#45;arCoeff()1 &lt;= &#45;0.343</text>\n<text text-anchor=\"middle\" x=\"5740\" y=\"-394.8\" font-family=\"Helvetica,sans-Serif\" font-size=\"14.00\" fill=\"#000000\">gini = 0.198</text>\n<text text-anchor=\"middle\" x=\"5740\" y=\"-379.8\" font-family=\"Helvetica,sans-Serif\" font-size=\"14.00\" fill=\"#000000\">samples = 1208</text>\n<text text-anchor=\"middle\" x=\"5740\" y=\"-364.8\" font-family=\"Helvetica,sans-Serif\" font-size=\"14.00\" fill=\"#000000\">value = [1078, 66, 64, 0, 0, 0]</text>\n<text text-anchor=\"middle\" x=\"5740\" y=\"-349.8\" font-family=\"Helvetica,sans-Serif\" font-size=\"14.00\" fill=\"#000000\">class = WALKING</text>\n</g>\n<!-- 64&#45;&gt;76 -->\n<g id=\"edge76\" class=\"edge\">\n<title>64&#45;&gt;76</title>\n<path fill=\"none\" stroke=\"#000000\" d=\"M5740,-460.8796C5740,-452.6838 5740,-443.9891 5740,-435.5013\"/>\n<polygon fill=\"#000000\" stroke=\"#000000\" points=\"5743.5001,-435.298 5740,-425.2981 5736.5001,-435.2981 5743.5001,-435.298\"/>\n</g>\n<!-- 66 -->\n<g id=\"node67\" class=\"node\">\n<title>66</title>\n<polygon fill=\"#68eb9f\" stroke=\"#000000\" points=\"4577.5,-306 4324.5,-306 4324.5,-223 4577.5,-223 4577.5,-306\"/>\n<text text-anchor=\"middle\" x=\"4451\" y=\"-290.8\" font-family=\"Helvetica,sans-Serif\" font-size=\"14.00\" fill=\"#000000\">tBodyAcc&#45;correlation()&#45;X,Y &lt;= &#45;0.219</text>\n<text text-anchor=\"middle\" x=\"4451\" y=\"-275.8\" font-family=\"Helvetica,sans-Serif\" font-size=\"14.00\" fill=\"#000000\">gini = 0.338</text>\n<text text-anchor=\"middle\" x=\"4451\" y=\"-260.8\" font-family=\"Helvetica,sans-Serif\" font-size=\"14.00\" fill=\"#000000\">samples = 79</text>\n<text text-anchor=\"middle\" x=\"4451\" y=\"-245.8\" font-family=\"Helvetica,sans-Serif\" font-size=\"14.00\" fill=\"#000000\">value = [12, 4, 63, 0, 0, 0]</text>\n<text text-anchor=\"middle\" x=\"4451\" y=\"-230.8\" font-family=\"Helvetica,sans-Serif\" font-size=\"14.00\" fill=\"#000000\">class = WALKING_DOWNSTAIRS</text>\n</g>\n<!-- 65&#45;&gt;66 -->\n<g id=\"edge66\" class=\"edge\">\n<title>65&#45;&gt;66</title>\n<path fill=\"none\" stroke=\"#000000\" d=\"M4751.8627,-352.4672C4701.6409,-337.7832 4641.0682,-320.0728 4587.4767,-304.4035\"/>\n<polygon fill=\"#000000\" stroke=\"#000000\" points=\"4588.1357,-300.9497 4577.5553,-301.5027 4586.1712,-307.6684 4588.1357,-300.9497\"/>\n</g>\n<!-- 71 -->\n<g id=\"node72\" class=\"node\">\n<title>71</title>\n<polygon fill=\"#a6e74c\" stroke=\"#000000\" points=\"4964,-306 4752,-306 4752,-223 4964,-223 4964,-306\"/>\n<text text-anchor=\"middle\" x=\"4858\" y=\"-290.8\" font-family=\"Helvetica,sans-Serif\" font-size=\"14.00\" fill=\"#000000\">tGravityAcc&#45;max()&#45;X &lt;= 0.89</text>\n<text text-anchor=\"middle\" x=\"4858\" y=\"-275.8\" font-family=\"Helvetica,sans-Serif\" font-size=\"14.00\" fill=\"#000000\">gini = 0.162</text>\n<text text-anchor=\"middle\" x=\"4858\" y=\"-260.8\" font-family=\"Helvetica,sans-Serif\" font-size=\"14.00\" fill=\"#000000\">samples = 80</text>\n<text text-anchor=\"middle\" x=\"4858\" y=\"-245.8\" font-family=\"Helvetica,sans-Serif\" font-size=\"14.00\" fill=\"#000000\">value = [1, 73, 6, 0, 0, 0]</text>\n<text text-anchor=\"middle\" x=\"4858\" y=\"-230.8\" font-family=\"Helvetica,sans-Serif\" font-size=\"14.00\" fill=\"#000000\">class = WALKING_UPSTAIRS</text>\n</g>\n<!-- 65&#45;&gt;71 -->\n<g id=\"edge71\" class=\"edge\">\n<title>65&#45;&gt;71</title>\n<path fill=\"none\" stroke=\"#000000\" d=\"M4858,-341.8796C4858,-333.6838 4858,-324.9891 4858,-316.5013\"/>\n<polygon fill=\"#000000\" stroke=\"#000000\" points=\"4861.5001,-316.298 4858,-306.2981 4854.5001,-316.2981 4861.5001,-316.298\"/>\n</g>\n<!-- 67 -->\n<g id=\"node68\" class=\"node\">\n<title>67</title>\n<polygon fill=\"#43e687\" stroke=\"#000000\" points=\"4348,-187 4110,-187 4110,-104 4348,-104 4348,-187\"/>\n<text text-anchor=\"middle\" x=\"4229\" y=\"-171.8\" font-family=\"Helvetica,sans-Serif\" font-size=\"14.00\" fill=\"#000000\">angle(X,gravityMean) &lt;= &#45;0.651</text>\n<text text-anchor=\"middle\" x=\"4229\" y=\"-156.8\" font-family=\"Helvetica,sans-Serif\" font-size=\"14.00\" fill=\"#000000\">gini = 0.088</text>\n<text text-anchor=\"middle\" x=\"4229\" y=\"-141.8\" font-family=\"Helvetica,sans-Serif\" font-size=\"14.00\" fill=\"#000000\">samples = 65</text>\n<text text-anchor=\"middle\" x=\"4229\" y=\"-126.8\" font-family=\"Helvetica,sans-Serif\" font-size=\"14.00\" fill=\"#000000\">value = [0, 3, 62, 0, 0, 0]</text>\n<text text-anchor=\"middle\" x=\"4229\" y=\"-111.8\" font-family=\"Helvetica,sans-Serif\" font-size=\"14.00\" fill=\"#000000\">class = WALKING_DOWNSTAIRS</text>\n</g>\n<!-- 66&#45;&gt;67 -->\n<g id=\"edge67\" class=\"edge\">\n<title>66&#45;&gt;67</title>\n<path fill=\"none\" stroke=\"#000000\" d=\"M4373.3552,-222.8796C4354.6814,-212.8697 4334.6191,-202.1156 4315.5672,-191.9031\"/>\n<polygon fill=\"#000000\" stroke=\"#000000\" points=\"4317.0682,-188.7366 4306.601,-187.0969 4313.7611,-194.9062 4317.0682,-188.7366\"/>\n</g>\n<!-- 70 -->\n<g id=\"node71\" class=\"node\">\n<title>70</title>\n<polygon fill=\"#e99457\" stroke=\"#000000\" points=\"4536,-179.5 4366,-179.5 4366,-111.5 4536,-111.5 4536,-179.5\"/>\n<text text-anchor=\"middle\" x=\"4451\" y=\"-164.3\" font-family=\"Helvetica,sans-Serif\" font-size=\"14.00\" fill=\"#000000\">gini = 0.255</text>\n<text text-anchor=\"middle\" x=\"4451\" y=\"-149.3\" font-family=\"Helvetica,sans-Serif\" font-size=\"14.00\" fill=\"#000000\">samples = 14</text>\n<text text-anchor=\"middle\" x=\"4451\" y=\"-134.3\" font-family=\"Helvetica,sans-Serif\" font-size=\"14.00\" fill=\"#000000\">value = [12, 1, 1, 0, 0, 0]</text>\n<text text-anchor=\"middle\" x=\"4451\" y=\"-119.3\" font-family=\"Helvetica,sans-Serif\" font-size=\"14.00\" fill=\"#000000\">class = WALKING</text>\n</g>\n<!-- 66&#45;&gt;70 -->\n<g id=\"edge70\" class=\"edge\">\n<title>66&#45;&gt;70</title>\n<path fill=\"none\" stroke=\"#000000\" d=\"M4451,-222.8796C4451,-212.2134 4451,-200.7021 4451,-189.9015\"/>\n<polygon fill=\"#000000\" stroke=\"#000000\" points=\"4454.5001,-189.8149 4451,-179.8149 4447.5001,-189.815 4454.5001,-189.8149\"/>\n</g>\n<!-- 68 -->\n<g id=\"node69\" class=\"node\">\n<title>68</title>\n<polygon fill=\"#39e581\" stroke=\"#000000\" points=\"4110,-68 3872,-68 3872,0 4110,0 4110,-68\"/>\n<text text-anchor=\"middle\" x=\"3991\" y=\"-52.8\" font-family=\"Helvetica,sans-Serif\" font-size=\"14.00\" fill=\"#000000\">gini = 0.0</text>\n<text text-anchor=\"middle\" x=\"3991\" y=\"-37.8\" font-family=\"Helvetica,sans-Serif\" font-size=\"14.00\" fill=\"#000000\">samples = 62</text>\n<text text-anchor=\"middle\" x=\"3991\" y=\"-22.8\" font-family=\"Helvetica,sans-Serif\" font-size=\"14.00\" fill=\"#000000\">value = [0, 0, 62, 0, 0, 0]</text>\n<text text-anchor=\"middle\" x=\"3991\" y=\"-7.8\" font-family=\"Helvetica,sans-Serif\" font-size=\"14.00\" fill=\"#000000\">class = WALKING_DOWNSTAIRS</text>\n</g>\n<!-- 67&#45;&gt;68 -->\n<g id=\"edge68\" class=\"edge\">\n<title>67&#45;&gt;68</title>\n<path fill=\"none\" stroke=\"#000000\" d=\"M4140.3776,-103.9815C4118.2901,-93.6338 4094.7062,-82.585 4072.9562,-72.3954\"/>\n<polygon fill=\"#000000\" stroke=\"#000000\" points=\"4074.2971,-69.1586 4063.7568,-68.0856 4071.3274,-75.4975 4074.2971,-69.1586\"/>\n</g>\n<!-- 69 -->\n<g id=\"node70\" class=\"node\">\n<title>69</title>\n<polygon fill=\"#9de539\" stroke=\"#000000\" points=\"4340,-68 4128,-68 4128,0 4340,0 4340,-68\"/>\n<text text-anchor=\"middle\" x=\"4234\" y=\"-52.8\" font-family=\"Helvetica,sans-Serif\" font-size=\"14.00\" fill=\"#000000\">gini = 0.0</text>\n<text text-anchor=\"middle\" x=\"4234\" y=\"-37.8\" font-family=\"Helvetica,sans-Serif\" font-size=\"14.00\" fill=\"#000000\">samples = 3</text>\n<text text-anchor=\"middle\" x=\"4234\" y=\"-22.8\" font-family=\"Helvetica,sans-Serif\" font-size=\"14.00\" fill=\"#000000\">value = [0, 3, 0, 0, 0, 0]</text>\n<text text-anchor=\"middle\" x=\"4234\" y=\"-7.8\" font-family=\"Helvetica,sans-Serif\" font-size=\"14.00\" fill=\"#000000\">class = WALKING_UPSTAIRS</text>\n</g>\n<!-- 67&#45;&gt;69 -->\n<g id=\"edge69\" class=\"edge\">\n<title>67&#45;&gt;69</title>\n<path fill=\"none\" stroke=\"#000000\" d=\"M4230.8618,-103.9815C4231.2369,-95.618 4231.6324,-86.7965 4232.0116,-78.3409\"/>\n<polygon fill=\"#000000\" stroke=\"#000000\" points=\"4235.5119,-78.4105 4232.4635,-68.2637 4228.519,-78.0968 4235.5119,-78.4105\"/>\n</g>\n<!-- 72 -->\n<g id=\"node73\" class=\"node\">\n<title>72</title>\n<polygon fill=\"#a1e641\" stroke=\"#000000\" points=\"4868,-187 4554,-187 4554,-104 4868,-104 4868,-187\"/>\n<text text-anchor=\"middle\" x=\"4711\" y=\"-171.8\" font-family=\"Helvetica,sans-Serif\" font-size=\"14.00\" fill=\"#000000\">fBodyAccJerk&#45;bandsEnergy()&#45;17,24 &lt;= &#45;0.459</text>\n<text text-anchor=\"middle\" x=\"4711\" y=\"-156.8\" font-family=\"Helvetica,sans-Serif\" font-size=\"14.00\" fill=\"#000000\">gini = 0.077</text>\n<text text-anchor=\"middle\" x=\"4711\" y=\"-141.8\" font-family=\"Helvetica,sans-Serif\" font-size=\"14.00\" fill=\"#000000\">samples = 76</text>\n<text text-anchor=\"middle\" x=\"4711\" y=\"-126.8\" font-family=\"Helvetica,sans-Serif\" font-size=\"14.00\" fill=\"#000000\">value = [1, 73, 2, 0, 0, 0]</text>\n<text text-anchor=\"middle\" x=\"4711\" y=\"-111.8\" font-family=\"Helvetica,sans-Serif\" font-size=\"14.00\" fill=\"#000000\">class = WALKING_UPSTAIRS</text>\n</g>\n<!-- 71&#45;&gt;72 -->\n<g id=\"edge72\" class=\"edge\">\n<title>71&#45;&gt;72</title>\n<path fill=\"none\" stroke=\"#000000\" d=\"M4806.5865,-222.8796C4794.9048,-213.4229 4782.4025,-203.302 4770.419,-193.6011\"/>\n<polygon fill=\"#000000\" stroke=\"#000000\" points=\"4772.6076,-190.8697 4762.6329,-187.2981 4768.2032,-196.3105 4772.6076,-190.8697\"/>\n</g>\n<!-- 75 -->\n<g id=\"node76\" class=\"node\">\n<title>75</title>\n<polygon fill=\"#39e581\" stroke=\"#000000\" points=\"5124,-179.5 4886,-179.5 4886,-111.5 5124,-111.5 5124,-179.5\"/>\n<text text-anchor=\"middle\" x=\"5005\" y=\"-164.3\" font-family=\"Helvetica,sans-Serif\" font-size=\"14.00\" fill=\"#000000\">gini = 0.0</text>\n<text text-anchor=\"middle\" x=\"5005\" y=\"-149.3\" font-family=\"Helvetica,sans-Serif\" font-size=\"14.00\" fill=\"#000000\">samples = 4</text>\n<text text-anchor=\"middle\" x=\"5005\" y=\"-134.3\" font-family=\"Helvetica,sans-Serif\" font-size=\"14.00\" fill=\"#000000\">value = [0, 0, 4, 0, 0, 0]</text>\n<text text-anchor=\"middle\" x=\"5005\" y=\"-119.3\" font-family=\"Helvetica,sans-Serif\" font-size=\"14.00\" fill=\"#000000\">class = WALKING_DOWNSTAIRS</text>\n</g>\n<!-- 71&#45;&gt;75 -->\n<g id=\"edge75\" class=\"edge\">\n<title>71&#45;&gt;75</title>\n<path fill=\"none\" stroke=\"#000000\" d=\"M4909.4135,-222.8796C4924.0835,-211.0038 4940.0477,-198.0804 4954.6533,-186.2568\"/>\n<polygon fill=\"#000000\" stroke=\"#000000\" points=\"4957.0407,-188.8273 4962.611,-179.8149 4952.6363,-183.3866 4957.0407,-188.8273\"/>\n</g>\n<!-- 73 -->\n<g id=\"node74\" class=\"node\">\n<title>73</title>\n<polygon fill=\"#9ee53c\" stroke=\"#000000\" points=\"4574,-68 4362,-68 4362,0 4574,0 4574,-68\"/>\n<text text-anchor=\"middle\" x=\"4468\" y=\"-52.8\" font-family=\"Helvetica,sans-Serif\" font-size=\"14.00\" fill=\"#000000\">gini = 0.027</text>\n<text text-anchor=\"middle\" x=\"4468\" y=\"-37.8\" font-family=\"Helvetica,sans-Serif\" font-size=\"14.00\" fill=\"#000000\">samples = 74</text>\n<text text-anchor=\"middle\" x=\"4468\" y=\"-22.8\" font-family=\"Helvetica,sans-Serif\" font-size=\"14.00\" fill=\"#000000\">value = [1, 73, 0, 0, 0, 0]</text>\n<text text-anchor=\"middle\" x=\"4468\" y=\"-7.8\" font-family=\"Helvetica,sans-Serif\" font-size=\"14.00\" fill=\"#000000\">class = WALKING_UPSTAIRS</text>\n</g>\n<!-- 72&#45;&gt;73 -->\n<g id=\"edge73\" class=\"edge\">\n<title>72&#45;&gt;73</title>\n<path fill=\"none\" stroke=\"#000000\" d=\"M4620.5158,-103.9815C4597.8636,-93.5876 4573.6699,-82.4864 4551.3807,-72.259\"/>\n<polygon fill=\"#000000\" stroke=\"#000000\" points=\"4552.8338,-69.075 4542.2853,-68.0856 4549.9145,-75.4372 4552.8338,-69.075\"/>\n</g>\n<!-- 74 -->\n<g id=\"node75\" class=\"node\">\n<title>74</title>\n<polygon fill=\"#39e581\" stroke=\"#000000\" points=\"4830,-68 4592,-68 4592,0 4830,0 4830,-68\"/>\n<text text-anchor=\"middle\" x=\"4711\" y=\"-52.8\" font-family=\"Helvetica,sans-Serif\" font-size=\"14.00\" fill=\"#000000\">gini = 0.0</text>\n<text text-anchor=\"middle\" x=\"4711\" y=\"-37.8\" font-family=\"Helvetica,sans-Serif\" font-size=\"14.00\" fill=\"#000000\">samples = 2</text>\n<text text-anchor=\"middle\" x=\"4711\" y=\"-22.8\" font-family=\"Helvetica,sans-Serif\" font-size=\"14.00\" fill=\"#000000\">value = [0, 0, 2, 0, 0, 0]</text>\n<text text-anchor=\"middle\" x=\"4711\" y=\"-7.8\" font-family=\"Helvetica,sans-Serif\" font-size=\"14.00\" fill=\"#000000\">class = WALKING_DOWNSTAIRS</text>\n</g>\n<!-- 72&#45;&gt;74 -->\n<g id=\"edge74\" class=\"edge\">\n<title>72&#45;&gt;74</title>\n<path fill=\"none\" stroke=\"#000000\" d=\"M4711,-103.9815C4711,-95.618 4711,-86.7965 4711,-78.3409\"/>\n<polygon fill=\"#000000\" stroke=\"#000000\" points=\"4714.5001,-78.2636 4711,-68.2637 4707.5001,-78.2637 4714.5001,-78.2636\"/>\n</g>\n<!-- 77 -->\n<g id=\"node78\" class=\"node\">\n<title>77</title>\n<polygon fill=\"#d5fae4\" stroke=\"#000000\" points=\"5693,-306 5455,-306 5455,-223 5693,-223 5693,-306\"/>\n<text text-anchor=\"middle\" x=\"5574\" y=\"-290.8\" font-family=\"Helvetica,sans-Serif\" font-size=\"14.00\" fill=\"#000000\">tGravityAcc&#45;energy()&#45;Y &lt;= &#45;0.932</text>\n<text text-anchor=\"middle\" x=\"5574\" y=\"-275.8\" font-family=\"Helvetica,sans-Serif\" font-size=\"14.00\" fill=\"#000000\">gini = 0.606</text>\n<text text-anchor=\"middle\" x=\"5574\" y=\"-260.8\" font-family=\"Helvetica,sans-Serif\" font-size=\"14.00\" fill=\"#000000\">samples = 81</text>\n<text text-anchor=\"middle\" x=\"5574\" y=\"-245.8\" font-family=\"Helvetica,sans-Serif\" font-size=\"14.00\" fill=\"#000000\">value = [12, 29, 40, 0, 0, 0]</text>\n<text text-anchor=\"middle\" x=\"5574\" y=\"-230.8\" font-family=\"Helvetica,sans-Serif\" font-size=\"14.00\" fill=\"#000000\">class = WALKING_DOWNSTAIRS</text>\n</g>\n<!-- 76&#45;&gt;77 -->\n<g id=\"edge77\" class=\"edge\">\n<title>76&#45;&gt;77</title>\n<path fill=\"none\" stroke=\"#000000\" d=\"M5681.9413,-341.8796C5668.5466,-332.2774 5654.1965,-321.9903 5640.4745,-312.1534\"/>\n<polygon fill=\"#000000\" stroke=\"#000000\" points=\"5642.1926,-309.0786 5632.026,-306.0969 5638.1142,-314.7678 5642.1926,-309.0786\"/>\n</g>\n<!-- 84 -->\n<g id=\"node85\" class=\"node\">\n<title>84</title>\n<polygon fill=\"#e68844\" stroke=\"#000000\" points=\"6033.5,-306 5780.5,-306 5780.5,-223 6033.5,-223 6033.5,-306\"/>\n<text text-anchor=\"middle\" x=\"5907\" y=\"-290.8\" font-family=\"Helvetica,sans-Serif\" font-size=\"14.00\" fill=\"#000000\">tBodyAcc&#45;correlation()&#45;X,Y &lt;= &#45;0.467</text>\n<text text-anchor=\"middle\" x=\"5907\" y=\"-275.8\" font-family=\"Helvetica,sans-Serif\" font-size=\"14.00\" fill=\"#000000\">gini = 0.104</text>\n<text text-anchor=\"middle\" x=\"5907\" y=\"-260.8\" font-family=\"Helvetica,sans-Serif\" font-size=\"14.00\" fill=\"#000000\">samples = 1127</text>\n<text text-anchor=\"middle\" x=\"5907\" y=\"-245.8\" font-family=\"Helvetica,sans-Serif\" font-size=\"14.00\" fill=\"#000000\">value = [1066, 37, 24, 0, 0, 0]</text>\n<text text-anchor=\"middle\" x=\"5907\" y=\"-230.8\" font-family=\"Helvetica,sans-Serif\" font-size=\"14.00\" fill=\"#000000\">class = WALKING</text>\n</g>\n<!-- 76&#45;&gt;84 -->\n<g id=\"edge84\" class=\"edge\">\n<title>76&#45;&gt;84</title>\n<path fill=\"none\" stroke=\"#000000\" d=\"M5798.4085,-341.8796C5811.8839,-332.2774 5826.3203,-321.9903 5840.125,-312.1534\"/>\n<polygon fill=\"#000000\" stroke=\"#000000\" points=\"5842.5117,-314.7505 5848.6245,-306.0969 5838.4494,-309.0497 5842.5117,-314.7505\"/>\n</g>\n<!-- 78 -->\n<g id=\"node79\" class=\"node\">\n<title>78</title>\n<polygon fill=\"#4fe88f\" stroke=\"#000000\" points=\"5393.5,-187 5142.5,-187 5142.5,-104 5393.5,-104 5393.5,-187\"/>\n<text text-anchor=\"middle\" x=\"5268\" y=\"-171.8\" font-family=\"Helvetica,sans-Serif\" font-size=\"14.00\" fill=\"#000000\">tBodyGyroJerk&#45;energy()&#45;Z &lt;= &#45;0.845</text>\n<text text-anchor=\"middle\" x=\"5268\" y=\"-156.8\" font-family=\"Helvetica,sans-Serif\" font-size=\"14.00\" fill=\"#000000\">gini = 0.18</text>\n<text text-anchor=\"middle\" x=\"5268\" y=\"-141.8\" font-family=\"Helvetica,sans-Serif\" font-size=\"14.00\" fill=\"#000000\">samples = 40</text>\n<text text-anchor=\"middle\" x=\"5268\" y=\"-126.8\" font-family=\"Helvetica,sans-Serif\" font-size=\"14.00\" fill=\"#000000\">value = [4, 0, 36, 0, 0, 0]</text>\n<text text-anchor=\"middle\" x=\"5268\" y=\"-111.8\" font-family=\"Helvetica,sans-Serif\" font-size=\"14.00\" fill=\"#000000\">class = WALKING_DOWNSTAIRS</text>\n</g>\n<!-- 77&#45;&gt;78 -->\n<g id=\"edge78\" class=\"edge\">\n<title>77&#45;&gt;78</title>\n<path fill=\"none\" stroke=\"#000000\" d=\"M5466.976,-222.8796C5440.3047,-212.5074 5411.5785,-201.3361 5384.4762,-190.7963\"/>\n<polygon fill=\"#000000\" stroke=\"#000000\" points=\"5385.5522,-187.4594 5374.9635,-187.0969 5383.015,-193.9835 5385.5522,-187.4594\"/>\n</g>\n<!-- 81 -->\n<g id=\"node82\" class=\"node\">\n<title>81</title>\n<polygon fill=\"#c1ee81\" stroke=\"#000000\" points=\"5714.5,-187 5433.5,-187 5433.5,-104 5714.5,-104 5714.5,-187\"/>\n<text text-anchor=\"middle\" x=\"5574\" y=\"-171.8\" font-family=\"Helvetica,sans-Serif\" font-size=\"14.00\" fill=\"#000000\">tBodyAccJerk&#45;correlation()&#45;X,Y &lt;= &#45;0.007</text>\n<text text-anchor=\"middle\" x=\"5574\" y=\"-156.8\" font-family=\"Helvetica,sans-Serif\" font-size=\"14.00\" fill=\"#000000\">gini = 0.452</text>\n<text text-anchor=\"middle\" x=\"5574\" y=\"-141.8\" font-family=\"Helvetica,sans-Serif\" font-size=\"14.00\" fill=\"#000000\">samples = 41</text>\n<text text-anchor=\"middle\" x=\"5574\" y=\"-126.8\" font-family=\"Helvetica,sans-Serif\" font-size=\"14.00\" fill=\"#000000\">value = [8, 29, 4, 0, 0, 0]</text>\n<text text-anchor=\"middle\" x=\"5574\" y=\"-111.8\" font-family=\"Helvetica,sans-Serif\" font-size=\"14.00\" fill=\"#000000\">class = WALKING_UPSTAIRS</text>\n</g>\n<!-- 77&#45;&gt;81 -->\n<g id=\"edge81\" class=\"edge\">\n<title>77&#45;&gt;81</title>\n<path fill=\"none\" stroke=\"#000000\" d=\"M5574,-222.8796C5574,-214.6838 5574,-205.9891 5574,-197.5013\"/>\n<polygon fill=\"#000000\" stroke=\"#000000\" points=\"5577.5001,-197.298 5574,-187.2981 5570.5001,-197.2981 5577.5001,-197.298\"/>\n</g>\n<!-- 79 -->\n<g id=\"node80\" class=\"node\">\n<title>79</title>\n<polygon fill=\"#39e581\" stroke=\"#000000\" points=\"5086,-68 4848,-68 4848,0 5086,0 5086,-68\"/>\n<text text-anchor=\"middle\" x=\"4967\" y=\"-52.8\" font-family=\"Helvetica,sans-Serif\" font-size=\"14.00\" fill=\"#000000\">gini = 0.0</text>\n<text text-anchor=\"middle\" x=\"4967\" y=\"-37.8\" font-family=\"Helvetica,sans-Serif\" font-size=\"14.00\" fill=\"#000000\">samples = 36</text>\n<text text-anchor=\"middle\" x=\"4967\" y=\"-22.8\" font-family=\"Helvetica,sans-Serif\" font-size=\"14.00\" fill=\"#000000\">value = [0, 0, 36, 0, 0, 0]</text>\n<text text-anchor=\"middle\" x=\"4967\" y=\"-7.8\" font-family=\"Helvetica,sans-Serif\" font-size=\"14.00\" fill=\"#000000\">class = WALKING_DOWNSTAIRS</text>\n</g>\n<!-- 78&#45;&gt;79 -->\n<g id=\"edge79\" class=\"edge\">\n<title>78&#45;&gt;79</title>\n<path fill=\"none\" stroke=\"#000000\" d=\"M5155.9187,-103.9815C5127.2363,-93.3566 5096.5586,-81.9926 5068.4451,-71.5785\"/>\n<polygon fill=\"#000000\" stroke=\"#000000\" points=\"5069.609,-68.2773 5059.0159,-68.0856 5067.1774,-74.8414 5069.609,-68.2773\"/>\n</g>\n<!-- 80 -->\n<g id=\"node81\" class=\"node\">\n<title>80</title>\n<polygon fill=\"#e58139\" stroke=\"#000000\" points=\"5266,-68 5104,-68 5104,0 5266,0 5266,-68\"/>\n<text text-anchor=\"middle\" x=\"5185\" y=\"-52.8\" font-family=\"Helvetica,sans-Serif\" font-size=\"14.00\" fill=\"#000000\">gini = 0.0</text>\n<text text-anchor=\"middle\" x=\"5185\" y=\"-37.8\" font-family=\"Helvetica,sans-Serif\" font-size=\"14.00\" fill=\"#000000\">samples = 4</text>\n<text text-anchor=\"middle\" x=\"5185\" y=\"-22.8\" font-family=\"Helvetica,sans-Serif\" font-size=\"14.00\" fill=\"#000000\">value = [4, 0, 0, 0, 0, 0]</text>\n<text text-anchor=\"middle\" x=\"5185\" y=\"-7.8\" font-family=\"Helvetica,sans-Serif\" font-size=\"14.00\" fill=\"#000000\">class = WALKING</text>\n</g>\n<!-- 78&#45;&gt;80 -->\n<g id=\"edge80\" class=\"edge\">\n<title>78&#45;&gt;80</title>\n<path fill=\"none\" stroke=\"#000000\" d=\"M5237.0939,-103.9815C5230.3892,-94.9747 5223.2892,-85.4367 5216.5597,-76.3965\"/>\n<polygon fill=\"#000000\" stroke=\"#000000\" points=\"5219.2845,-74.1953 5210.5057,-68.2637 5213.6694,-78.3752 5219.2845,-74.1953\"/>\n</g>\n<!-- 82 -->\n<g id=\"node83\" class=\"node\">\n<title>82</title>\n<polygon fill=\"#aee95b\" stroke=\"#000000\" points=\"5496,-68 5284,-68 5284,0 5496,0 5496,-68\"/>\n<text text-anchor=\"middle\" x=\"5390\" y=\"-52.8\" font-family=\"Helvetica,sans-Serif\" font-size=\"14.00\" fill=\"#000000\">gini = 0.264</text>\n<text text-anchor=\"middle\" x=\"5390\" y=\"-37.8\" font-family=\"Helvetica,sans-Serif\" font-size=\"14.00\" fill=\"#000000\">samples = 33</text>\n<text text-anchor=\"middle\" x=\"5390\" y=\"-22.8\" font-family=\"Helvetica,sans-Serif\" font-size=\"14.00\" fill=\"#000000\">value = [1, 28, 4, 0, 0, 0]</text>\n<text text-anchor=\"middle\" x=\"5390\" y=\"-7.8\" font-family=\"Helvetica,sans-Serif\" font-size=\"14.00\" fill=\"#000000\">class = WALKING_UPSTAIRS</text>\n</g>\n<!-- 81&#45;&gt;82 -->\n<g id=\"edge82\" class=\"edge\">\n<title>81&#45;&gt;82</title>\n<path fill=\"none\" stroke=\"#000000\" d=\"M5505.4852,-103.9815C5489.019,-94.0034 5471.4771,-83.3733 5455.168,-73.4904\"/>\n<polygon fill=\"#000000\" stroke=\"#000000\" points=\"5456.6151,-70.2749 5446.2489,-68.0856 5452.9873,-76.2615 5456.6151,-70.2749\"/>\n</g>\n<!-- 83 -->\n<g id=\"node84\" class=\"node\">\n<title>83</title>\n<polygon fill=\"#e99355\" stroke=\"#000000\" points=\"5676,-68 5514,-68 5514,0 5676,0 5676,-68\"/>\n<text text-anchor=\"middle\" x=\"5595\" y=\"-52.8\" font-family=\"Helvetica,sans-Serif\" font-size=\"14.00\" fill=\"#000000\">gini = 0.219</text>\n<text text-anchor=\"middle\" x=\"5595\" y=\"-37.8\" font-family=\"Helvetica,sans-Serif\" font-size=\"14.00\" fill=\"#000000\">samples = 8</text>\n<text text-anchor=\"middle\" x=\"5595\" y=\"-22.8\" font-family=\"Helvetica,sans-Serif\" font-size=\"14.00\" fill=\"#000000\">value = [7, 1, 0, 0, 0, 0]</text>\n<text text-anchor=\"middle\" x=\"5595\" y=\"-7.8\" font-family=\"Helvetica,sans-Serif\" font-size=\"14.00\" fill=\"#000000\">class = WALKING</text>\n</g>\n<!-- 81&#45;&gt;83 -->\n<g id=\"edge83\" class=\"edge\">\n<title>81&#45;&gt;83</title>\n<path fill=\"none\" stroke=\"#000000\" d=\"M5581.8196,-103.9815C5583.3948,-95.618 5585.0563,-86.7965 5586.6488,-78.3409\"/>\n<polygon fill=\"#000000\" stroke=\"#000000\" points=\"5590.1353,-78.7387 5588.5468,-68.2637 5583.2563,-77.4431 5590.1353,-78.7387\"/>\n</g>\n<!-- 85 -->\n<g id=\"node86\" class=\"node\">\n<title>85</title>\n<polygon fill=\"#f5fceb\" stroke=\"#000000\" points=\"6013,-187 5801,-187 5801,-104 6013,-104 6013,-187\"/>\n<text text-anchor=\"middle\" x=\"5907\" y=\"-171.8\" font-family=\"Helvetica,sans-Serif\" font-size=\"14.00\" fill=\"#000000\">tBodyAcc&#45;std()&#45;Y &lt;= &#45;0.063</text>\n<text text-anchor=\"middle\" x=\"5907\" y=\"-156.8\" font-family=\"Helvetica,sans-Serif\" font-size=\"14.00\" fill=\"#000000\">gini = 0.658</text>\n<text text-anchor=\"middle\" x=\"5907\" y=\"-141.8\" font-family=\"Helvetica,sans-Serif\" font-size=\"14.00\" fill=\"#000000\">samples = 30</text>\n<text text-anchor=\"middle\" x=\"5907\" y=\"-126.8\" font-family=\"Helvetica,sans-Serif\" font-size=\"14.00\" fill=\"#000000\">value = [8, 12, 10, 0, 0, 0]</text>\n<text text-anchor=\"middle\" x=\"5907\" y=\"-111.8\" font-family=\"Helvetica,sans-Serif\" font-size=\"14.00\" fill=\"#000000\">class = WALKING_UPSTAIRS</text>\n</g>\n<!-- 84&#45;&gt;85 -->\n<g id=\"edge85\" class=\"edge\">\n<title>84&#45;&gt;85</title>\n<path fill=\"none\" stroke=\"#000000\" d=\"M5907,-222.8796C5907,-214.6838 5907,-205.9891 5907,-197.5013\"/>\n<polygon fill=\"#000000\" stroke=\"#000000\" points=\"5910.5001,-197.298 5907,-187.2981 5903.5001,-197.2981 5910.5001,-197.298\"/>\n</g>\n<!-- 88 -->\n<g id=\"node89\" class=\"node\">\n<title>88</title>\n<polygon fill=\"#e68640\" stroke=\"#000000\" points=\"6305,-187 6099,-187 6099,-104 6305,-104 6305,-187\"/>\n<text text-anchor=\"middle\" x=\"6202\" y=\"-171.8\" font-family=\"Helvetica,sans-Serif\" font-size=\"14.00\" fill=\"#000000\">fBodyAccMag&#45;std() &lt;= &#45;0.262</text>\n<text text-anchor=\"middle\" x=\"6202\" y=\"-156.8\" font-family=\"Helvetica,sans-Serif\" font-size=\"14.00\" fill=\"#000000\">gini = 0.069</text>\n<text text-anchor=\"middle\" x=\"6202\" y=\"-141.8\" font-family=\"Helvetica,sans-Serif\" font-size=\"14.00\" fill=\"#000000\">samples = 1097</text>\n<text text-anchor=\"middle\" x=\"6202\" y=\"-126.8\" font-family=\"Helvetica,sans-Serif\" font-size=\"14.00\" fill=\"#000000\">value = [1058, 25, 14, 0, 0, 0]</text>\n<text text-anchor=\"middle\" x=\"6202\" y=\"-111.8\" font-family=\"Helvetica,sans-Serif\" font-size=\"14.00\" fill=\"#000000\">class = WALKING</text>\n</g>\n<!-- 84&#45;&gt;88 -->\n<g id=\"edge88\" class=\"edge\">\n<title>84&#45;&gt;88</title>\n<path fill=\"none\" stroke=\"#000000\" d=\"M6010.1767,-222.8796C6035.777,-212.5527 6063.341,-201.4336 6089.3685,-190.9344\"/>\n<polygon fill=\"#000000\" stroke=\"#000000\" points=\"6090.917,-194.0838 6098.8816,-187.0969 6088.2983,-187.5921 6090.917,-194.0838\"/>\n</g>\n<!-- 86 -->\n<g id=\"node87\" class=\"node\">\n<title>86</title>\n<polygon fill=\"#39e581\" stroke=\"#000000\" points=\"5932,-68 5694,-68 5694,0 5932,0 5932,-68\"/>\n<text text-anchor=\"middle\" x=\"5813\" y=\"-52.8\" font-family=\"Helvetica,sans-Serif\" font-size=\"14.00\" fill=\"#000000\">gini = 0.0</text>\n<text text-anchor=\"middle\" x=\"5813\" y=\"-37.8\" font-family=\"Helvetica,sans-Serif\" font-size=\"14.00\" fill=\"#000000\">samples = 10</text>\n<text text-anchor=\"middle\" x=\"5813\" y=\"-22.8\" font-family=\"Helvetica,sans-Serif\" font-size=\"14.00\" fill=\"#000000\">value = [0, 0, 10, 0, 0, 0]</text>\n<text text-anchor=\"middle\" x=\"5813\" y=\"-7.8\" font-family=\"Helvetica,sans-Serif\" font-size=\"14.00\" fill=\"#000000\">class = WALKING_DOWNSTAIRS</text>\n</g>\n<!-- 85&#45;&gt;86 -->\n<g id=\"edge86\" class=\"edge\">\n<title>85&#45;&gt;86</title>\n<path fill=\"none\" stroke=\"#000000\" d=\"M5871.9979,-103.9815C5864.3272,-94.8828 5856.1995,-85.242 5848.5091,-76.1199\"/>\n<polygon fill=\"#000000\" stroke=\"#000000\" points=\"5851.0075,-73.6533 5841.886,-68.2637 5845.6556,-78.1652 5851.0075,-73.6533\"/>\n</g>\n<!-- 87 -->\n<g id=\"node88\" class=\"node\">\n<title>87</title>\n<polygon fill=\"#def6bd\" stroke=\"#000000\" points=\"6162,-68 5950,-68 5950,0 6162,0 6162,-68\"/>\n<text text-anchor=\"middle\" x=\"6056\" y=\"-52.8\" font-family=\"Helvetica,sans-Serif\" font-size=\"14.00\" fill=\"#000000\">gini = 0.48</text>\n<text text-anchor=\"middle\" x=\"6056\" y=\"-37.8\" font-family=\"Helvetica,sans-Serif\" font-size=\"14.00\" fill=\"#000000\">samples = 20</text>\n<text text-anchor=\"middle\" x=\"6056\" y=\"-22.8\" font-family=\"Helvetica,sans-Serif\" font-size=\"14.00\" fill=\"#000000\">value = [8, 12, 0, 0, 0, 0]</text>\n<text text-anchor=\"middle\" x=\"6056\" y=\"-7.8\" font-family=\"Helvetica,sans-Serif\" font-size=\"14.00\" fill=\"#000000\">class = WALKING_UPSTAIRS</text>\n</g>\n<!-- 85&#45;&gt;87 -->\n<g id=\"edge87\" class=\"edge\">\n<title>85&#45;&gt;87</title>\n<path fill=\"none\" stroke=\"#000000\" d=\"M5962.4821,-103.9815C5975.3779,-94.3313 5989.0884,-84.0714 6001.9227,-74.4673\"/>\n<polygon fill=\"#000000\" stroke=\"#000000\" points=\"6004.3032,-77.0574 6010.2127,-68.2637 6000.1092,-71.4528 6004.3032,-77.0574\"/>\n</g>\n<!-- 89 -->\n<g id=\"node90\" class=\"node\">\n<title>89</title>\n<polygon fill=\"#e6843d\" stroke=\"#000000\" points=\"6374.5,-68 6179.5,-68 6179.5,0 6374.5,0 6374.5,-68\"/>\n<text text-anchor=\"middle\" x=\"6277\" y=\"-52.8\" font-family=\"Helvetica,sans-Serif\" font-size=\"14.00\" fill=\"#000000\">gini = 0.044</text>\n<text text-anchor=\"middle\" x=\"6277\" y=\"-37.8\" font-family=\"Helvetica,sans-Serif\" font-size=\"14.00\" fill=\"#000000\">samples = 1076</text>\n<text text-anchor=\"middle\" x=\"6277\" y=\"-22.8\" font-family=\"Helvetica,sans-Serif\" font-size=\"14.00\" fill=\"#000000\">value = [1052, 16, 8, 0, 0, 0]</text>\n<text text-anchor=\"middle\" x=\"6277\" y=\"-7.8\" font-family=\"Helvetica,sans-Serif\" font-size=\"14.00\" fill=\"#000000\">class = WALKING</text>\n</g>\n<!-- 88&#45;&gt;89 -->\n<g id=\"edge89\" class=\"edge\">\n<title>88&#45;&gt;89</title>\n<path fill=\"none\" stroke=\"#000000\" d=\"M6229.9272,-103.9815C6235.9238,-95.0666 6242.2704,-85.6313 6248.2959,-76.6734\"/>\n<polygon fill=\"#000000\" stroke=\"#000000\" points=\"6251.2755,-78.5147 6253.9527,-68.2637 6245.4672,-74.6078 6251.2755,-78.5147\"/>\n</g>\n<!-- 90 -->\n<g id=\"node91\" class=\"node\">\n<title>90</title>\n<polygon fill=\"#ebfad7\" stroke=\"#000000\" points=\"6604,-68 6392,-68 6392,0 6604,0 6604,-68\"/>\n<text text-anchor=\"middle\" x=\"6498\" y=\"-52.8\" font-family=\"Helvetica,sans-Serif\" font-size=\"14.00\" fill=\"#000000\">gini = 0.653</text>\n<text text-anchor=\"middle\" x=\"6498\" y=\"-37.8\" font-family=\"Helvetica,sans-Serif\" font-size=\"14.00\" fill=\"#000000\">samples = 21</text>\n<text text-anchor=\"middle\" x=\"6498\" y=\"-22.8\" font-family=\"Helvetica,sans-Serif\" font-size=\"14.00\" fill=\"#000000\">value = [6, 9, 6, 0, 0, 0]</text>\n<text text-anchor=\"middle\" x=\"6498\" y=\"-7.8\" font-family=\"Helvetica,sans-Serif\" font-size=\"14.00\" fill=\"#000000\">class = WALKING_UPSTAIRS</text>\n</g>\n<!-- 88&#45;&gt;90 -->\n<g id=\"edge90\" class=\"edge\">\n<title>88&#45;&gt;90</title>\n<path fill=\"none\" stroke=\"#000000\" d=\"M6305.1109,-106.6592C6335.2215,-95.3169 6368.0701,-82.9432 6397.9856,-71.6743\"/>\n<polygon fill=\"#000000\" stroke=\"#000000\" points=\"6399.4639,-74.8576 6407.5882,-68.0572 6396.9963,-68.307 6399.4639,-74.8576\"/>\n</g>\n<!-- 92 -->\n<g id=\"node93\" class=\"node\">\n<title>92</title>\n<polygon fill=\"#a7e84c\" stroke=\"#000000\" points=\"6883.5,-425 6654.5,-425 6654.5,-342 6883.5,-342 6883.5,-425\"/>\n<text text-anchor=\"middle\" x=\"6769\" y=\"-409.8\" font-family=\"Helvetica,sans-Serif\" font-size=\"14.00\" fill=\"#000000\">tGravityAcc&#45;energy()&#45;Y &lt;= &#45;0.974</text>\n<text text-anchor=\"middle\" x=\"6769\" y=\"-394.8\" font-family=\"Helvetica,sans-Serif\" font-size=\"14.00\" fill=\"#000000\">gini = 0.17</text>\n<text text-anchor=\"middle\" x=\"6769\" y=\"-379.8\" font-family=\"Helvetica,sans-Serif\" font-size=\"14.00\" fill=\"#000000\">samples = 917</text>\n<text text-anchor=\"middle\" x=\"6769\" y=\"-364.8\" font-family=\"Helvetica,sans-Serif\" font-size=\"14.00\" fill=\"#000000\">value = [56, 833, 28, 0, 0, 0]</text>\n<text text-anchor=\"middle\" x=\"6769\" y=\"-349.8\" font-family=\"Helvetica,sans-Serif\" font-size=\"14.00\" fill=\"#000000\">class = WALKING_UPSTAIRS</text>\n</g>\n<!-- 91&#45;&gt;92 -->\n<g id=\"edge92\" class=\"edge\">\n<title>91&#45;&gt;92</title>\n<path fill=\"none\" stroke=\"#000000\" d=\"M6769,-460.8796C6769,-452.6838 6769,-443.9891 6769,-435.5013\"/>\n<polygon fill=\"#000000\" stroke=\"#000000\" points=\"6772.5001,-435.298 6769,-425.2981 6765.5001,-435.2981 6772.5001,-435.298\"/>\n</g>\n<!-- 103 -->\n<g id=\"node104\" class=\"node\">\n<title>103</title>\n<polygon fill=\"#eda672\" stroke=\"#000000\" points=\"7631,-425 7377,-425 7377,-342 7631,-342 7631,-425\"/>\n<text text-anchor=\"middle\" x=\"7504\" y=\"-409.8\" font-family=\"Helvetica,sans-Serif\" font-size=\"14.00\" fill=\"#000000\">tGravityAccMag&#45;arCoeff()1 &lt;= &#45;0.294</text>\n<text text-anchor=\"middle\" x=\"7504\" y=\"-394.8\" font-family=\"Helvetica,sans-Serif\" font-size=\"14.00\" fill=\"#000000\">gini = 0.406</text>\n<text text-anchor=\"middle\" x=\"7504\" y=\"-379.8\" font-family=\"Helvetica,sans-Serif\" font-size=\"14.00\" fill=\"#000000\">samples = 80</text>\n<text text-anchor=\"middle\" x=\"7504\" y=\"-364.8\" font-family=\"Helvetica,sans-Serif\" font-size=\"14.00\" fill=\"#000000\">value = [60, 11, 9, 0, 0, 0]</text>\n<text text-anchor=\"middle\" x=\"7504\" y=\"-349.8\" font-family=\"Helvetica,sans-Serif\" font-size=\"14.00\" fill=\"#000000\">class = WALKING</text>\n</g>\n<!-- 91&#45;&gt;103 -->\n<g id=\"edge103\" class=\"edge\">\n<title>91&#45;&gt;103</title>\n<path fill=\"none\" stroke=\"#000000\" d=\"M6875.0903,-485.3235C7004.759,-464.3295 7224.4513,-428.7603 7366.8429,-405.7064\"/>\n<polygon fill=\"#000000\" stroke=\"#000000\" points=\"7367.6471,-409.1218 7376.9592,-404.0685 7366.5283,-402.2118 7367.6471,-409.1218\"/>\n</g>\n<!-- 93 -->\n<g id=\"node94\" class=\"node\">\n<title>93</title>\n<polygon fill=\"#9cf2c0\" stroke=\"#000000\" points=\"6762.5,-306 6509.5,-306 6509.5,-223 6762.5,-223 6762.5,-306\"/>\n<text text-anchor=\"middle\" x=\"6636\" y=\"-290.8\" font-family=\"Helvetica,sans-Serif\" font-size=\"14.00\" fill=\"#000000\">tBodyAcc&#45;correlation()&#45;X,Y &lt;= &#45;0.205</text>\n<text text-anchor=\"middle\" x=\"6636\" y=\"-275.8\" font-family=\"Helvetica,sans-Serif\" font-size=\"14.00\" fill=\"#000000\">gini = 0.444</text>\n<text text-anchor=\"middle\" x=\"6636\" y=\"-260.8\" font-family=\"Helvetica,sans-Serif\" font-size=\"14.00\" fill=\"#000000\">samples = 30</text>\n<text text-anchor=\"middle\" x=\"6636\" y=\"-245.8\" font-family=\"Helvetica,sans-Serif\" font-size=\"14.00\" fill=\"#000000\">value = [10, 0, 20, 0, 0, 0]</text>\n<text text-anchor=\"middle\" x=\"6636\" y=\"-230.8\" font-family=\"Helvetica,sans-Serif\" font-size=\"14.00\" fill=\"#000000\">class = WALKING_DOWNSTAIRS</text>\n</g>\n<!-- 92&#45;&gt;93 -->\n<g id=\"edge93\" class=\"edge\">\n<title>92&#45;&gt;93</title>\n<path fill=\"none\" stroke=\"#000000\" d=\"M6722.4831,-341.8796C6712.1152,-332.6031 6701.0329,-322.6874 6690.3801,-313.1559\"/>\n<polygon fill=\"#000000\" stroke=\"#000000\" points=\"6692.5017,-310.3577 6682.7155,-306.2981 6687.8341,-315.5744 6692.5017,-310.3577\"/>\n</g>\n<!-- 96 -->\n<g id=\"node97\" class=\"node\">\n<title>96</title>\n<polygon fill=\"#a3e746\" stroke=\"#000000\" points=\"7023,-306 6781,-306 6781,-223 7023,-223 7023,-306\"/>\n<text text-anchor=\"middle\" x=\"6902\" y=\"-290.8\" font-family=\"Helvetica,sans-Serif\" font-size=\"14.00\" fill=\"#000000\">tGravityAcc&#45;arCoeff()&#45;Y,3 &lt;= &#45;0.306</text>\n<text text-anchor=\"middle\" x=\"6902\" y=\"-275.8\" font-family=\"Helvetica,sans-Serif\" font-size=\"14.00\" fill=\"#000000\">gini = 0.115</text>\n<text text-anchor=\"middle\" x=\"6902\" y=\"-260.8\" font-family=\"Helvetica,sans-Serif\" font-size=\"14.00\" fill=\"#000000\">samples = 887</text>\n<text text-anchor=\"middle\" x=\"6902\" y=\"-245.8\" font-family=\"Helvetica,sans-Serif\" font-size=\"14.00\" fill=\"#000000\">value = [46, 833, 8, 0, 0, 0]</text>\n<text text-anchor=\"middle\" x=\"6902\" y=\"-230.8\" font-family=\"Helvetica,sans-Serif\" font-size=\"14.00\" fill=\"#000000\">class = WALKING_UPSTAIRS</text>\n</g>\n<!-- 92&#45;&gt;96 -->\n<g id=\"edge96\" class=\"edge\">\n<title>92&#45;&gt;96</title>\n<path fill=\"none\" stroke=\"#000000\" d=\"M6815.5169,-341.8796C6825.8848,-332.6031 6836.9671,-322.6874 6847.6199,-313.1559\"/>\n<polygon fill=\"#000000\" stroke=\"#000000\" points=\"6850.1659,-315.5744 6855.2845,-306.2981 6845.4983,-310.3577 6850.1659,-315.5744\"/>\n</g>\n<!-- 94 -->\n<g id=\"node95\" class=\"node\">\n<title>94</title>\n<polygon fill=\"#39e581\" stroke=\"#000000\" points=\"6561,-179.5 6323,-179.5 6323,-111.5 6561,-111.5 6561,-179.5\"/>\n<text text-anchor=\"middle\" x=\"6442\" y=\"-164.3\" font-family=\"Helvetica,sans-Serif\" font-size=\"14.00\" fill=\"#000000\">gini = 0.0</text>\n<text text-anchor=\"middle\" x=\"6442\" y=\"-149.3\" font-family=\"Helvetica,sans-Serif\" font-size=\"14.00\" fill=\"#000000\">samples = 20</text>\n<text text-anchor=\"middle\" x=\"6442\" y=\"-134.3\" font-family=\"Helvetica,sans-Serif\" font-size=\"14.00\" fill=\"#000000\">value = [0, 0, 20, 0, 0, 0]</text>\n<text text-anchor=\"middle\" x=\"6442\" y=\"-119.3\" font-family=\"Helvetica,sans-Serif\" font-size=\"14.00\" fill=\"#000000\">class = WALKING_DOWNSTAIRS</text>\n</g>\n<!-- 93&#45;&gt;94 -->\n<g id=\"edge94\" class=\"edge\">\n<title>93&#45;&gt;94</title>\n<path fill=\"none\" stroke=\"#000000\" d=\"M6568.1482,-222.8796C6548.0651,-210.5606 6526.1443,-197.1143 6506.2933,-184.9376\"/>\n<polygon fill=\"#000000\" stroke=\"#000000\" points=\"6507.9833,-181.8683 6497.6291,-179.623 6504.3232,-187.8352 6507.9833,-181.8683\"/>\n</g>\n<!-- 95 -->\n<g id=\"node96\" class=\"node\">\n<title>95</title>\n<polygon fill=\"#e58139\" stroke=\"#000000\" points=\"6749,-179.5 6579,-179.5 6579,-111.5 6749,-111.5 6749,-179.5\"/>\n<text text-anchor=\"middle\" x=\"6664\" y=\"-164.3\" font-family=\"Helvetica,sans-Serif\" font-size=\"14.00\" fill=\"#000000\">gini = 0.0</text>\n<text text-anchor=\"middle\" x=\"6664\" y=\"-149.3\" font-family=\"Helvetica,sans-Serif\" font-size=\"14.00\" fill=\"#000000\">samples = 10</text>\n<text text-anchor=\"middle\" x=\"6664\" y=\"-134.3\" font-family=\"Helvetica,sans-Serif\" font-size=\"14.00\" fill=\"#000000\">value = [10, 0, 0, 0, 0, 0]</text>\n<text text-anchor=\"middle\" x=\"6664\" y=\"-119.3\" font-family=\"Helvetica,sans-Serif\" font-size=\"14.00\" fill=\"#000000\">class = WALKING</text>\n</g>\n<!-- 93&#45;&gt;95 -->\n<g id=\"edge95\" class=\"edge\">\n<title>93&#45;&gt;95</title>\n<path fill=\"none\" stroke=\"#000000\" d=\"M6645.793,-222.8796C6648.3286,-212.1034 6651.0671,-200.4647 6653.6311,-189.5677\"/>\n<polygon fill=\"#000000\" stroke=\"#000000\" points=\"6657.0424,-190.3508 6655.9259,-179.8149 6650.2285,-188.7474 6657.0424,-190.3508\"/>\n</g>\n<!-- 97 -->\n<g id=\"node98\" class=\"node\">\n<title>97</title>\n<polygon fill=\"#a0e640\" stroke=\"#000000\" points=\"6979,-187 6767,-187 6767,-104 6979,-104 6979,-187\"/>\n<text text-anchor=\"middle\" x=\"6873\" y=\"-171.8\" font-family=\"Helvetica,sans-Serif\" font-size=\"14.00\" fill=\"#000000\">tBodyAcc&#45;max()&#45;X &lt;= &#45;0.364</text>\n<text text-anchor=\"middle\" x=\"6873\" y=\"-156.8\" font-family=\"Helvetica,sans-Serif\" font-size=\"14.00\" fill=\"#000000\">gini = 0.066</text>\n<text text-anchor=\"middle\" x=\"6873\" y=\"-141.8\" font-family=\"Helvetica,sans-Serif\" font-size=\"14.00\" fill=\"#000000\">samples = 827</text>\n<text text-anchor=\"middle\" x=\"6873\" y=\"-126.8\" font-family=\"Helvetica,sans-Serif\" font-size=\"14.00\" fill=\"#000000\">value = [21, 799, 7, 0, 0, 0]</text>\n<text text-anchor=\"middle\" x=\"6873\" y=\"-111.8\" font-family=\"Helvetica,sans-Serif\" font-size=\"14.00\" fill=\"#000000\">class = WALKING_UPSTAIRS</text>\n</g>\n<!-- 96&#45;&gt;97 -->\n<g id=\"edge97\" class=\"edge\">\n<title>96&#45;&gt;97</title>\n<path fill=\"none\" stroke=\"#000000\" d=\"M6891.8572,-222.8796C6889.838,-214.5938 6887.6945,-205.798 6885.6044,-197.2216\"/>\n<polygon fill=\"#000000\" stroke=\"#000000\" points=\"6888.9543,-196.185 6883.1861,-187.2981 6882.1534,-197.8425 6888.9543,-196.185\"/>\n</g>\n<!-- 100 -->\n<g id=\"node101\" class=\"node\">\n<title>100</title>\n<polygon fill=\"#e6f8cc\" stroke=\"#000000\" points=\"7278.5,-187 6997.5,-187 6997.5,-104 7278.5,-104 7278.5,-187\"/>\n<text text-anchor=\"middle\" x=\"7138\" y=\"-171.8\" font-family=\"Helvetica,sans-Serif\" font-size=\"14.00\" fill=\"#000000\">tBodyAccJerk&#45;correlation()&#45;X,Y &lt;= &#45;0.003</text>\n<text text-anchor=\"middle\" x=\"7138\" y=\"-156.8\" font-family=\"Helvetica,sans-Serif\" font-size=\"14.00\" fill=\"#000000\">gini = 0.505</text>\n<text text-anchor=\"middle\" x=\"7138\" y=\"-141.8\" font-family=\"Helvetica,sans-Serif\" font-size=\"14.00\" fill=\"#000000\">samples = 60</text>\n<text text-anchor=\"middle\" x=\"7138\" y=\"-126.8\" font-family=\"Helvetica,sans-Serif\" font-size=\"14.00\" fill=\"#000000\">value = [25, 34, 1, 0, 0, 0]</text>\n<text text-anchor=\"middle\" x=\"7138\" y=\"-111.8\" font-family=\"Helvetica,sans-Serif\" font-size=\"14.00\" fill=\"#000000\">class = WALKING_UPSTAIRS</text>\n</g>\n<!-- 96&#45;&gt;100 -->\n<g id=\"edge100\" class=\"edge\">\n<title>96&#45;&gt;100</title>\n<path fill=\"none\" stroke=\"#000000\" d=\"M6984.5413,-222.8796C7004.5724,-212.7791 7026.1064,-201.9209 7046.5232,-191.626\"/>\n<polygon fill=\"#000000\" stroke=\"#000000\" points=\"7048.152,-194.7245 7055.5053,-187.0969 7045.0003,-188.4742 7048.152,-194.7245\"/>\n</g>\n<!-- 98 -->\n<g id=\"node99\" class=\"node\">\n<title>98</title>\n<polygon fill=\"#ffffff\" stroke=\"#000000\" points=\"6784,-68 6622,-68 6622,0 6784,0 6784,-68\"/>\n<text text-anchor=\"middle\" x=\"6703\" y=\"-52.8\" font-family=\"Helvetica,sans-Serif\" font-size=\"14.00\" fill=\"#000000\">gini = 0.5</text>\n<text text-anchor=\"middle\" x=\"6703\" y=\"-37.8\" font-family=\"Helvetica,sans-Serif\" font-size=\"14.00\" fill=\"#000000\">samples = 18</text>\n<text text-anchor=\"middle\" x=\"6703\" y=\"-22.8\" font-family=\"Helvetica,sans-Serif\" font-size=\"14.00\" fill=\"#000000\">value = [9, 9, 0, 0, 0, 0]</text>\n<text text-anchor=\"middle\" x=\"6703\" y=\"-7.8\" font-family=\"Helvetica,sans-Serif\" font-size=\"14.00\" fill=\"#000000\">class = WALKING</text>\n</g>\n<!-- 97&#45;&gt;98 -->\n<g id=\"edge98\" class=\"edge\">\n<title>97&#45;&gt;98</title>\n<path fill=\"none\" stroke=\"#000000\" d=\"M6809.6983,-103.9815C6794.6258,-94.0957 6778.5778,-83.5701 6763.6284,-73.7651\"/>\n<polygon fill=\"#000000\" stroke=\"#000000\" points=\"6765.2506,-70.6434 6754.9691,-68.0856 6761.4115,-76.4968 6765.2506,-70.6434\"/>\n</g>\n<!-- 99 -->\n<g id=\"node100\" class=\"node\">\n<title>99</title>\n<polygon fill=\"#9fe63e\" stroke=\"#000000\" points=\"7014,-68 6802,-68 6802,0 7014,0 7014,-68\"/>\n<text text-anchor=\"middle\" x=\"6908\" y=\"-52.8\" font-family=\"Helvetica,sans-Serif\" font-size=\"14.00\" fill=\"#000000\">gini = 0.046</text>\n<text text-anchor=\"middle\" x=\"6908\" y=\"-37.8\" font-family=\"Helvetica,sans-Serif\" font-size=\"14.00\" fill=\"#000000\">samples = 809</text>\n<text text-anchor=\"middle\" x=\"6908\" y=\"-22.8\" font-family=\"Helvetica,sans-Serif\" font-size=\"14.00\" fill=\"#000000\">value = [12, 790, 7, 0, 0, 0]</text>\n<text text-anchor=\"middle\" x=\"6908\" y=\"-7.8\" font-family=\"Helvetica,sans-Serif\" font-size=\"14.00\" fill=\"#000000\">class = WALKING_UPSTAIRS</text>\n</g>\n<!-- 97&#45;&gt;99 -->\n<g id=\"edge99\" class=\"edge\">\n<title>97&#45;&gt;99</title>\n<path fill=\"none\" stroke=\"#000000\" d=\"M6886.0327,-103.9815C6888.6869,-95.5261 6891.488,-86.6026 6894.1688,-78.0623\"/>\n<polygon fill=\"#000000\" stroke=\"#000000\" points=\"6897.5889,-78.8529 6897.2446,-68.2637 6890.9102,-76.7564 6897.5889,-78.8529\"/>\n</g>\n<!-- 101 -->\n<g id=\"node102\" class=\"node\">\n<title>101</title>\n<polygon fill=\"#b2eb63\" stroke=\"#000000\" points=\"7244,-68 7032,-68 7032,0 7244,0 7244,-68\"/>\n<text text-anchor=\"middle\" x=\"7138\" y=\"-52.8\" font-family=\"Helvetica,sans-Serif\" font-size=\"14.00\" fill=\"#000000\">gini = 0.302</text>\n<text text-anchor=\"middle\" x=\"7138\" y=\"-37.8\" font-family=\"Helvetica,sans-Serif\" font-size=\"14.00\" fill=\"#000000\">samples = 39</text>\n<text text-anchor=\"middle\" x=\"7138\" y=\"-22.8\" font-family=\"Helvetica,sans-Serif\" font-size=\"14.00\" fill=\"#000000\">value = [6, 32, 1, 0, 0, 0]</text>\n<text text-anchor=\"middle\" x=\"7138\" y=\"-7.8\" font-family=\"Helvetica,sans-Serif\" font-size=\"14.00\" fill=\"#000000\">class = WALKING_UPSTAIRS</text>\n</g>\n<!-- 100&#45;&gt;101 -->\n<g id=\"edge101\" class=\"edge\">\n<title>100&#45;&gt;101</title>\n<path fill=\"none\" stroke=\"#000000\" d=\"M7138,-103.9815C7138,-95.618 7138,-86.7965 7138,-78.3409\"/>\n<polygon fill=\"#000000\" stroke=\"#000000\" points=\"7141.5001,-78.2636 7138,-68.2637 7134.5001,-78.2637 7141.5001,-78.2636\"/>\n</g>\n<!-- 102 -->\n<g id=\"node103\" class=\"node\">\n<title>102</title>\n<polygon fill=\"#e88e4e\" stroke=\"#000000\" points=\"7432,-68 7262,-68 7262,0 7432,0 7432,-68\"/>\n<text text-anchor=\"middle\" x=\"7347\" y=\"-52.8\" font-family=\"Helvetica,sans-Serif\" font-size=\"14.00\" fill=\"#000000\">gini = 0.172</text>\n<text text-anchor=\"middle\" x=\"7347\" y=\"-37.8\" font-family=\"Helvetica,sans-Serif\" font-size=\"14.00\" fill=\"#000000\">samples = 21</text>\n<text text-anchor=\"middle\" x=\"7347\" y=\"-22.8\" font-family=\"Helvetica,sans-Serif\" font-size=\"14.00\" fill=\"#000000\">value = [19, 2, 0, 0, 0, 0]</text>\n<text text-anchor=\"middle\" x=\"7347\" y=\"-7.8\" font-family=\"Helvetica,sans-Serif\" font-size=\"14.00\" fill=\"#000000\">class = WALKING</text>\n</g>\n<!-- 100&#45;&gt;102 -->\n<g id=\"edge102\" class=\"edge\">\n<title>100&#45;&gt;102</title>\n<path fill=\"none\" stroke=\"#000000\" d=\"M7215.8239,-103.9815C7234.9603,-93.7724 7255.3758,-82.8809 7274.2618,-72.8053\"/>\n<polygon fill=\"#000000\" stroke=\"#000000\" points=\"7275.9331,-75.8807 7283.1086,-68.0856 7272.6381,-69.7046 7275.9331,-75.8807\"/>\n</g>\n<!-- 104 -->\n<g id=\"node105\" class=\"node\">\n<title>104</title>\n<polygon fill=\"#caf193\" stroke=\"#000000\" points=\"7656.5,-306 7351.5,-306 7351.5,-223 7656.5,-223 7656.5,-306\"/>\n<text text-anchor=\"middle\" x=\"7504\" y=\"-290.8\" font-family=\"Helvetica,sans-Serif\" font-size=\"14.00\" fill=\"#000000\">fBodyAccJerk&#45;bandsEnergy()&#45;49,64 &lt;= &#45;0.92</text>\n<text text-anchor=\"middle\" x=\"7504\" y=\"-275.8\" font-family=\"Helvetica,sans-Serif\" font-size=\"14.00\" fill=\"#000000\">gini = 0.43</text>\n<text text-anchor=\"middle\" x=\"7504\" y=\"-260.8\" font-family=\"Helvetica,sans-Serif\" font-size=\"14.00\" fill=\"#000000\">samples = 16</text>\n<text text-anchor=\"middle\" x=\"7504\" y=\"-245.8\" font-family=\"Helvetica,sans-Serif\" font-size=\"14.00\" fill=\"#000000\">value = [0, 11, 5, 0, 0, 0]</text>\n<text text-anchor=\"middle\" x=\"7504\" y=\"-230.8\" font-family=\"Helvetica,sans-Serif\" font-size=\"14.00\" fill=\"#000000\">class = WALKING_UPSTAIRS</text>\n</g>\n<!-- 103&#45;&gt;104 -->\n<g id=\"edge104\" class=\"edge\">\n<title>103&#45;&gt;104</title>\n<path fill=\"none\" stroke=\"#000000\" d=\"M7504,-341.8796C7504,-333.6838 7504,-324.9891 7504,-316.5013\"/>\n<polygon fill=\"#000000\" stroke=\"#000000\" points=\"7507.5001,-316.298 7504,-306.2981 7500.5001,-316.2981 7507.5001,-316.298\"/>\n</g>\n<!-- 107 -->\n<g id=\"node108\" class=\"node\">\n<title>107</title>\n<polygon fill=\"#e78946\" stroke=\"#000000\" points=\"8028.5,-306 7775.5,-306 7775.5,-223 8028.5,-223 8028.5,-306\"/>\n<text text-anchor=\"middle\" x=\"7902\" y=\"-290.8\" font-family=\"Helvetica,sans-Serif\" font-size=\"14.00\" fill=\"#000000\">tBodyAcc&#45;correlation()&#45;X,Y &lt;= &#45;0.348</text>\n<text text-anchor=\"middle\" x=\"7902\" y=\"-275.8\" font-family=\"Helvetica,sans-Serif\" font-size=\"14.00\" fill=\"#000000\">gini = 0.117</text>\n<text text-anchor=\"middle\" x=\"7902\" y=\"-260.8\" font-family=\"Helvetica,sans-Serif\" font-size=\"14.00\" fill=\"#000000\">samples = 64</text>\n<text text-anchor=\"middle\" x=\"7902\" y=\"-245.8\" font-family=\"Helvetica,sans-Serif\" font-size=\"14.00\" fill=\"#000000\">value = [60, 0, 4, 0, 0, 0]</text>\n<text text-anchor=\"middle\" x=\"7902\" y=\"-230.8\" font-family=\"Helvetica,sans-Serif\" font-size=\"14.00\" fill=\"#000000\">class = WALKING</text>\n</g>\n<!-- 103&#45;&gt;107 -->\n<g id=\"edge107\" class=\"edge\">\n<title>103&#45;&gt;107</title>\n<path fill=\"none\" stroke=\"#000000\" d=\"M7631.024,-345.5205C7673.9583,-332.6833 7722.0586,-318.3016 7765.683,-305.2581\"/>\n<polygon fill=\"#000000\" stroke=\"#000000\" points=\"7766.9217,-308.5409 7775.4999,-302.3229 7764.9164,-301.8343 7766.9217,-308.5409\"/>\n</g>\n<!-- 105 -->\n<g id=\"node106\" class=\"node\">\n<title>105</title>\n<polygon fill=\"#9de539\" stroke=\"#000000\" points=\"7509,-179.5 7297,-179.5 7297,-111.5 7509,-111.5 7509,-179.5\"/>\n<text text-anchor=\"middle\" x=\"7403\" y=\"-164.3\" font-family=\"Helvetica,sans-Serif\" font-size=\"14.00\" fill=\"#000000\">gini = 0.0</text>\n<text text-anchor=\"middle\" x=\"7403\" y=\"-149.3\" font-family=\"Helvetica,sans-Serif\" font-size=\"14.00\" fill=\"#000000\">samples = 11</text>\n<text text-anchor=\"middle\" x=\"7403\" y=\"-134.3\" font-family=\"Helvetica,sans-Serif\" font-size=\"14.00\" fill=\"#000000\">value = [0, 11, 0, 0, 0, 0]</text>\n<text text-anchor=\"middle\" x=\"7403\" y=\"-119.3\" font-family=\"Helvetica,sans-Serif\" font-size=\"14.00\" fill=\"#000000\">class = WALKING_UPSTAIRS</text>\n</g>\n<!-- 104&#45;&gt;105 -->\n<g id=\"edge105\" class=\"edge\">\n<title>104&#45;&gt;105</title>\n<path fill=\"none\" stroke=\"#000000\" d=\"M7468.6751,-222.8796C7458.969,-211.4436 7448.4384,-199.0363 7438.7107,-187.575\"/>\n<polygon fill=\"#000000\" stroke=\"#000000\" points=\"7441.2638,-185.1743 7432.1244,-179.8149 7435.9269,-189.7039 7441.2638,-185.1743\"/>\n</g>\n<!-- 106 -->\n<g id=\"node107\" class=\"node\">\n<title>106</title>\n<polygon fill=\"#39e581\" stroke=\"#000000\" points=\"7765,-179.5 7527,-179.5 7527,-111.5 7765,-111.5 7765,-179.5\"/>\n<text text-anchor=\"middle\" x=\"7646\" y=\"-164.3\" font-family=\"Helvetica,sans-Serif\" font-size=\"14.00\" fill=\"#000000\">gini = 0.0</text>\n<text text-anchor=\"middle\" x=\"7646\" y=\"-149.3\" font-family=\"Helvetica,sans-Serif\" font-size=\"14.00\" fill=\"#000000\">samples = 5</text>\n<text text-anchor=\"middle\" x=\"7646\" y=\"-134.3\" font-family=\"Helvetica,sans-Serif\" font-size=\"14.00\" fill=\"#000000\">value = [0, 0, 5, 0, 0, 0]</text>\n<text text-anchor=\"middle\" x=\"7646\" y=\"-119.3\" font-family=\"Helvetica,sans-Serif\" font-size=\"14.00\" fill=\"#000000\">class = WALKING_DOWNSTAIRS</text>\n</g>\n<!-- 104&#45;&gt;106 -->\n<g id=\"edge106\" class=\"edge\">\n<title>104&#45;&gt;106</title>\n<path fill=\"none\" stroke=\"#000000\" d=\"M7553.6647,-222.8796C7567.8358,-211.0038 7583.257,-198.0804 7597.3658,-186.2568\"/>\n<polygon fill=\"#000000\" stroke=\"#000000\" points=\"7599.6363,-188.9206 7605.0528,-179.8149 7595.1402,-183.5554 7599.6363,-188.9206\"/>\n</g>\n<!-- 108 -->\n<g id=\"node109\" class=\"node\">\n<title>108</title>\n<polygon fill=\"#39e581\" stroke=\"#000000\" points=\"8021,-179.5 7783,-179.5 7783,-111.5 8021,-111.5 8021,-179.5\"/>\n<text text-anchor=\"middle\" x=\"7902\" y=\"-164.3\" font-family=\"Helvetica,sans-Serif\" font-size=\"14.00\" fill=\"#000000\">gini = 0.0</text>\n<text text-anchor=\"middle\" x=\"7902\" y=\"-149.3\" font-family=\"Helvetica,sans-Serif\" font-size=\"14.00\" fill=\"#000000\">samples = 3</text>\n<text text-anchor=\"middle\" x=\"7902\" y=\"-134.3\" font-family=\"Helvetica,sans-Serif\" font-size=\"14.00\" fill=\"#000000\">value = [0, 0, 3, 0, 0, 0]</text>\n<text text-anchor=\"middle\" x=\"7902\" y=\"-119.3\" font-family=\"Helvetica,sans-Serif\" font-size=\"14.00\" fill=\"#000000\">class = WALKING_DOWNSTAIRS</text>\n</g>\n<!-- 107&#45;&gt;108 -->\n<g id=\"edge108\" class=\"edge\">\n<title>107&#45;&gt;108</title>\n<path fill=\"none\" stroke=\"#000000\" d=\"M7902,-222.8796C7902,-212.2134 7902,-200.7021 7902,-189.9015\"/>\n<polygon fill=\"#000000\" stroke=\"#000000\" points=\"7905.5001,-189.8149 7902,-179.8149 7898.5001,-189.815 7905.5001,-189.8149\"/>\n</g>\n<!-- 109 -->\n<g id=\"node110\" class=\"node\">\n<title>109</title>\n<polygon fill=\"#e5833c\" stroke=\"#000000\" points=\"8266.5,-187 8039.5,-187 8039.5,-104 8266.5,-104 8266.5,-187\"/>\n<text text-anchor=\"middle\" x=\"8153\" y=\"-171.8\" font-family=\"Helvetica,sans-Serif\" font-size=\"14.00\" fill=\"#000000\">tBodyAcc&#45;arCoeff()&#45;X,4 &lt;= 0.607</text>\n<text text-anchor=\"middle\" x=\"8153\" y=\"-156.8\" font-family=\"Helvetica,sans-Serif\" font-size=\"14.00\" fill=\"#000000\">gini = 0.032</text>\n<text text-anchor=\"middle\" x=\"8153\" y=\"-141.8\" font-family=\"Helvetica,sans-Serif\" font-size=\"14.00\" fill=\"#000000\">samples = 61</text>\n<text text-anchor=\"middle\" x=\"8153\" y=\"-126.8\" font-family=\"Helvetica,sans-Serif\" font-size=\"14.00\" fill=\"#000000\">value = [60, 0, 1, 0, 0, 0]</text>\n<text text-anchor=\"middle\" x=\"8153\" y=\"-111.8\" font-family=\"Helvetica,sans-Serif\" font-size=\"14.00\" fill=\"#000000\">class = WALKING</text>\n</g>\n<!-- 107&#45;&gt;109 -->\n<g id=\"edge109\" class=\"edge\">\n<title>107&#45;&gt;109</title>\n<path fill=\"none\" stroke=\"#000000\" d=\"M7989.7876,-222.8796C8011.1874,-212.7339 8034.2,-201.8235 8056.001,-191.4876\"/>\n<polygon fill=\"#000000\" stroke=\"#000000\" points=\"8057.7254,-194.5435 8065.2619,-187.0969 8054.7266,-188.2184 8057.7254,-194.5435\"/>\n</g>\n<!-- 110 -->\n<g id=\"node111\" class=\"node\">\n<title>110</title>\n<polygon fill=\"#e58139\" stroke=\"#000000\" points=\"8127,-68 7957,-68 7957,0 8127,0 8127,-68\"/>\n<text text-anchor=\"middle\" x=\"8042\" y=\"-52.8\" font-family=\"Helvetica,sans-Serif\" font-size=\"14.00\" fill=\"#000000\">gini = 0.0</text>\n<text text-anchor=\"middle\" x=\"8042\" y=\"-37.8\" font-family=\"Helvetica,sans-Serif\" font-size=\"14.00\" fill=\"#000000\">samples = 60</text>\n<text text-anchor=\"middle\" x=\"8042\" y=\"-22.8\" font-family=\"Helvetica,sans-Serif\" font-size=\"14.00\" fill=\"#000000\">value = [60, 0, 0, 0, 0, 0]</text>\n<text text-anchor=\"middle\" x=\"8042\" y=\"-7.8\" font-family=\"Helvetica,sans-Serif\" font-size=\"14.00\" fill=\"#000000\">class = WALKING</text>\n</g>\n<!-- 109&#45;&gt;110 -->\n<g id=\"edge110\" class=\"edge\">\n<title>109&#45;&gt;110</title>\n<path fill=\"none\" stroke=\"#000000\" d=\"M8111.6677,-103.9815C8102.4267,-94.6989 8092.6242,-84.8522 8083.3813,-75.5677\"/>\n<polygon fill=\"#000000\" stroke=\"#000000\" points=\"8085.6457,-72.8813 8076.11,-68.2637 8080.6848,-77.82 8085.6457,-72.8813\"/>\n</g>\n<!-- 111 -->\n<g id=\"node112\" class=\"node\">\n<title>111</title>\n<polygon fill=\"#39e581\" stroke=\"#000000\" points=\"8383,-68 8145,-68 8145,0 8383,0 8383,-68\"/>\n<text text-anchor=\"middle\" x=\"8264\" y=\"-52.8\" font-family=\"Helvetica,sans-Serif\" font-size=\"14.00\" fill=\"#000000\">gini = 0.0</text>\n<text text-anchor=\"middle\" x=\"8264\" y=\"-37.8\" font-family=\"Helvetica,sans-Serif\" font-size=\"14.00\" fill=\"#000000\">samples = 1</text>\n<text text-anchor=\"middle\" x=\"8264\" y=\"-22.8\" font-family=\"Helvetica,sans-Serif\" font-size=\"14.00\" fill=\"#000000\">value = [0, 0, 1, 0, 0, 0]</text>\n<text text-anchor=\"middle\" x=\"8264\" y=\"-7.8\" font-family=\"Helvetica,sans-Serif\" font-size=\"14.00\" fill=\"#000000\">class = WALKING_DOWNSTAIRS</text>\n</g>\n<!-- 109&#45;&gt;111 -->\n<g id=\"edge111\" class=\"edge\">\n<title>109&#45;&gt;111</title>\n<path fill=\"none\" stroke=\"#000000\" d=\"M8194.3323,-103.9815C8203.5733,-94.6989 8213.3758,-84.8522 8222.6187,-75.5677\"/>\n<polygon fill=\"#000000\" stroke=\"#000000\" points=\"8225.3152,-77.82 8229.89,-68.2637 8220.3543,-72.8813 8225.3152,-77.82\"/>\n</g>\n<!-- 113 -->\n<g id=\"node114\" class=\"node\">\n<title>113</title>\n<polygon fill=\"#44e788\" stroke=\"#000000\" points=\"8708.5,-544 8465.5,-544 8465.5,-461 8708.5,-461 8708.5,-544\"/>\n<text text-anchor=\"middle\" x=\"8587\" y=\"-528.8\" font-family=\"Helvetica,sans-Serif\" font-size=\"14.00\" fill=\"#000000\">tGravityAcc&#45;arCoeff()&#45;X,3 &lt;= &#45;0.445</text>\n<text text-anchor=\"middle\" x=\"8587\" y=\"-513.8\" font-family=\"Helvetica,sans-Serif\" font-size=\"14.00\" fill=\"#000000\">gini = 0.107</text>\n<text text-anchor=\"middle\" x=\"8587\" y=\"-498.8\" font-family=\"Helvetica,sans-Serif\" font-size=\"14.00\" fill=\"#000000\">samples = 860</text>\n<text text-anchor=\"middle\" x=\"8587\" y=\"-483.8\" font-family=\"Helvetica,sans-Serif\" font-size=\"14.00\" fill=\"#000000\">value = [17, 31, 812, 0, 0, 0]</text>\n<text text-anchor=\"middle\" x=\"8587\" y=\"-468.8\" font-family=\"Helvetica,sans-Serif\" font-size=\"14.00\" fill=\"#000000\">class = WALKING_DOWNSTAIRS</text>\n</g>\n<!-- 112&#45;&gt;113 -->\n<g id=\"edge113\" class=\"edge\">\n<title>112&#45;&gt;113</title>\n<path fill=\"none\" stroke=\"#000000\" d=\"M8587,-579.8796C8587,-571.6838 8587,-562.9891 8587,-554.5013\"/>\n<polygon fill=\"#000000\" stroke=\"#000000\" points=\"8590.5001,-554.298 8587,-544.2981 8583.5001,-554.2981 8590.5001,-554.298\"/>\n</g>\n<!-- 124 -->\n<g id=\"node125\" class=\"node\">\n<title>124</title>\n<polygon fill=\"#a7e84e\" stroke=\"#000000\" points=\"9119.5,-544 8814.5,-544 8814.5,-461 9119.5,-461 9119.5,-544\"/>\n<text text-anchor=\"middle\" x=\"8967\" y=\"-528.8\" font-family=\"Helvetica,sans-Serif\" font-size=\"14.00\" fill=\"#000000\">fBodyAccJerk&#45;bandsEnergy()&#45;1,24 &lt;= &#45;0.475</text>\n<text text-anchor=\"middle\" x=\"8967\" y=\"-513.8\" font-family=\"Helvetica,sans-Serif\" font-size=\"14.00\" fill=\"#000000\">gini = 0.182</text>\n<text text-anchor=\"middle\" x=\"8967\" y=\"-498.8\" font-family=\"Helvetica,sans-Serif\" font-size=\"14.00\" fill=\"#000000\">samples = 61</text>\n<text text-anchor=\"middle\" x=\"8967\" y=\"-483.8\" font-family=\"Helvetica,sans-Serif\" font-size=\"14.00\" fill=\"#000000\">value = [2, 55, 4, 0, 0, 0]</text>\n<text text-anchor=\"middle\" x=\"8967\" y=\"-468.8\" font-family=\"Helvetica,sans-Serif\" font-size=\"14.00\" fill=\"#000000\">class = WALKING_UPSTAIRS</text>\n</g>\n<!-- 112&#45;&gt;124 -->\n<g id=\"edge124\" class=\"edge\">\n<title>112&#45;&gt;124</title>\n<path fill=\"none\" stroke=\"#000000\" d=\"M8713.5345,-581.8747C8749.11,-570.734 8788.0392,-558.543 8824.4789,-547.1316\"/>\n<polygon fill=\"#000000\" stroke=\"#000000\" points=\"8825.687,-550.4209 8834.1841,-544.0924 8823.5951,-543.7408 8825.687,-550.4209\"/>\n</g>\n<!-- 114 -->\n<g id=\"node115\" class=\"node\">\n<title>114</title>\n<polygon fill=\"#42e687\" stroke=\"#000000\" points=\"8655,-425 8341,-425 8341,-342 8655,-342 8655,-425\"/>\n<text text-anchor=\"middle\" x=\"8498\" y=\"-409.8\" font-family=\"Helvetica,sans-Serif\" font-size=\"14.00\" fill=\"#000000\">fBodyAccJerk&#45;bandsEnergy()&#45;17,32 &lt;= &#45;0.964</text>\n<text text-anchor=\"middle\" x=\"8498\" y=\"-394.8\" font-family=\"Helvetica,sans-Serif\" font-size=\"14.00\" fill=\"#000000\">gini = 0.086</text>\n<text text-anchor=\"middle\" x=\"8498\" y=\"-379.8\" font-family=\"Helvetica,sans-Serif\" font-size=\"14.00\" fill=\"#000000\">samples = 847</text>\n<text text-anchor=\"middle\" x=\"8498\" y=\"-364.8\" font-family=\"Helvetica,sans-Serif\" font-size=\"14.00\" fill=\"#000000\">value = [7, 31, 809, 0, 0, 0]</text>\n<text text-anchor=\"middle\" x=\"8498\" y=\"-349.8\" font-family=\"Helvetica,sans-Serif\" font-size=\"14.00\" fill=\"#000000\">class = WALKING_DOWNSTAIRS</text>\n</g>\n<!-- 113&#45;&gt;114 -->\n<g id=\"edge114\" class=\"edge\">\n<title>113&#45;&gt;114</title>\n<path fill=\"none\" stroke=\"#000000\" d=\"M8555.8721,-460.8796C8549.271,-452.0534 8542.2371,-442.6485 8535.4298,-433.5466\"/>\n<polygon fill=\"#000000\" stroke=\"#000000\" points=\"8538.0528,-431.2099 8529.2607,-425.2981 8532.4472,-435.4024 8538.0528,-431.2099\"/>\n</g>\n<!-- 123 -->\n<g id=\"node124\" class=\"node\">\n<title>123</title>\n<polygon fill=\"#eda774\" stroke=\"#000000\" points=\"8843,-417.5 8673,-417.5 8673,-349.5 8843,-349.5 8843,-417.5\"/>\n<text text-anchor=\"middle\" x=\"8758\" y=\"-402.3\" font-family=\"Helvetica,sans-Serif\" font-size=\"14.00\" fill=\"#000000\">gini = 0.355</text>\n<text text-anchor=\"middle\" x=\"8758\" y=\"-387.3\" font-family=\"Helvetica,sans-Serif\" font-size=\"14.00\" fill=\"#000000\">samples = 13</text>\n<text text-anchor=\"middle\" x=\"8758\" y=\"-372.3\" font-family=\"Helvetica,sans-Serif\" font-size=\"14.00\" fill=\"#000000\">value = [10, 0, 3, 0, 0, 0]</text>\n<text text-anchor=\"middle\" x=\"8758\" y=\"-357.3\" font-family=\"Helvetica,sans-Serif\" font-size=\"14.00\" fill=\"#000000\">class = WALKING</text>\n</g>\n<!-- 113&#45;&gt;123 -->\n<g id=\"edge123\" class=\"edge\">\n<title>113&#45;&gt;123</title>\n<path fill=\"none\" stroke=\"#000000\" d=\"M8646.8075,-460.8796C8664.2715,-448.7263 8683.312,-435.4759 8700.622,-423.4297\"/>\n<polygon fill=\"#000000\" stroke=\"#000000\" points=\"8702.7572,-426.208 8708.9661,-417.623 8698.7587,-420.4623 8702.7572,-426.208\"/>\n</g>\n<!-- 115 -->\n<g id=\"node116\" class=\"node\">\n<title>115</title>\n<polygon fill=\"#f8fdf1\" stroke=\"#000000\" points=\"8632.5,-306 8363.5,-306 8363.5,-223 8632.5,-223 8632.5,-306\"/>\n<text text-anchor=\"middle\" x=\"8498\" y=\"-290.8\" font-family=\"Helvetica,sans-Serif\" font-size=\"14.00\" fill=\"#000000\">fBodyAcc&#45;bandsEnergy()&#45;1,8 &lt;= &#45;0.387</text>\n<text text-anchor=\"middle\" x=\"8498\" y=\"-275.8\" font-family=\"Helvetica,sans-Serif\" font-size=\"14.00\" fill=\"#000000\">gini = 0.499</text>\n<text text-anchor=\"middle\" x=\"8498\" y=\"-260.8\" font-family=\"Helvetica,sans-Serif\" font-size=\"14.00\" fill=\"#000000\">samples = 27</text>\n<text text-anchor=\"middle\" x=\"8498\" y=\"-245.8\" font-family=\"Helvetica,sans-Serif\" font-size=\"14.00\" fill=\"#000000\">value = [0, 14, 13, 0, 0, 0]</text>\n<text text-anchor=\"middle\" x=\"8498\" y=\"-230.8\" font-family=\"Helvetica,sans-Serif\" font-size=\"14.00\" fill=\"#000000\">class = WALKING_UPSTAIRS</text>\n</g>\n<!-- 114&#45;&gt;115 -->\n<g id=\"edge115\" class=\"edge\">\n<title>114&#45;&gt;115</title>\n<path fill=\"none\" stroke=\"#000000\" d=\"M8498,-341.8796C8498,-333.6838 8498,-324.9891 8498,-316.5013\"/>\n<polygon fill=\"#000000\" stroke=\"#000000\" points=\"8501.5001,-316.298 8498,-306.2981 8494.5001,-316.2981 8501.5001,-316.298\"/>\n</g>\n<!-- 118 -->\n<g id=\"node119\" class=\"node\">\n<title>118</title>\n<polygon fill=\"#3fe685\" stroke=\"#000000\" points=\"8996,-306 8758,-306 8758,-223 8996,-223 8996,-306\"/>\n<text text-anchor=\"middle\" x=\"8877\" y=\"-290.8\" font-family=\"Helvetica,sans-Serif\" font-size=\"14.00\" fill=\"#000000\">tBodyAccJerk&#45;max()&#45;X &lt;= &#45;0.512</text>\n<text text-anchor=\"middle\" x=\"8877\" y=\"-275.8\" font-family=\"Helvetica,sans-Serif\" font-size=\"14.00\" fill=\"#000000\">gini = 0.057</text>\n<text text-anchor=\"middle\" x=\"8877\" y=\"-260.8\" font-family=\"Helvetica,sans-Serif\" font-size=\"14.00\" fill=\"#000000\">samples = 820</text>\n<text text-anchor=\"middle\" x=\"8877\" y=\"-245.8\" font-family=\"Helvetica,sans-Serif\" font-size=\"14.00\" fill=\"#000000\">value = [7, 17, 796, 0, 0, 0]</text>\n<text text-anchor=\"middle\" x=\"8877\" y=\"-230.8\" font-family=\"Helvetica,sans-Serif\" font-size=\"14.00\" fill=\"#000000\">class = WALKING_DOWNSTAIRS</text>\n</g>\n<!-- 114&#45;&gt;118 -->\n<g id=\"edge118\" class=\"edge\">\n<title>114&#45;&gt;118</title>\n<path fill=\"none\" stroke=\"#000000\" d=\"M8630.2897,-341.9631C8668.5797,-329.9407 8710.3083,-316.8385 8748.3712,-304.8874\"/>\n<polygon fill=\"#000000\" stroke=\"#000000\" points=\"8749.4726,-308.2101 8757.9649,-301.8751 8747.3756,-301.5316 8749.4726,-308.2101\"/>\n</g>\n<!-- 116 -->\n<g id=\"node117\" class=\"node\">\n<title>116</title>\n<polygon fill=\"#9de539\" stroke=\"#000000\" points=\"8497,-179.5 8285,-179.5 8285,-111.5 8497,-111.5 8497,-179.5\"/>\n<text text-anchor=\"middle\" x=\"8391\" y=\"-164.3\" font-family=\"Helvetica,sans-Serif\" font-size=\"14.00\" fill=\"#000000\">gini = 0.0</text>\n<text text-anchor=\"middle\" x=\"8391\" y=\"-149.3\" font-family=\"Helvetica,sans-Serif\" font-size=\"14.00\" fill=\"#000000\">samples = 14</text>\n<text text-anchor=\"middle\" x=\"8391\" y=\"-134.3\" font-family=\"Helvetica,sans-Serif\" font-size=\"14.00\" fill=\"#000000\">value = [0, 14, 0, 0, 0, 0]</text>\n<text text-anchor=\"middle\" x=\"8391\" y=\"-119.3\" font-family=\"Helvetica,sans-Serif\" font-size=\"14.00\" fill=\"#000000\">class = WALKING_UPSTAIRS</text>\n</g>\n<!-- 115&#45;&gt;116 -->\n<g id=\"edge116\" class=\"edge\">\n<title>115&#45;&gt;116</title>\n<path fill=\"none\" stroke=\"#000000\" d=\"M8460.5766,-222.8796C8450.2939,-211.4436 8439.1377,-199.0363 8428.8321,-187.575\"/>\n<polygon fill=\"#000000\" stroke=\"#000000\" points=\"8431.1435,-184.9108 8421.8546,-179.8149 8425.9382,-189.5912 8431.1435,-184.9108\"/>\n</g>\n<!-- 117 -->\n<g id=\"node118\" class=\"node\">\n<title>117</title>\n<polygon fill=\"#39e581\" stroke=\"#000000\" points=\"8753,-179.5 8515,-179.5 8515,-111.5 8753,-111.5 8753,-179.5\"/>\n<text text-anchor=\"middle\" x=\"8634\" y=\"-164.3\" font-family=\"Helvetica,sans-Serif\" font-size=\"14.00\" fill=\"#000000\">gini = 0.0</text>\n<text text-anchor=\"middle\" x=\"8634\" y=\"-149.3\" font-family=\"Helvetica,sans-Serif\" font-size=\"14.00\" fill=\"#000000\">samples = 13</text>\n<text text-anchor=\"middle\" x=\"8634\" y=\"-134.3\" font-family=\"Helvetica,sans-Serif\" font-size=\"14.00\" fill=\"#000000\">value = [0, 0, 13, 0, 0, 0]</text>\n<text text-anchor=\"middle\" x=\"8634\" y=\"-119.3\" font-family=\"Helvetica,sans-Serif\" font-size=\"14.00\" fill=\"#000000\">class = WALKING_DOWNSTAIRS</text>\n</g>\n<!-- 115&#45;&gt;117 -->\n<g id=\"edge117\" class=\"edge\">\n<title>115&#45;&gt;117</title>\n<path fill=\"none\" stroke=\"#000000\" d=\"M8545.5662,-222.8796C8559.0128,-211.1138 8573.6347,-198.3197 8587.0451,-186.5855\"/>\n<polygon fill=\"#000000\" stroke=\"#000000\" points=\"8589.5619,-189.034 8594.7829,-179.8149 8584.9524,-183.766 8589.5619,-189.034\"/>\n</g>\n<!-- 119 -->\n<g id=\"node120\" class=\"node\">\n<title>119</title>\n<polygon fill=\"#def6bd\" stroke=\"#000000\" points=\"8983,-179.5 8771,-179.5 8771,-111.5 8983,-111.5 8983,-179.5\"/>\n<text text-anchor=\"middle\" x=\"8877\" y=\"-164.3\" font-family=\"Helvetica,sans-Serif\" font-size=\"14.00\" fill=\"#000000\">gini = 0.48</text>\n<text text-anchor=\"middle\" x=\"8877\" y=\"-149.3\" font-family=\"Helvetica,sans-Serif\" font-size=\"14.00\" fill=\"#000000\">samples = 5</text>\n<text text-anchor=\"middle\" x=\"8877\" y=\"-134.3\" font-family=\"Helvetica,sans-Serif\" font-size=\"14.00\" fill=\"#000000\">value = [2, 3, 0, 0, 0, 0]</text>\n<text text-anchor=\"middle\" x=\"8877\" y=\"-119.3\" font-family=\"Helvetica,sans-Serif\" font-size=\"14.00\" fill=\"#000000\">class = WALKING_UPSTAIRS</text>\n</g>\n<!-- 118&#45;&gt;119 -->\n<g id=\"edge119\" class=\"edge\">\n<title>118&#45;&gt;119</title>\n<path fill=\"none\" stroke=\"#000000\" d=\"M8877,-222.8796C8877,-212.2134 8877,-200.7021 8877,-189.9015\"/>\n<polygon fill=\"#000000\" stroke=\"#000000\" points=\"8880.5001,-189.8149 8877,-179.8149 8873.5001,-189.815 8880.5001,-189.8149\"/>\n</g>\n<!-- 120 -->\n<g id=\"node121\" class=\"node\">\n<title>120</title>\n<polygon fill=\"#3ee684\" stroke=\"#000000\" points=\"9239,-187 9001,-187 9001,-104 9239,-104 9239,-187\"/>\n<text text-anchor=\"middle\" x=\"9120\" y=\"-171.8\" font-family=\"Helvetica,sans-Serif\" font-size=\"14.00\" fill=\"#000000\">tBodyAcc&#45;max()&#45;X &lt;= 0.048</text>\n<text text-anchor=\"middle\" x=\"9120\" y=\"-156.8\" font-family=\"Helvetica,sans-Serif\" font-size=\"14.00\" fill=\"#000000\">gini = 0.046</text>\n<text text-anchor=\"middle\" x=\"9120\" y=\"-141.8\" font-family=\"Helvetica,sans-Serif\" font-size=\"14.00\" fill=\"#000000\">samples = 815</text>\n<text text-anchor=\"middle\" x=\"9120\" y=\"-126.8\" font-family=\"Helvetica,sans-Serif\" font-size=\"14.00\" fill=\"#000000\">value = [5, 14, 796, 0, 0, 0]</text>\n<text text-anchor=\"middle\" x=\"9120\" y=\"-111.8\" font-family=\"Helvetica,sans-Serif\" font-size=\"14.00\" fill=\"#000000\">class = WALKING_DOWNSTAIRS</text>\n</g>\n<!-- 118&#45;&gt;120 -->\n<g id=\"edge120\" class=\"edge\">\n<title>118&#45;&gt;120</title>\n<path fill=\"none\" stroke=\"#000000\" d=\"M8961.9896,-222.8796C8982.6148,-212.7791 9004.7875,-201.9209 9025.8099,-191.626\"/>\n<polygon fill=\"#000000\" stroke=\"#000000\" points=\"9027.6168,-194.6384 9035.0584,-187.0969 9024.5381,-188.3517 9027.6168,-194.6384\"/>\n</g>\n<!-- 121 -->\n<g id=\"node122\" class=\"node\">\n<title>121</title>\n<polygon fill=\"#cef29c\" stroke=\"#000000\" points=\"9104,-68 8892,-68 8892,0 9104,0 9104,-68\"/>\n<text text-anchor=\"middle\" x=\"8998\" y=\"-52.8\" font-family=\"Helvetica,sans-Serif\" font-size=\"14.00\" fill=\"#000000\">gini = 0.444</text>\n<text text-anchor=\"middle\" x=\"8998\" y=\"-37.8\" font-family=\"Helvetica,sans-Serif\" font-size=\"14.00\" fill=\"#000000\">samples = 3</text>\n<text text-anchor=\"middle\" x=\"8998\" y=\"-22.8\" font-family=\"Helvetica,sans-Serif\" font-size=\"14.00\" fill=\"#000000\">value = [1, 2, 0, 0, 0, 0]</text>\n<text text-anchor=\"middle\" x=\"8998\" y=\"-7.8\" font-family=\"Helvetica,sans-Serif\" font-size=\"14.00\" fill=\"#000000\">class = WALKING_UPSTAIRS</text>\n</g>\n<!-- 120&#45;&gt;121 -->\n<g id=\"edge121\" class=\"edge\">\n<title>120&#45;&gt;121</title>\n<path fill=\"none\" stroke=\"#000000\" d=\"M9074.5717,-103.9815C9064.2139,-94.5151 9053.2141,-84.462 9042.8794,-75.0168\"/>\n<polygon fill=\"#000000\" stroke=\"#000000\" points=\"9045.2331,-72.4264 9035.4903,-68.2637 9040.5107,-77.5935 9045.2331,-72.4264\"/>\n</g>\n<!-- 122 -->\n<g id=\"node123\" class=\"node\">\n<title>122</title>\n<polygon fill=\"#3de684\" stroke=\"#000000\" points=\"9360,-68 9122,-68 9122,0 9360,0 9360,-68\"/>\n<text text-anchor=\"middle\" x=\"9241\" y=\"-52.8\" font-family=\"Helvetica,sans-Serif\" font-size=\"14.00\" fill=\"#000000\">gini = 0.039</text>\n<text text-anchor=\"middle\" x=\"9241\" y=\"-37.8\" font-family=\"Helvetica,sans-Serif\" font-size=\"14.00\" fill=\"#000000\">samples = 812</text>\n<text text-anchor=\"middle\" x=\"9241\" y=\"-22.8\" font-family=\"Helvetica,sans-Serif\" font-size=\"14.00\" fill=\"#000000\">value = [4, 12, 796, 0, 0, 0]</text>\n<text text-anchor=\"middle\" x=\"9241\" y=\"-7.8\" font-family=\"Helvetica,sans-Serif\" font-size=\"14.00\" fill=\"#000000\">class = WALKING_DOWNSTAIRS</text>\n</g>\n<!-- 120&#45;&gt;122 -->\n<g id=\"edge122\" class=\"edge\">\n<title>120&#45;&gt;122</title>\n<path fill=\"none\" stroke=\"#000000\" d=\"M9165.0559,-103.9815C9175.2291,-94.607 9186.0267,-84.6572 9196.1898,-75.2921\"/>\n<polygon fill=\"#000000\" stroke=\"#000000\" points=\"9198.8349,-77.6141 9203.817,-68.2637 9194.0913,-72.4663 9198.8349,-77.6141\"/>\n</g>\n<!-- 125 -->\n<g id=\"node126\" class=\"node\">\n<title>125</title>\n<polygon fill=\"#9de539\" stroke=\"#000000\" points=\"9073,-417.5 8861,-417.5 8861,-349.5 9073,-349.5 9073,-417.5\"/>\n<text text-anchor=\"middle\" x=\"8967\" y=\"-402.3\" font-family=\"Helvetica,sans-Serif\" font-size=\"14.00\" fill=\"#000000\">gini = 0.0</text>\n<text text-anchor=\"middle\" x=\"8967\" y=\"-387.3\" font-family=\"Helvetica,sans-Serif\" font-size=\"14.00\" fill=\"#000000\">samples = 55</text>\n<text text-anchor=\"middle\" x=\"8967\" y=\"-372.3\" font-family=\"Helvetica,sans-Serif\" font-size=\"14.00\" fill=\"#000000\">value = [0, 55, 0, 0, 0, 0]</text>\n<text text-anchor=\"middle\" x=\"8967\" y=\"-357.3\" font-family=\"Helvetica,sans-Serif\" font-size=\"14.00\" fill=\"#000000\">class = WALKING_UPSTAIRS</text>\n</g>\n<!-- 124&#45;&gt;125 -->\n<g id=\"edge125\" class=\"edge\">\n<title>124&#45;&gt;125</title>\n<path fill=\"none\" stroke=\"#000000\" d=\"M8967,-460.8796C8967,-450.2134 8967,-438.7021 8967,-427.9015\"/>\n<polygon fill=\"#000000\" stroke=\"#000000\" points=\"8970.5001,-427.8149 8967,-417.8149 8963.5001,-427.815 8970.5001,-427.8149\"/>\n</g>\n<!-- 126 -->\n<g id=\"node127\" class=\"node\">\n<title>126</title>\n<polygon fill=\"#9cf2c0\" stroke=\"#000000\" points=\"9329,-417.5 9091,-417.5 9091,-349.5 9329,-349.5 9329,-417.5\"/>\n<text text-anchor=\"middle\" x=\"9210\" y=\"-402.3\" font-family=\"Helvetica,sans-Serif\" font-size=\"14.00\" fill=\"#000000\">gini = 0.444</text>\n<text text-anchor=\"middle\" x=\"9210\" y=\"-387.3\" font-family=\"Helvetica,sans-Serif\" font-size=\"14.00\" fill=\"#000000\">samples = 6</text>\n<text text-anchor=\"middle\" x=\"9210\" y=\"-372.3\" font-family=\"Helvetica,sans-Serif\" font-size=\"14.00\" fill=\"#000000\">value = [2, 0, 4, 0, 0, 0]</text>\n<text text-anchor=\"middle\" x=\"9210\" y=\"-357.3\" font-family=\"Helvetica,sans-Serif\" font-size=\"14.00\" fill=\"#000000\">class = WALKING_DOWNSTAIRS</text>\n</g>\n<!-- 124&#45;&gt;126 -->\n<g id=\"edge126\" class=\"edge\">\n<title>124&#45;&gt;126</title>\n<path fill=\"none\" stroke=\"#000000\" d=\"M9051.9896,-460.8796C9077.7093,-448.2843 9105.8352,-434.5107 9131.1363,-422.1205\"/>\n<polygon fill=\"#000000\" stroke=\"#000000\" points=\"9132.8786,-425.1645 9140.3202,-417.623 9129.7999,-418.8778 9132.8786,-425.1645\"/>\n</g>\n</g>\n</svg>\n"
          },
          "metadata": {},
          "execution_count": 68
        }
      ]
    },
    {
      "cell_type": "code",
      "source": [],
      "metadata": {
        "id": "VFM2Lshmx4aS"
      },
      "execution_count": null,
      "outputs": []
    }
  ]
}